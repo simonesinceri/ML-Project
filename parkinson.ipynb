{
 "cells": [
  {
   "cell_type": "markdown",
   "metadata": {},
   "source": [
    "# Tappy Keystroke Data with Parkinson’s Patients\n",
    "\n",
    "Tappy è un'applicazione per la registrazione delle sequenze di battitura.\n",
    "\n",
    "Nel progetto verrà analizzato un dataset contenente i registri delle sequenze di tasti raccolti da oltre 200 soggetti, con e senza il morbo di Parkinson, che hanno digitato normalmente sul proprio computer per un periodo di settimane o mesi, senza supervisione.\n",
    "\n",
    "L'analisi si compone di una parte di acquisizione e pulizia dei dati, e di un'altra parte per l'utilizzo di modelli di machine learning, che hanno lo scopo di indicare che l'interazione con la tastiera può essere usata per rilevare particolarità nel movimento delle dita nelle prime fasi del morbo di Parkinson.\n",
    "\n",
    "Il dataset è stato scaricato dal link https://www.kaggle.com/datasets/valkling/tappy-keystroke-data-with-parkinsons-patients. È suddiviso a sua volta in due dataset: il primo è fornito direttamente dal software Tappy, quindi include dati come tempo di pressione e rilascio dei tasti e movimenti ottenuti dividendo virtualmente la tastiera in una zona di destra e una di sinistra; il secondo contiene informazioni sui pazienti (quali anno di nascita, sesso, e attributi riguardanti il morbo di Parkinson qualora il paziente ne fosse affetto). Tra questi, l'attributo più importante è \"Parkinsons\", che verrà usata come predizione per la classificazione binaria.\n",
    "\n",
    "Al dataset è associato un articolo preso dal sito https://journals.plos.org/plosone/article?id=10.1371/journal.pone.0188226#sec008, in cui viene spiegato il significato degli attributi. Da questo paper abbiamo tratto informazioni utili per l'acquisizione dei dati."
   ]
  },
  {
   "cell_type": "markdown",
   "metadata": {},
   "source": [
    "## Indice"
   ]
  },
  {
   "cell_type": "code",
   "execution_count": 1,
   "metadata": {},
   "outputs": [],
   "source": [
    "import numpy as np\n",
    "import pandas as pd\n",
    "import matplotlib.pyplot as plt\n",
    "import glob\n",
    "from sklearn.metrics import confusion_matrix\n",
    "from sklearn.metrics import ConfusionMatrixDisplay\n",
    "from sklearn.preprocessing import OneHotEncoder\n",
    "from sklearn.model_selection import train_test_split\n",
    "from sklearn.preprocessing import StandardScaler\n",
    "from sklearn.naive_bayes import GaussianNB\n",
    "from scipy import stats\n",
    "from sklearn.linear_model import LogisticRegression\n",
    "from sklearn.ensemble import RandomForestClassifier\n",
    "from sklearn.tree import DecisionTreeClassifier\n",
    "from sklearn.neural_network import MLPClassifier\n",
    "from sklearn.model_selection import GridSearchCV\n",
    "from sklearn.ensemble import AdaBoostClassifier\n",
    "from sklearn.model_selection import RepeatedStratifiedKFold\n",
    "from sklearn.svm import SVC\n",
    "from sklearn.ensemble import VotingClassifier\n",
    "from sklearn.neighbors import KNeighborsClassifier"
   ]
  },
  {
   "cell_type": "markdown",
   "metadata": {},
   "source": [
    "## Caricamento dataset"
   ]
  },
  {
   "cell_type": "code",
   "execution_count": 6,
   "metadata": {},
   "outputs": [],
   "source": [
    "# Creation of user_df, a DataFrame with informations about Archived Users\n",
    "\n",
    "users = []\n",
    "\n",
    "for filepath in glob.iglob('Users/Archived users/*.txt'):\n",
    "    users.append(filepath[-14:-4])\n",
    "\n",
    "user_number = len(users)    # number of users\n",
    "\n",
    "user_df = pd.DataFrame(users, columns = [\"Users\"])\n",
    "\n",
    "# Create columns\n",
    "\n",
    "col_index = []\n",
    "\n",
    "file = open('Users/Archived users/User_' + str(users[0]) + \".txt\")\n",
    "lines = file.read().split(\"\\n\")\n",
    "ll = len(lines)\n",
    "\n",
    "for l in range(ll-1):\n",
    "    sl = lines[l].split(\": \", 1)\n",
    "    col_index.append(sl[0])\n",
    "\n",
    "# Create values\n",
    "\n",
    "values_list = []\n",
    "values = []\n",
    "\n",
    "for i in range(user_number):\n",
    "    file = open('Users/Archived users/User_' + str(users[i]) + \".txt\")\n",
    "    lines = file.read().split(\"\\n\")\n",
    "    for l in range(ll-1):\n",
    "        sl = lines[l].split(\": \", 1)\n",
    "        v = sl[1]\n",
    "        values.append(v)\n",
    "    values_list.append(values)\n",
    "    values = []\n",
    "\n",
    "# Insert values in user_df\n",
    "\n",
    "value_df = pd.DataFrame(values_list, columns = col_index)\n",
    "\n",
    "user_df = pd.concat([user_df, value_df], axis = 1)\n",
    "\n",
    "# Creation of tappydata_df, a DataFrame with informations about Archived Data\n",
    "\n",
    "tappydata = []\n",
    "\n",
    "for filepath in glob.iglob('Data/Tappy Data/*.txt'):\n",
    "    file = open(filepath)\n",
    "    lines = file.read().split(\"\\n\")\n",
    "    for l in range(len(lines)-1):\n",
    "        x = lines[l]\n",
    "        x = x.split(\"\\t\")\n",
    "        tappydata.append(x)\n",
    "\n",
    "tappydata_df = pd.DataFrame(tappydata, columns = [\"Users\", \"Date\", \"Datetime\", \"TapPosition\", \"Hold\", \"Movement\", \"Latency\", \"Flight\", \"*\"])\n",
    "\n",
    "# Merge user_df with tappydata_df, joining on the attribute \"Users\"\n",
    "\n",
    "all_userdata_df = pd.merge(tappydata_df, user_df, how='inner', left_on='Users', right_on='Users')"
   ]
  },
  {
   "cell_type": "markdown",
   "metadata": {},
   "source": [
    "## Pulizia dataset\n",
    "\n",
    "Tra i pazienti con il morbo di Parkinson consideriamo solo quelli nelle prime fasi della malattia. Per questo si mantengono solo i pazienti con impatto lieve, oltre a quelli non malati.\n",
    "\n",
    "Sempre facendo fede all'articolo di riferimento, sono stati eliminati dall'analisi anche i pazienti che assumevano Levadopa.\n",
    "\n",
    "Inoltre sono stati rimossi i pazienti di cui sono stati analizzati troppi o troppi pochi dati, con lo scopo di avere un insieme di dati più consistente e bilanciato.\n",
    "\n",
    "Dopo la pulizia di questi attributi, sono state cancellate le colonne ritenute meno utili per l'addestramento.\n",
    "\n",
    "Infine si prendono in esame solo gli utenti di cui si conosce l'anno di nascita, poiché l'età è un attributo determinante e fortemente correlato alla positività al morbo di Parkinson."
   ]
  },
  {
   "cell_type": "code",
   "execution_count": 7,
   "metadata": {},
   "outputs": [],
   "source": [
    "all_userdata_df = all_userdata_df[all_userdata_df.Impact != \"Severe\"]\n",
    "all_userdata_df = all_userdata_df[all_userdata_df.Impact != \"Medium\"]\n",
    "\n",
    "all_userdata_df = all_userdata_df[all_userdata_df.Levadopa == \"False\"]\n",
    "\n",
    "counts = all_userdata_df['Users'].value_counts()\n",
    "#avg = all_userdata_df.shape[0] / len(counts)\n",
    "#print(avg)  # numero medio di tap per ogni utente\n",
    "\n",
    "#counts.plot(kind = \"hist\")\n",
    "#counts.plot(kind = \"hist\", range = [0, 50])\n",
    "\n",
    "# togliere da dopo 1000 a 100000\n",
    "\n",
    "all_userdata_df = all_userdata_df[all_userdata_df['Users'].isin(counts[counts > 1000].index)]\n",
    "all_userdata_df = all_userdata_df[all_userdata_df['Users'].isin(counts[counts < 100000].index)]\n",
    "\n",
    "#all_userdata_df.head()\n",
    "\n",
    "# non leviamo i tap con lo spazio !!!\n",
    "\n",
    "\n",
    "#all_userdata_df = all_userdata_df.drop([\"Users\", \"Date\", \"Datetime\", \"Flight\", \"*\", \"Tremors\", \"DiagnosisYear\", \"Sided\", \"UPDRS\", \"Impact\", \"Levadopa\", \"DA\", \"MAOB\", \"Other\"], axis=1)\n",
    "\n",
    "all_userdata_df.drop(all_userdata_df.loc[all_userdata_df['BirthYear']==''].index, inplace=True)\n",
    "\n",
    "# completata la pulizia"
   ]
  },
  {
   "cell_type": "code",
   "execution_count": 26,
   "metadata": {},
   "outputs": [
    {
     "name": "stdout",
     "output_type": "stream",
     "text": [
      "              Users    Date      Datetime TapPosition    Hold Movement  \\\n",
      "8596099  YQSGN9BMVK  170213  08:01:13.852           R  0084.0       LR   \n",
      "\n",
      "              Latency  Flight * BirthYear  ... Parkinsons Tremors  \\\n",
      "8596099  07YQSGN9BMVK  170213        1948  ...      False   False   \n",
      "\n",
      "        DiagnosisYear Sided       UPDRS   Impact Levadopa     DA   MAOB  Other  \n",
      "8596099        ------  None  Don't know   ------    False  False  False  False  \n",
      "\n",
      "[1 rows x 21 columns]\n"
     ]
    },
    {
     "data": {
      "text/html": [
       "<div>\n",
       "<style scoped>\n",
       "    .dataframe tbody tr th:only-of-type {\n",
       "        vertical-align: middle;\n",
       "    }\n",
       "\n",
       "    .dataframe tbody tr th {\n",
       "        vertical-align: top;\n",
       "    }\n",
       "\n",
       "    .dataframe thead th {\n",
       "        text-align: right;\n",
       "    }\n",
       "</style>\n",
       "<table border=\"1\" class=\"dataframe\">\n",
       "  <thead>\n",
       "    <tr style=\"text-align: right;\">\n",
       "      <th></th>\n",
       "      <th>Users</th>\n",
       "      <th>Date</th>\n",
       "      <th>Datetime</th>\n",
       "      <th>TapPosition</th>\n",
       "      <th>Hold</th>\n",
       "      <th>Movement</th>\n",
       "      <th>Latency</th>\n",
       "      <th>Flight</th>\n",
       "      <th>*</th>\n",
       "      <th>BirthYear</th>\n",
       "      <th>...</th>\n",
       "      <th>Parkinsons</th>\n",
       "      <th>Tremors</th>\n",
       "      <th>DiagnosisYear</th>\n",
       "      <th>Sided</th>\n",
       "      <th>UPDRS</th>\n",
       "      <th>Impact</th>\n",
       "      <th>Levadopa</th>\n",
       "      <th>DA</th>\n",
       "      <th>MAOB</th>\n",
       "      <th>Other</th>\n",
       "    </tr>\n",
       "  </thead>\n",
       "  <tbody>\n",
       "    <tr>\n",
       "      <th>8596099</th>\n",
       "      <td>YQSGN9BMVK</td>\n",
       "      <td>170213</td>\n",
       "      <td>08:01:13.852</td>\n",
       "      <td>R</td>\n",
       "      <td>0084.0</td>\n",
       "      <td>LR</td>\n",
       "      <td>07YQSGN9BMVK</td>\n",
       "      <td>170213</td>\n",
       "      <td></td>\n",
       "      <td>1948</td>\n",
       "      <td>...</td>\n",
       "      <td>False</td>\n",
       "      <td>False</td>\n",
       "      <td>------</td>\n",
       "      <td>None</td>\n",
       "      <td>Don't know</td>\n",
       "      <td>------</td>\n",
       "      <td>False</td>\n",
       "      <td>False</td>\n",
       "      <td>False</td>\n",
       "      <td>False</td>\n",
       "    </tr>\n",
       "  </tbody>\n",
       "</table>\n",
       "<p>1 rows × 21 columns</p>\n",
       "</div>"
      ],
      "text/plain": [
       "              Users    Date      Datetime TapPosition    Hold Movement  \\\n",
       "8596099  YQSGN9BMVK  170213  08:01:13.852           R  0084.0       LR   \n",
       "\n",
       "              Latency  Flight * BirthYear  ... Parkinsons Tremors  \\\n",
       "8596099  07YQSGN9BMVK  170213        1948  ...      False   False   \n",
       "\n",
       "        DiagnosisYear Sided       UPDRS   Impact Levadopa     DA   MAOB  Other  \n",
       "8596099        ------  None  Don't know   ------    False  False  False  False  \n",
       "\n",
       "[1 rows x 21 columns]"
      ]
     },
     "execution_count": 26,
     "metadata": {},
     "output_type": "execute_result"
    }
   ],
   "source": [
    "#print(len(all_userdata_df.loc[158453]))\n",
    "\n",
    "\n",
    "\n",
    "counts_Rhold = all_userdata_df[all_userdata_df[\"Latency\"] == '07YQSGN9BMVK']\n",
    "print(counts_Rhold)\n",
    "counts_Rhold.head()\n",
    "# all_userdata_df.drop(all_userdata_df.loc[all_userdata_df['Latency']=='01CAXCJIKLYM'].index, inplace=True)\n",
    "# all_userdata_df.drop(all_userdata_df.loc[all_userdata_df['Latency']=='EF9XEFXPBN'].index, inplace=True)\n",
    "# all_userdata_df.drop(all_userdata_df.loc[all_userdata_df['Latency']=='01IDYIDJBAXF'].index, inplace=True)\n",
    "# all_userdata_df.drop(all_userdata_df.loc[all_userdata_df['Latency']=='K2VMDST8HC'].index, inplace=True)\n",
    "# all_userdata_df.drop(all_userdata_df.loc[all_userdata_df['Latency']=='LSQWWDXEYO'].index, inplace=True)\n",
    "# all_userdata_df.drop(all_userdata_df.loc[all_userdata_df['Latency']=='04LSQWWDXEYO'].index, inplace=True)\n",
    "# all_userdata_df.drop(all_userdata_df.loc[all_userdata_df['Latency']=='0NMMGWRY6SO'].index, inplace=True)\n",
    "\n",
    "# all_userdata_df.drop(all_userdata_df.loc[all_userdata_df['Latency']=='08:27:14.043'].index, inplace=True)\n",
    "# all_userdata_df.drop(all_userdata_df.loc[all_userdata_df['Latency']=='01QCFNDCZPQH'].index, inplace=True)\n",
    "# all_userdata_df.drop(all_userdata_df.loc[all_userdata_df['Latency']=='09:11:16.406'].index, inplace=True)\n",
    "# all_userdata_df.drop(all_userdata_df.loc[all_userdata_df['Latency']=='S9C3TTX3NE'].index, inplace=True)\n",
    "# all_userdata_df.drop(all_userdata_df.loc[all_userdata_df['Latency']=='SOP2REQFUH'].index, inplace=True)\n",
    "\n",
    "# all_userdata_df.drop(all_userdata_df.loc[all_userdata_df['Latency']=='05SOP2REQFUH'].index, inplace=True)\n",
    "# all_userdata_df.drop(all_userdata_df.loc[all_userdata_df['Latency']=='0613.SOP2REQFUH'].index, inplace=True)\n",
    "# all_userdata_df.drop(all_userdata_df.loc[all_userdata_df['Latency']=='04TL2XHTLK1T'].index, inplace=True)\n",
    "# all_userdata_df.drop(all_userdata_df.loc[all_userdata_df['Latency']=='12:12:50.477'].index, inplace=True)\n",
    "# all_userdata_df.drop(all_userdata_df.loc[all_userdata_df['Latency']=='0218.VSBEPFSFWK'].index, inplace=True)\n",
    "\n",
    "# all_userdata_df.drop(all_userdata_df.loc[all_userdata_df['Latency']=='21:38:52.695'].index, inplace=True)\n",
    "# all_userdata_df.drop(all_userdata_df.loc[all_userdata_df['Latency']=='07YQSGN9BMVK'].index, inplace=True)\n",
    "\n",
    "\n",
    "\n"
   ]
  },
  {
   "cell_type": "code",
   "execution_count": 33,
   "metadata": {},
   "outputs": [],
   "source": [
    "# counts = all_userdata_df['Users'].value_counts()\n",
    "\n",
    "# counts_parkinson = all_userdata_df[all_userdata_df[\"Parkinsons\"] == \"True\"]\n",
    "# counts_parkinsonf = all_userdata_df[all_userdata_df[\"Parkinsons\"] == \"False\"]\n",
    "\n",
    "# counts_parkinson.nunique()\n",
    "# counts_parkinsonf.nunique()\n",
    "# print(len(counts))\n",
    "#siamo 48, 18 positivi 30 negativi"
   ]
  },
  {
   "cell_type": "code",
   "execution_count": 34,
   "metadata": {},
   "outputs": [
    {
     "data": {
      "text/html": [
       "<div>\n",
       "<style scoped>\n",
       "    .dataframe tbody tr th:only-of-type {\n",
       "        vertical-align: middle;\n",
       "    }\n",
       "\n",
       "    .dataframe tbody tr th {\n",
       "        vertical-align: top;\n",
       "    }\n",
       "\n",
       "    .dataframe thead th {\n",
       "        text-align: right;\n",
       "    }\n",
       "</style>\n",
       "<table border=\"1\" class=\"dataframe\">\n",
       "  <thead>\n",
       "    <tr style=\"text-align: right;\">\n",
       "      <th></th>\n",
       "      <th>TapPosition</th>\n",
       "      <th>Hold</th>\n",
       "      <th>Movement</th>\n",
       "      <th>Latency</th>\n",
       "      <th>Age</th>\n",
       "      <th>Gender</th>\n",
       "      <th>Parkinsons</th>\n",
       "    </tr>\n",
       "  </thead>\n",
       "  <tbody>\n",
       "    <tr>\n",
       "      <th>158453</th>\n",
       "      <td>1</td>\n",
       "      <td>78.1</td>\n",
       "      <td>0</td>\n",
       "      <td>312.5</td>\n",
       "      <td>58</td>\n",
       "      <td>0</td>\n",
       "      <td>0</td>\n",
       "    </tr>\n",
       "    <tr>\n",
       "      <th>158454</th>\n",
       "      <td>1</td>\n",
       "      <td>78.1</td>\n",
       "      <td>0</td>\n",
       "      <td>453.1</td>\n",
       "      <td>58</td>\n",
       "      <td>0</td>\n",
       "      <td>0</td>\n",
       "    </tr>\n",
       "    <tr>\n",
       "      <th>158455</th>\n",
       "      <td>1</td>\n",
       "      <td>62.5</td>\n",
       "      <td>0</td>\n",
       "      <td>414.1</td>\n",
       "      <td>58</td>\n",
       "      <td>0</td>\n",
       "      <td>0</td>\n",
       "    </tr>\n",
       "    <tr>\n",
       "      <th>158456</th>\n",
       "      <td>1</td>\n",
       "      <td>93.8</td>\n",
       "      <td>0</td>\n",
       "      <td>742.2</td>\n",
       "      <td>58</td>\n",
       "      <td>0</td>\n",
       "      <td>0</td>\n",
       "    </tr>\n",
       "    <tr>\n",
       "      <th>158457</th>\n",
       "      <td>0</td>\n",
       "      <td>101.6</td>\n",
       "      <td>1</td>\n",
       "      <td>523.4</td>\n",
       "      <td>58</td>\n",
       "      <td>0</td>\n",
       "      <td>0</td>\n",
       "    </tr>\n",
       "  </tbody>\n",
       "</table>\n",
       "</div>"
      ],
      "text/plain": [
       "        TapPosition   Hold  Movement  Latency  Age  Gender  Parkinsons\n",
       "158453            1   78.1         0    312.5   58       0           0\n",
       "158454            1   78.1         0    453.1   58       0           0\n",
       "158455            1   62.5         0    414.1   58       0           0\n",
       "158456            1   93.8         0    742.2   58       0           0\n",
       "158457            0  101.6         1    523.4   58       0           0"
      ]
     },
     "execution_count": 34,
     "metadata": {},
     "output_type": "execute_result"
    }
   ],
   "source": [
    "# le colonne ora sono: tap position (L/R), Hold, Movement, BirthYear, Gender, Parkinsons (T/F)\n",
    "# rimuovo gli utenti senza data di nascita, perche mi serve per calcolare l'eta\n",
    "\n",
    "\n",
    "# normalizzazione\n",
    "# L/R - Gender - Parkinson : devono diventare campi binari del tipo 0/1\n",
    "# movement : lo codifichiamo con onehot dividendolo in 4 colonne\n",
    "# latency - hold : sono dei float\n",
    "# age (ottenuta da 2017 - birthyear) : int\n",
    "\n",
    "\n",
    "all_userdata_df.TapPosition.replace(['R', 'L', 'S'], [0, 1, 2], inplace = True)\n",
    "\n",
    "all_userdata_df.Movement.replace(['LL', 'LR', 'RR', 'RL', 'LS', 'SL', 'RS', 'SR', 'SS'], [0, 1, 2, 3, 4, 5, 6, 7, 8], inplace = True)\n",
    "\n",
    "all_userdata_df.Hold = all_userdata_df.Hold.astype(float)\n",
    "\n",
    "all_userdata_df.Latency = all_userdata_df.Latency.astype(float)\n",
    "\n",
    "all_userdata_df.BirthYear = all_userdata_df.BirthYear.astype(int)\n",
    "all_userdata_df.BirthYear = 2017 - all_userdata_df.BirthYear\n",
    "all_userdata_df = all_userdata_df.rename(columns = {\"BirthYear\" : \"Age\"}) # in termini di eta\n",
    "\n",
    "all_userdata_df.Gender.replace(['Male', 'Female'], [1, 0], inplace=True)\n",
    "\n",
    "all_userdata_df.Parkinsons.replace(['True', 'False'], [1, 0], inplace=True)\n",
    "\n",
    "all_userdata_df.head()"
   ]
  },
  {
   "cell_type": "code",
   "execution_count": 35,
   "metadata": {},
   "outputs": [],
   "source": [
    "# onehot di tap position e movement\n",
    "\n",
    "OneHotTapPosition = pd.get_dummies(all_userdata_df.TapPosition)\n",
    "OneHotMovement = pd.get_dummies(all_userdata_df.Movement)\n",
    "\n",
    "OneHotMovement = OneHotMovement.rename(columns = {0: \"LL\", 1: \"LR\", 2: \"RR\", 3: \"RL\", 4: \"LS\", 5: \"SL\", 6: \"RS\", 7: \"SR\", 8: \"SS\"})\n",
    "all_userdata_df = all_userdata_df.drop([\"Movement\"], axis=1)\n",
    "\n",
    "OneHotTapPosition = OneHotTapPosition.rename(columns = {0: \"TapR\", 1: \"TapL\", 2: \"TapS\"})\n",
    "all_userdata_df = all_userdata_df.drop([\"TapPosition\"], axis=1)\n",
    "\n",
    "all_userdata_df = pd.concat([all_userdata_df, OneHotTapPosition, OneHotMovement], axis=1)\n",
    "\n"
   ]
  },
  {
   "cell_type": "code",
   "execution_count": 36,
   "metadata": {},
   "outputs": [
    {
     "data": {
      "text/html": [
       "<div>\n",
       "<style scoped>\n",
       "    .dataframe tbody tr th:only-of-type {\n",
       "        vertical-align: middle;\n",
       "    }\n",
       "\n",
       "    .dataframe tbody tr th {\n",
       "        vertical-align: top;\n",
       "    }\n",
       "\n",
       "    .dataframe thead th {\n",
       "        text-align: right;\n",
       "    }\n",
       "</style>\n",
       "<table border=\"1\" class=\"dataframe\">\n",
       "  <thead>\n",
       "    <tr style=\"text-align: right;\">\n",
       "      <th></th>\n",
       "      <th>Age</th>\n",
       "      <th>Hold</th>\n",
       "      <th>Latency</th>\n",
       "      <th>Gender</th>\n",
       "      <th>TapR</th>\n",
       "      <th>TapL</th>\n",
       "      <th>LL</th>\n",
       "      <th>LR</th>\n",
       "      <th>RR</th>\n",
       "      <th>RL</th>\n",
       "      <th>LS</th>\n",
       "      <th>SL</th>\n",
       "      <th>RS</th>\n",
       "      <th>SR</th>\n",
       "      <th>SS</th>\n",
       "      <th>Parkinsons</th>\n",
       "    </tr>\n",
       "  </thead>\n",
       "  <tbody>\n",
       "    <tr>\n",
       "      <th>158453</th>\n",
       "      <td>58</td>\n",
       "      <td>78.1</td>\n",
       "      <td>312.5</td>\n",
       "      <td>0</td>\n",
       "      <td>0</td>\n",
       "      <td>1</td>\n",
       "      <td>1</td>\n",
       "      <td>0</td>\n",
       "      <td>0</td>\n",
       "      <td>0</td>\n",
       "      <td>0</td>\n",
       "      <td>0</td>\n",
       "      <td>0</td>\n",
       "      <td>0</td>\n",
       "      <td>0</td>\n",
       "      <td>0</td>\n",
       "    </tr>\n",
       "    <tr>\n",
       "      <th>158454</th>\n",
       "      <td>58</td>\n",
       "      <td>78.1</td>\n",
       "      <td>453.1</td>\n",
       "      <td>0</td>\n",
       "      <td>0</td>\n",
       "      <td>1</td>\n",
       "      <td>1</td>\n",
       "      <td>0</td>\n",
       "      <td>0</td>\n",
       "      <td>0</td>\n",
       "      <td>0</td>\n",
       "      <td>0</td>\n",
       "      <td>0</td>\n",
       "      <td>0</td>\n",
       "      <td>0</td>\n",
       "      <td>0</td>\n",
       "    </tr>\n",
       "    <tr>\n",
       "      <th>158455</th>\n",
       "      <td>58</td>\n",
       "      <td>62.5</td>\n",
       "      <td>414.1</td>\n",
       "      <td>0</td>\n",
       "      <td>0</td>\n",
       "      <td>1</td>\n",
       "      <td>1</td>\n",
       "      <td>0</td>\n",
       "      <td>0</td>\n",
       "      <td>0</td>\n",
       "      <td>0</td>\n",
       "      <td>0</td>\n",
       "      <td>0</td>\n",
       "      <td>0</td>\n",
       "      <td>0</td>\n",
       "      <td>0</td>\n",
       "    </tr>\n",
       "    <tr>\n",
       "      <th>158456</th>\n",
       "      <td>58</td>\n",
       "      <td>93.8</td>\n",
       "      <td>742.2</td>\n",
       "      <td>0</td>\n",
       "      <td>0</td>\n",
       "      <td>1</td>\n",
       "      <td>1</td>\n",
       "      <td>0</td>\n",
       "      <td>0</td>\n",
       "      <td>0</td>\n",
       "      <td>0</td>\n",
       "      <td>0</td>\n",
       "      <td>0</td>\n",
       "      <td>0</td>\n",
       "      <td>0</td>\n",
       "      <td>0</td>\n",
       "    </tr>\n",
       "    <tr>\n",
       "      <th>158457</th>\n",
       "      <td>58</td>\n",
       "      <td>101.6</td>\n",
       "      <td>523.4</td>\n",
       "      <td>0</td>\n",
       "      <td>1</td>\n",
       "      <td>0</td>\n",
       "      <td>0</td>\n",
       "      <td>1</td>\n",
       "      <td>0</td>\n",
       "      <td>0</td>\n",
       "      <td>0</td>\n",
       "      <td>0</td>\n",
       "      <td>0</td>\n",
       "      <td>0</td>\n",
       "      <td>0</td>\n",
       "      <td>0</td>\n",
       "    </tr>\n",
       "    <tr>\n",
       "      <th>158458</th>\n",
       "      <td>58</td>\n",
       "      <td>93.8</td>\n",
       "      <td>203.1</td>\n",
       "      <td>0</td>\n",
       "      <td>1</td>\n",
       "      <td>0</td>\n",
       "      <td>0</td>\n",
       "      <td>0</td>\n",
       "      <td>1</td>\n",
       "      <td>0</td>\n",
       "      <td>0</td>\n",
       "      <td>0</td>\n",
       "      <td>0</td>\n",
       "      <td>0</td>\n",
       "      <td>0</td>\n",
       "      <td>0</td>\n",
       "    </tr>\n",
       "    <tr>\n",
       "      <th>158459</th>\n",
       "      <td>58</td>\n",
       "      <td>109.4</td>\n",
       "      <td>289.1</td>\n",
       "      <td>0</td>\n",
       "      <td>0</td>\n",
       "      <td>1</td>\n",
       "      <td>0</td>\n",
       "      <td>0</td>\n",
       "      <td>0</td>\n",
       "      <td>1</td>\n",
       "      <td>0</td>\n",
       "      <td>0</td>\n",
       "      <td>0</td>\n",
       "      <td>0</td>\n",
       "      <td>0</td>\n",
       "      <td>0</td>\n",
       "    </tr>\n",
       "    <tr>\n",
       "      <th>158460</th>\n",
       "      <td>58</td>\n",
       "      <td>214.8</td>\n",
       "      <td>316.4</td>\n",
       "      <td>0</td>\n",
       "      <td>1</td>\n",
       "      <td>0</td>\n",
       "      <td>0</td>\n",
       "      <td>1</td>\n",
       "      <td>0</td>\n",
       "      <td>0</td>\n",
       "      <td>0</td>\n",
       "      <td>0</td>\n",
       "      <td>0</td>\n",
       "      <td>0</td>\n",
       "      <td>0</td>\n",
       "      <td>0</td>\n",
       "    </tr>\n",
       "    <tr>\n",
       "      <th>158461</th>\n",
       "      <td>58</td>\n",
       "      <td>66.4</td>\n",
       "      <td>382.8</td>\n",
       "      <td>0</td>\n",
       "      <td>1</td>\n",
       "      <td>0</td>\n",
       "      <td>0</td>\n",
       "      <td>0</td>\n",
       "      <td>1</td>\n",
       "      <td>0</td>\n",
       "      <td>0</td>\n",
       "      <td>0</td>\n",
       "      <td>0</td>\n",
       "      <td>0</td>\n",
       "      <td>0</td>\n",
       "      <td>0</td>\n",
       "    </tr>\n",
       "    <tr>\n",
       "      <th>158462</th>\n",
       "      <td>58</td>\n",
       "      <td>93.8</td>\n",
       "      <td>562.5</td>\n",
       "      <td>0</td>\n",
       "      <td>0</td>\n",
       "      <td>1</td>\n",
       "      <td>0</td>\n",
       "      <td>0</td>\n",
       "      <td>0</td>\n",
       "      <td>1</td>\n",
       "      <td>0</td>\n",
       "      <td>0</td>\n",
       "      <td>0</td>\n",
       "      <td>0</td>\n",
       "      <td>0</td>\n",
       "      <td>0</td>\n",
       "    </tr>\n",
       "    <tr>\n",
       "      <th>158463</th>\n",
       "      <td>58</td>\n",
       "      <td>187.5</td>\n",
       "      <td>453.1</td>\n",
       "      <td>0</td>\n",
       "      <td>1</td>\n",
       "      <td>0</td>\n",
       "      <td>0</td>\n",
       "      <td>0</td>\n",
       "      <td>1</td>\n",
       "      <td>0</td>\n",
       "      <td>0</td>\n",
       "      <td>0</td>\n",
       "      <td>0</td>\n",
       "      <td>0</td>\n",
       "      <td>0</td>\n",
       "      <td>0</td>\n",
       "    </tr>\n",
       "    <tr>\n",
       "      <th>158464</th>\n",
       "      <td>58</td>\n",
       "      <td>109.4</td>\n",
       "      <td>265.6</td>\n",
       "      <td>0</td>\n",
       "      <td>1</td>\n",
       "      <td>0</td>\n",
       "      <td>0</td>\n",
       "      <td>0</td>\n",
       "      <td>1</td>\n",
       "      <td>0</td>\n",
       "      <td>0</td>\n",
       "      <td>0</td>\n",
       "      <td>0</td>\n",
       "      <td>0</td>\n",
       "      <td>0</td>\n",
       "      <td>0</td>\n",
       "    </tr>\n",
       "    <tr>\n",
       "      <th>158465</th>\n",
       "      <td>58</td>\n",
       "      <td>156.3</td>\n",
       "      <td>515.6</td>\n",
       "      <td>0</td>\n",
       "      <td>1</td>\n",
       "      <td>0</td>\n",
       "      <td>0</td>\n",
       "      <td>1</td>\n",
       "      <td>0</td>\n",
       "      <td>0</td>\n",
       "      <td>0</td>\n",
       "      <td>0</td>\n",
       "      <td>0</td>\n",
       "      <td>0</td>\n",
       "      <td>0</td>\n",
       "      <td>0</td>\n",
       "    </tr>\n",
       "    <tr>\n",
       "      <th>158466</th>\n",
       "      <td>58</td>\n",
       "      <td>109.4</td>\n",
       "      <td>515.6</td>\n",
       "      <td>0</td>\n",
       "      <td>1</td>\n",
       "      <td>0</td>\n",
       "      <td>0</td>\n",
       "      <td>0</td>\n",
       "      <td>1</td>\n",
       "      <td>0</td>\n",
       "      <td>0</td>\n",
       "      <td>0</td>\n",
       "      <td>0</td>\n",
       "      <td>0</td>\n",
       "      <td>0</td>\n",
       "      <td>0</td>\n",
       "    </tr>\n",
       "    <tr>\n",
       "      <th>158467</th>\n",
       "      <td>58</td>\n",
       "      <td>89.8</td>\n",
       "      <td>386.7</td>\n",
       "      <td>0</td>\n",
       "      <td>0</td>\n",
       "      <td>1</td>\n",
       "      <td>1</td>\n",
       "      <td>0</td>\n",
       "      <td>0</td>\n",
       "      <td>0</td>\n",
       "      <td>0</td>\n",
       "      <td>0</td>\n",
       "      <td>0</td>\n",
       "      <td>0</td>\n",
       "      <td>0</td>\n",
       "      <td>0</td>\n",
       "    </tr>\n",
       "    <tr>\n",
       "      <th>158468</th>\n",
       "      <td>58</td>\n",
       "      <td>89.8</td>\n",
       "      <td>722.7</td>\n",
       "      <td>0</td>\n",
       "      <td>0</td>\n",
       "      <td>1</td>\n",
       "      <td>1</td>\n",
       "      <td>0</td>\n",
       "      <td>0</td>\n",
       "      <td>0</td>\n",
       "      <td>0</td>\n",
       "      <td>0</td>\n",
       "      <td>0</td>\n",
       "      <td>0</td>\n",
       "      <td>0</td>\n",
       "      <td>0</td>\n",
       "    </tr>\n",
       "    <tr>\n",
       "      <th>158469</th>\n",
       "      <td>58</td>\n",
       "      <td>93.8</td>\n",
       "      <td>437.5</td>\n",
       "      <td>0</td>\n",
       "      <td>0</td>\n",
       "      <td>1</td>\n",
       "      <td>1</td>\n",
       "      <td>0</td>\n",
       "      <td>0</td>\n",
       "      <td>0</td>\n",
       "      <td>0</td>\n",
       "      <td>0</td>\n",
       "      <td>0</td>\n",
       "      <td>0</td>\n",
       "      <td>0</td>\n",
       "      <td>0</td>\n",
       "    </tr>\n",
       "    <tr>\n",
       "      <th>158470</th>\n",
       "      <td>58</td>\n",
       "      <td>113.3</td>\n",
       "      <td>554.7</td>\n",
       "      <td>0</td>\n",
       "      <td>1</td>\n",
       "      <td>0</td>\n",
       "      <td>0</td>\n",
       "      <td>1</td>\n",
       "      <td>0</td>\n",
       "      <td>0</td>\n",
       "      <td>0</td>\n",
       "      <td>0</td>\n",
       "      <td>0</td>\n",
       "      <td>0</td>\n",
       "      <td>0</td>\n",
       "      <td>0</td>\n",
       "    </tr>\n",
       "    <tr>\n",
       "      <th>158471</th>\n",
       "      <td>58</td>\n",
       "      <td>82.0</td>\n",
       "      <td>222.7</td>\n",
       "      <td>0</td>\n",
       "      <td>1</td>\n",
       "      <td>0</td>\n",
       "      <td>0</td>\n",
       "      <td>0</td>\n",
       "      <td>1</td>\n",
       "      <td>0</td>\n",
       "      <td>0</td>\n",
       "      <td>0</td>\n",
       "      <td>0</td>\n",
       "      <td>0</td>\n",
       "      <td>0</td>\n",
       "      <td>0</td>\n",
       "    </tr>\n",
       "    <tr>\n",
       "      <th>158472</th>\n",
       "      <td>58</td>\n",
       "      <td>74.2</td>\n",
       "      <td>234.4</td>\n",
       "      <td>0</td>\n",
       "      <td>0</td>\n",
       "      <td>1</td>\n",
       "      <td>0</td>\n",
       "      <td>0</td>\n",
       "      <td>0</td>\n",
       "      <td>1</td>\n",
       "      <td>0</td>\n",
       "      <td>0</td>\n",
       "      <td>0</td>\n",
       "      <td>0</td>\n",
       "      <td>0</td>\n",
       "      <td>0</td>\n",
       "    </tr>\n",
       "  </tbody>\n",
       "</table>\n",
       "</div>"
      ],
      "text/plain": [
       "        Age   Hold  Latency  Gender  TapR  TapL  LL  LR  RR  RL  LS  SL  RS  \\\n",
       "158453   58   78.1    312.5       0     0     1   1   0   0   0   0   0   0   \n",
       "158454   58   78.1    453.1       0     0     1   1   0   0   0   0   0   0   \n",
       "158455   58   62.5    414.1       0     0     1   1   0   0   0   0   0   0   \n",
       "158456   58   93.8    742.2       0     0     1   1   0   0   0   0   0   0   \n",
       "158457   58  101.6    523.4       0     1     0   0   1   0   0   0   0   0   \n",
       "158458   58   93.8    203.1       0     1     0   0   0   1   0   0   0   0   \n",
       "158459   58  109.4    289.1       0     0     1   0   0   0   1   0   0   0   \n",
       "158460   58  214.8    316.4       0     1     0   0   1   0   0   0   0   0   \n",
       "158461   58   66.4    382.8       0     1     0   0   0   1   0   0   0   0   \n",
       "158462   58   93.8    562.5       0     0     1   0   0   0   1   0   0   0   \n",
       "158463   58  187.5    453.1       0     1     0   0   0   1   0   0   0   0   \n",
       "158464   58  109.4    265.6       0     1     0   0   0   1   0   0   0   0   \n",
       "158465   58  156.3    515.6       0     1     0   0   1   0   0   0   0   0   \n",
       "158466   58  109.4    515.6       0     1     0   0   0   1   0   0   0   0   \n",
       "158467   58   89.8    386.7       0     0     1   1   0   0   0   0   0   0   \n",
       "158468   58   89.8    722.7       0     0     1   1   0   0   0   0   0   0   \n",
       "158469   58   93.8    437.5       0     0     1   1   0   0   0   0   0   0   \n",
       "158470   58  113.3    554.7       0     1     0   0   1   0   0   0   0   0   \n",
       "158471   58   82.0    222.7       0     1     0   0   0   1   0   0   0   0   \n",
       "158472   58   74.2    234.4       0     0     1   0   0   0   1   0   0   0   \n",
       "\n",
       "        SR  SS  Parkinsons  \n",
       "158453   0   0           0  \n",
       "158454   0   0           0  \n",
       "158455   0   0           0  \n",
       "158456   0   0           0  \n",
       "158457   0   0           0  \n",
       "158458   0   0           0  \n",
       "158459   0   0           0  \n",
       "158460   0   0           0  \n",
       "158461   0   0           0  \n",
       "158462   0   0           0  \n",
       "158463   0   0           0  \n",
       "158464   0   0           0  \n",
       "158465   0   0           0  \n",
       "158466   0   0           0  \n",
       "158467   0   0           0  \n",
       "158468   0   0           0  \n",
       "158469   0   0           0  \n",
       "158470   0   0           0  \n",
       "158471   0   0           0  \n",
       "158472   0   0           0  "
      ]
     },
     "execution_count": 36,
     "metadata": {},
     "output_type": "execute_result"
    }
   ],
   "source": [
    "all_userdata_df = all_userdata_df.reindex(columns = [\"Age\", \"Hold\", \"Latency\", \"Gender\", \"TapR\", \"TapL\", \"LL\", \"LR\", \"RR\", \"RL\", \"LS\", \"SL\", \"RS\", \"SR\", \"SS\", \"Parkinsons\"])\n",
    "\n",
    "\n",
    "all_userdata_df.head(20)"
   ]
  },
  {
   "cell_type": "code",
   "execution_count": 37,
   "metadata": {},
   "outputs": [
    {
     "data": {
      "image/png": "[encoded data removed]",
      "text/plain": [
       "<Figure size 432x288 with 1 Axes>"
      ]
     },
     "metadata": {},
     "output_type": "display_data"
    }
   ],
   "source": [
    "total_rows = all_userdata_df.shape\n",
    "counts_parkinson = all_userdata_df[all_userdata_df[\"Parkinsons\"] == 1].shape\n",
    "\n",
    "x = np.array([counts_parkinson[0], total_rows[0]-counts_parkinson[0]])\n",
    "label = [\"Taps from users with PD\", \"Taps from users without PD\"]\n",
    "plt.pie(x, labels = label)\n",
    "plt.show()"
   ]
  },
  {
   "cell_type": "code",
   "execution_count": 38,
   "metadata": {},
   "outputs": [
    {
     "data": {
      "text/plain": [
       "Text(0.5, 1.0, 'Parkinsons')"
      ]
     },
     "execution_count": 38,
     "metadata": {},
     "output_type": "execute_result"
    },
    {
     "data": {
      "image/png": "[encoded data removed]",
      "text/plain": [
       "<Figure size 2160x360 with 5 Axes>"
      ]
     },
     "metadata": {
      "needs_background": "light"
     },
     "output_type": "display_data"
    }
   ],
   "source": [
    "\n",
    "z_scores = stats.zscore(all_userdata_df)\n",
    "abs_z_scores = np.abs(z_scores)\n",
    "\n",
    "filtered_entries = (abs_z_scores < 3).all(axis=1)\n",
    "\n",
    "all_userdata_df = all_userdata_df[filtered_entries]\n",
    "\n",
    "# all_userdata_df.hist(bins = 10, figsize = (20,15), range = [0, 500])\n",
    "fig, axs = plt.subplots(1, 5, figsize = (30,5))\n",
    "\n",
    "axs[2].hist(all_userdata_df.Hold)\n",
    "axs[2].set_title('Hold')\n",
    "axs[3].hist(all_userdata_df.Latency)\n",
    "axs[3].set_title('Latency')\n",
    "axs[1].hist(all_userdata_df.Gender)\n",
    "axs[1].set_title('Gender')\n",
    "axs[0].hist(all_userdata_df.Age)\n",
    "axs[0].set_title('Age')\n",
    "axs[4].hist(all_userdata_df.Parkinsons)\n",
    "axs[4].set_title('Parkinsons')\n",
    "\n",
    "# # all_userdata_df.drop(all_userdata_df.loc[all_userdata_df['Hold']==812648.4].index, inplace=True)\n",
    "# # all_userdata_df.drop(all_userdata_df.loc[all_userdata_df['Hold']==84773.4].index, inplace=True)\n",
    "# # all_userdata_df.drop(all_userdata_df.loc[all_userdata_df['Hold']==4480.5].index, inplace=True)\n",
    "\n",
    "# find = all_userdata_df[all_userdata_df.Hold > 3000]\n",
    "# print(find)"
   ]
  },
  {
   "cell_type": "code",
   "execution_count": 39,
   "metadata": {},
   "outputs": [
    {
     "name": "stdout",
     "output_type": "stream",
     "text": [
      "[[ 58.   78.1 312.5 ...   0.    0.    0. ]\n",
      " [ 58.   78.1 453.1 ...   0.    0.    0. ]\n",
      " [ 58.   62.5 414.1 ...   0.    0.    0. ]\n",
      " ...\n",
      " [ 70.  171.9 343.8 ...   0.    0.    0. ]\n",
      " [ 70.  132.8 312.5 ...   0.    0.    0. ]\n",
      " [ 70.  109.4 437.5 ...   0.    0.    0. ]]\n",
      "[0 0 0 ... 1 1 1]\n"
     ]
    }
   ],
   "source": [
    "x = all_userdata_df.iloc[:, :-1].values\n",
    "y = all_userdata_df.iloc[:, -1].values\n",
    "\n",
    "print(x)\n",
    "print(y)\n",
    "\n",
    "# ho diviso tutte le colonne (x) dal target parkinsons (y)"
   ]
  },
  {
   "cell_type": "code",
   "execution_count": 40,
   "metadata": {},
   "outputs": [],
   "source": [
    "\n",
    "# splitto matrice x e array y in sottoinsiemi random di train e test, di dimensioni 4/5 e 1/5\n",
    "x_train, x_test, y_train, y_test = train_test_split(x, y, test_size = 0.25)\n",
    "\n",
    "graph = all_userdata_df.sample(n = 100)\n",
    "x_graph = graph.iloc[:, 1:3].values\n",
    "y_graph = graph.iloc[:, -1].values\n",
    "\n",
    "# print(x_train)\n",
    "# print(y_train)\n",
    "\n",
    "# print(x_test)\n",
    "# print(y_test)\n",
    "\n",
    "# print(x_graph)\n",
    "# print(y_graph)\n"
   ]
  },
  {
   "cell_type": "code",
   "execution_count": 41,
   "metadata": {},
   "outputs": [],
   "source": [
    "# import collections\n",
    "# print(len(y_train))\n",
    "# new_parkinson = collections.Counter(y_train)[1]\n",
    "# print(new_parkinson)\n"
   ]
  },
  {
   "cell_type": "code",
   "execution_count": 42,
   "metadata": {},
   "outputs": [],
   "source": [
    "# prima del modello di classificazione faccio lo scaling\n",
    "scaler = StandardScaler()\n",
    "x_train = scaler.fit_transform(x_train)\n",
    "x_test = scaler.transform(x_test)\n",
    "x_graph = scaler.fit_transform(x_graph)\n",
    "#proviamo con questo scaler dopo possiamo provare quello normaliza\n",
    "# len(x_train) \n",
    "# len(x_test) = 316643\n",
    "# len(x_graph) = 100\n",
    "\n",
    "\n"
   ]
  },
  {
   "cell_type": "code",
   "execution_count": 43,
   "metadata": {},
   "outputs": [],
   "source": [
    "# matrice di correlazione per curiosita\n",
    "\n",
    "# import seaborn as sns\n",
    "# corr = pd.concat([x, y], axis=1).corr()\n",
    "# corr_values = corr.iloc[:,15].values\n",
    "# print(\"Massima correlazione positiva con il target:\", np.max(corr_values[0:corr_values.size-1]))\n",
    "# print(\"Massima correlazione negativa con il target:\", np.min(corr_values))\n",
    "# print(pd.concat([x, y], axis=1).columns[abs(corr_values) < 0.01]) \n",
    "\n",
    "# plt.figure(figsize=(15, 16), dpi=160)\n",
    "# sns.heatmap(pd.concat([x, y], axis=1).corr(), cmap=\"bwr\")\n"
   ]
  },
  {
   "cell_type": "code",
   "execution_count": 44,
   "metadata": {},
   "outputs": [
    {
     "name": "stdout",
     "output_type": "stream",
     "text": [
      "0.7079205310535799\n",
      "0.7080465161944866\n"
     ]
    },
    {
     "data": {
      "image/png": "[encoded data removed]",
      "text/plain": [
       "<Figure size 432x288 with 2 Axes>"
      ]
     },
     "metadata": {
      "needs_background": "light"
     },
     "output_type": "display_data"
    },
    {
     "data": {
      "image/png": "[encoded data removed]",
      "text/plain": [
       "<Figure size 432x288 with 2 Axes>"
      ]
     },
     "metadata": {
      "needs_background": "light"
     },
     "output_type": "display_data"
    }
   ],
   "source": [
    "# Naive Bayes classification\n",
    "\n",
    "classifierBAYES = GaussianNB()\n",
    "classifierBAYES.fit(x_train, y_train)\n",
    "\n",
    "y_pred_BAYES0 = classifierBAYES.predict(x_train)\n",
    "y_pred_BAYES = classifierBAYES.predict(x_test)\n",
    "\n",
    "CM_BAYES0 = confusion_matrix(y_train, y_pred_BAYES0)\n",
    "PercBAYES0 = (CM_BAYES0[0,0]+CM_BAYES0[1,1])/CM_BAYES0.sum()\n",
    "\n",
    "CM_BAYES = confusion_matrix(y_test, y_pred_BAYES)\n",
    "PercBAYES = (CM_BAYES[0,0]+CM_BAYES[1,1])/CM_BAYES.sum()\n",
    "\n",
    "cmd0 = ConfusionMatrixDisplay(CM_BAYES0)\n",
    "cmd = ConfusionMatrixDisplay(CM_BAYES)\n",
    "cmd0.plot(cmap = \"Blues\")\n",
    "cmd.plot(cmap = \"Oranges\")\n",
    "\n",
    "print(PercBAYES0)\n",
    "print(PercBAYES)"
   ]
  },
  {
   "cell_type": "code",
   "execution_count": 45,
   "metadata": {},
   "outputs": [
    {
     "name": "stdout",
     "output_type": "stream",
     "text": [
      "0.6317115787062205\n",
      "0.6323049734364602\n"
     ]
    },
    {
     "data": {
      "image/png": "[encoded data removed]",
      "text/plain": [
       "<Figure size 432x288 with 2 Axes>"
      ]
     },
     "metadata": {
      "needs_background": "light"
     },
     "output_type": "display_data"
    },
    {
     "data": {
      "image/png": "[encoded data removed]",
      "text/plain": [
       "<Figure size 432x288 with 2 Axes>"
      ]
     },
     "metadata": {
      "needs_background": "light"
     },
     "output_type": "display_data"
    }
   ],
   "source": [
    "\n",
    "# qua si parte con il learning\n",
    "# pero il ragazzo di Genova dice che x_train e x_test hanno troppe righe\n",
    "# allora si riduce le dimensioni del dataset prendendo il 4% (applica test_size = 0.2 per due volte)\n",
    "\n",
    "#############\n",
    "\n",
    "\n",
    "classifierLogReg = LogisticRegression(random_state = 0)\n",
    "classifierLogReg.fit(x_train, y_train)\n",
    "\n",
    "#The algorithm has learnt on training set, now I will predict the outcomes on test set\n",
    "y_pred_LogReg0 = classifierLogReg.predict(x_train)\n",
    "y_pred_LogReg = classifierLogReg.predict(x_test)\n",
    "\n",
    "# ogni riga e un'istanza della classe vera\n",
    "# e la matrice TP FP TN FN\n",
    "CM_LogReg0 = confusion_matrix(y_train, y_pred_LogReg0)\n",
    "PercLogReg0 = (CM_LogReg0[0,0]+CM_LogReg0[1,1])/CM_LogReg0.sum()\n",
    "\n",
    "CM_LogReg = confusion_matrix(y_test, y_pred_LogReg)\n",
    "PercLogReg = (CM_LogReg[0,0]+CM_LogReg[1,1])/CM_LogReg.sum()\n",
    "# print(CM_LogReg)\n",
    "# print(CM_LogReg0)\n",
    "\n",
    "# print(PercLogReg)\n",
    "# print(PercLogReg0)\n",
    "\n",
    "cmd0 = ConfusionMatrixDisplay(CM_LogReg0)\n",
    "cmd = ConfusionMatrixDisplay(CM_LogReg)\n",
    "\n",
    "cmd0.plot(cmap = \"Blues\")\n",
    "cmd.plot(cmap = \"Oranges\")\n",
    "\n",
    "print(PercLogReg0)\n",
    "print(PercLogReg)\n",
    "\n",
    "#visual\n",
    "# from matplotlib.colors import ListedColormap\n",
    "\n",
    "# classifierLogReg_graph = LogisticRegression(random_state = 0)\n",
    "# classifierLogReg_graph.fit(x_graph, y_graph)\n",
    "\n",
    "# X_set, y_set = x_graph, y_graph\n",
    "# X1, X2 = np.meshgrid(np.arange(start = X_set[:, 0].min() - 1, stop = X_set[:, 0].max() + 1, step = 0.01),\n",
    "#                      np.arange(start = X_set[:, 1].min() - 1, stop = X_set[:, 1].max() + 1, step = 0.01))\n",
    "# plt.figure(1)\n",
    "# plt.contourf(X1, X2, classifierLogReg_graph.predict(np.array([X1.ravel(), X2.ravel()]).T).reshape(X1.shape),\n",
    "#              alpha = 0.75, cmap = ListedColormap(('red', 'green')))\n",
    "# plt.xlim(X1.min(), X1.max())\n",
    "# plt.ylim(X2.min(), X2.max())\n",
    "# for i, j in enumerate(np.unique(y_set)):\n",
    "#     plt.scatter(X_set[y_set == j, 0], X_set[y_set == j, 1],\n",
    "#                 c = ListedColormap(('red', 'green'))(i), label = j)\n",
    "# plt.title('Logistic Regression')\n",
    "# plt.xlabel('Latency')\n",
    "# plt.ylabel('Hold')\n",
    "# plt.legend()\n",
    "# plt.show()\n",
    "\n",
    "\n"
   ]
  },
  {
   "cell_type": "code",
   "execution_count": 46,
   "metadata": {},
   "outputs": [
    {
     "name": "stdout",
     "output_type": "stream",
     "text": [
      "0.8311403070176236\n",
      "0.8308606150523089\n"
     ]
    },
    {
     "data": {
      "image/png": "[encoded data removed]",
      "text/plain": [
       "<Figure size 432x288 with 2 Axes>"
      ]
     },
     "metadata": {
      "needs_background": "light"
     },
     "output_type": "display_data"
    },
    {
     "data": {
      "image/png": "[encoded data removed]",
      "text/plain": [
       "<Figure size 432x288 with 2 Axes>"
      ]
     },
     "metadata": {
      "needs_background": "light"
     },
     "output_type": "display_data"
    }
   ],
   "source": [
    "# Decision Tree classification\n",
    "\n",
    "classifierTREE = DecisionTreeClassifier(criterion = 'entropy', splitter = \"best\", max_depth = 5, random_state = 0)\n",
    "classifierTREE.fit(x_train, y_train)\n",
    "\n",
    "# provare la profondita e capire perche\n",
    "\n",
    "y_pred_TREE = classifierTREE.predict(x_test)\n",
    "y_pred_TREE0 = classifierTREE.predict(x_train)\n",
    "\n",
    "CM_TREE0 = confusion_matrix(y_train, y_pred_TREE0)\n",
    "PercTREE0 = (CM_TREE0[0,0]+CM_TREE0[1,1])/CM_TREE0.sum()\n",
    "\n",
    "CM_TREE = confusion_matrix(y_test, y_pred_TREE)\n",
    "PercTREE = (CM_TREE[0,0]+CM_TREE[1,1])/CM_TREE.sum()\n",
    "\n",
    "cmd0 = ConfusionMatrixDisplay(CM_TREE0)\n",
    "cmd = ConfusionMatrixDisplay(CM_TREE)\n",
    "cmd0.plot(cmap = \"Blues\")\n",
    "cmd.plot(cmap = \"Oranges\")\n",
    "\n",
    "print(PercTREE0)\n",
    "print(PercTREE)\n"
   ]
  },
  {
   "cell_type": "code",
   "execution_count": 47,
   "metadata": {},
   "outputs": [
    {
     "name": "stdout",
     "output_type": "stream",
     "text": [
      "0.9704000538180839\n",
      "0.9494420020290836\n"
     ]
    },
    {
     "data": {
      "image/png": "[encoded data removed]",
      "text/plain": [
       "<Figure size 432x288 with 2 Axes>"
      ]
     },
     "metadata": {
      "needs_background": "light"
     },
     "output_type": "display_data"
    },
    {
     "data": {
      "image/png": "[encoded data removed]",
      "text/plain": [
       "<Figure size 432x288 with 2 Axes>"
      ]
     },
     "metadata": {
      "needs_background": "light"
     },
     "output_type": "display_data"
    }
   ],
   "source": [
    "# Random Forest classification\n",
    "\n",
    "classifierFOR = RandomForestClassifier(n_estimators = 10, criterion = 'entropy', random_state = 0)\n",
    "classifierFOR.fit(x_train, y_train)\n",
    "\n",
    "y_pred_FOR0 = classifierFOR.predict(x_train)\n",
    "y_pred_FOR = classifierFOR.predict(x_test)\n",
    "\n",
    "CM_FOR0 = confusion_matrix(y_train, y_pred_FOR0)\n",
    "PercFOR0 = (CM_FOR0[0,0]+CM_FOR0[1,1])/CM_FOR0.sum()\n",
    "\n",
    "CM_FOR = confusion_matrix(y_test, y_pred_FOR)\n",
    "PercFOR = (CM_FOR[0,0]+CM_FOR[1,1])/CM_FOR.sum()\n",
    "\n",
    "cmd0 = ConfusionMatrixDisplay(CM_FOR0)\n",
    "cmd = ConfusionMatrixDisplay(CM_FOR)\n",
    "cmd0.plot(cmap = \"Blues\")\n",
    "cmd.plot(cmap = \"Oranges\")\n",
    "\n",
    "print(PercFOR0)\n",
    "print(PercFOR)"
   ]
  },
  {
   "cell_type": "code",
   "execution_count": 48,
   "metadata": {},
   "outputs": [],
   "source": [
    "# metric = 'recall'\n",
    "# n_folds = 5\n",
    "# scores_dict = {}\n"
   ]
  },
  {
   "cell_type": "code",
   "execution_count": 49,
   "metadata": {},
   "outputs": [],
   "source": [
    "# DIMINUIRE LA CARDINALITA DEL DATASET\n",
    "x_train, x_test, y_train, y_test = train_test_split(x_test, y_test, test_size = 0.2)\n",
    "x_train, x_test, y_train, y_test = train_test_split(x_test, y_test, test_size = 0.2)"
   ]
  },
  {
   "cell_type": "code",
   "execution_count": 50,
   "metadata": {},
   "outputs": [
    {
     "name": "stdout",
     "output_type": "stream",
     "text": [
      "0.8299867043943682\n",
      "0.8358331060812654\n"
     ]
    },
    {
     "data": {
      "image/png": "[encoded data removed]",
      "text/plain": [
       "<Figure size 432x288 with 2 Axes>"
      ]
     },
     "metadata": {
      "needs_background": "light"
     },
     "output_type": "display_data"
    },
    {
     "data": {
      "image/png": "[encoded data removed]",
      "text/plain": [
       "<Figure size 432x288 with 2 Axes>"
      ]
     },
     "metadata": {
      "needs_background": "light"
     },
     "output_type": "display_data"
    }
   ],
   "source": [
    "# Decision Tree classification\n",
    "# rifaccio dopo il taglio\n",
    "\n",
    "classifierTREE = DecisionTreeClassifier(criterion = 'entropy', splitter = \"best\", max_depth = 5, random_state = 0)\n",
    "classifierTREE.fit(x_train, y_train)\n",
    "\n",
    "# provare la profondita e capire perche\n",
    "\n",
    "y_pred_TREE = classifierTREE.predict(x_test)\n",
    "y_pred_TREE0 = classifierTREE.predict(x_train)\n",
    "\n",
    "CM_TREE0 = confusion_matrix(y_train, y_pred_TREE0)\n",
    "PercTREE0 = (CM_TREE0[0,0]+CM_TREE0[1,1])/CM_TREE0.sum()\n",
    "\n",
    "CM_TREE = confusion_matrix(y_test, y_pred_TREE)\n",
    "PercTREE = (CM_TREE[0,0]+CM_TREE[1,1])/CM_TREE.sum()\n",
    "\n",
    "cmd0 = ConfusionMatrixDisplay(CM_TREE0)\n",
    "cmd = ConfusionMatrixDisplay(CM_TREE)\n",
    "cmd0.plot(cmap = \"Blues\")\n",
    "cmd.plot(cmap = \"Oranges\")\n",
    "\n",
    "print(PercTREE0)\n",
    "print(PercTREE)\n"
   ]
  },
  {
   "cell_type": "code",
   "execution_count": 51,
   "metadata": {},
   "outputs": [
    {
     "name": "stdout",
     "output_type": "stream",
     "text": [
      "0.9869771247400538\n",
      "0.9196891191709845\n"
     ]
    },
    {
     "data": {
      "image/png": "[encoded data removed]",
      "text/plain": [
       "<Figure size 432x288 with 2 Axes>"
      ]
     },
     "metadata": {
      "needs_background": "light"
     },
     "output_type": "display_data"
    },
    {
     "data": {
      "image/png": "[encoded data removed]",
      "text/plain": [
       "<Figure size 432x288 with 2 Axes>"
      ]
     },
     "metadata": {
      "needs_background": "light"
     },
     "output_type": "display_data"
    }
   ],
   "source": [
    "# Random Forest classification\n",
    "# rifaccio dopo il taglio\n",
    "\n",
    "classifierFOR = RandomForestClassifier(n_estimators = 10, criterion = 'entropy', random_state = 0)\n",
    "classifierFOR.fit(x_train, y_train)\n",
    "\n",
    "y_pred_FOR0 = classifierFOR.predict(x_train)\n",
    "y_pred_FOR = classifierFOR.predict(x_test)\n",
    "\n",
    "CM_FOR0 = confusion_matrix(y_train, y_pred_FOR0)\n",
    "PercFOR0 = (CM_FOR0[0,0]+CM_FOR0[1,1])/CM_FOR0.sum()\n",
    "\n",
    "CM_FOR = confusion_matrix(y_test, y_pred_FOR)\n",
    "PercFOR = (CM_FOR[0,0]+CM_FOR[1,1])/CM_FOR.sum()\n",
    "\n",
    "cmd0 = ConfusionMatrixDisplay(CM_FOR0)\n",
    "cmd = ConfusionMatrixDisplay(CM_FOR)\n",
    "cmd0.plot(cmap = \"Blues\")\n",
    "cmd.plot(cmap = \"Oranges\")\n",
    "\n",
    "print(PercFOR0)\n",
    "print(PercFOR)"
   ]
  },
  {
   "cell_type": "code",
   "execution_count": 52,
   "metadata": {},
   "outputs": [
    {
     "name": "stderr",
     "output_type": "stream",
     "text": [
      "c:\\Users\\tagli\\anaconda3\\lib\\site-packages\\sklearn\\neural_network\\_multilayer_perceptron.py:692: ConvergenceWarning: Stochastic Optimizer: Maximum iterations (50) reached and the optimization hasn't converged yet.\n",
      "  warnings.warn(\n"
     ]
    },
    {
     "name": "stdout",
     "output_type": "stream",
     "text": [
      "0.8918964988238502\n",
      "0.8866921188982819\n"
     ]
    },
    {
     "data": {
      "image/png": "[encoded data removed]",
      "text/plain": [
       "<Figure size 432x288 with 2 Axes>"
      ]
     },
     "metadata": {
      "needs_background": "light"
     },
     "output_type": "display_data"
    },
    {
     "data": {
      "image/png": "[encoded data removed]",
      "text/plain": [
       "<Figure size 432x288 with 2 Axes>"
      ]
     },
     "metadata": {
      "needs_background": "light"
     },
     "output_type": "display_data"
    }
   ],
   "source": [
    "# altri metodi : chi piu ne ha piu ne metta\n",
    "\n",
    "# Multiple Layer Perceptron\n",
    "# -------------------------------------------------------------------\n",
    "\n",
    "\n",
    "classifierMLPr = MLPClassifier(hidden_layer_sizes = (10, 10, 10), activation = \"relu\", max_iter=50) # relu act\n",
    "# classifierMLPr = MLPClassifier(hidden_layer_sizes = (10, 10, 10), activation = \"tanh\", max_iter=50) # tanh act\n",
    "# classifierMLPr = MLPClassifier(hidden_layer_sizes = (10, 10, 10), activation = \"identity\", max_iter=50) # identity act LUI FA CAGARE ATTENZIONE\n",
    "# classifierMLPr = MLPClassifier(hidden_layer_sizes = (10, 10, 10), activation = \"logistic\", max_iter=50) # logistic act\n",
    "\n",
    "\n",
    "classifierMLPr.fit(x_train, y_train)\n",
    "\n",
    "y_pred_MLPr0 = classifierMLPr.predict(x_train)\n",
    "y_pred_MLPr = classifierMLPr.predict(x_test)\n",
    "\n",
    "CM_MLPr0 = confusion_matrix(y_train, y_pred_MLPr0)\n",
    "PercMLPr0 = (CM_MLPr0[0,0] + CM_MLPr0[1,1])/CM_MLPr0.sum()\n",
    "\n",
    "CM_MLPr = confusion_matrix(y_test, y_pred_MLPr)\n",
    "PercMLPr = (CM_MLPr[0,0] + CM_MLPr[1,1])/CM_MLPr.sum()\n",
    "\n",
    "cmd0 = ConfusionMatrixDisplay(CM_MLPr0)\n",
    "cmd = ConfusionMatrixDisplay(CM_MLPr)\n",
    "cmd0.plot(cmap = \"Blues\")\n",
    "cmd.plot(cmap = \"Oranges\")\n",
    "\n",
    "print(PercMLPr0)\n",
    "print(PercMLPr)"
   ]
  },
  {
   "cell_type": "code",
   "execution_count": 53,
   "metadata": {},
   "outputs": [
    {
     "name": "stdout",
     "output_type": "stream",
     "text": [
      "Best: 0.906124 using {'learning_rate': 1, 'n_estimators': 200}\n",
      "0.715440 (0.005512) with: {'learning_rate': 0.001, 'n_estimators': 200}\n",
      "0.818498 (0.007172) with: {'learning_rate': 0.01, 'n_estimators': 200}\n",
      "0.875180 (0.006368) with: {'learning_rate': 0.1, 'n_estimators': 200}\n",
      "0.906124 (0.005148) with: {'learning_rate': 1, 'n_estimators': 200}\n"
     ]
    }
   ],
   "source": [
    "# ADABOOST v1\n",
    "\n",
    "\n",
    "classifierADA = AdaBoostClassifier()\n",
    "\n",
    "grid = dict()\n",
    "grid['n_estimators'] = [200]\n",
    "grid['learning_rate'] = [.001, .01, .1, 1]\n",
    "# define the evaluation procedure\n",
    "cv = RepeatedStratifiedKFold(n_splits = 10, n_repeats = 3, random_state = 1)\n",
    "# define the grid search procedure\n",
    "grid_search = GridSearchCV(estimator = classifierADA, param_grid = grid, n_jobs = -1, cv = cv, scoring = 'accuracy')\n",
    "# execute the grid search\n",
    "grid_result = grid_search.fit(x_train, y_train)\n",
    "# summarize the best score and configuration\n",
    "print(\"Best: %f using %s\" % (grid_result.best_score_ , grid_result.best_params_))\n",
    "# summarize all scores that were evaluated\n",
    "means = grid_result.cv_results_['mean_test_score']\n",
    "stds = grid_result.cv_results_['std_test_score']\n",
    "params = grid_result.cv_results_['params']\n",
    "for mean, stdev, param in zip(means, stds, params):\n",
    "    print(\"%f (%f) with: %r\" % (mean, stdev, param))"
   ]
  },
  {
   "cell_type": "code",
   "execution_count": 54,
   "metadata": {},
   "outputs": [
    {
     "name": "stdout",
     "output_type": "stream",
     "text": [
      "0.9042375481539563\n",
      "0.9029179165530407\n"
     ]
    },
    {
     "data": {
      "image/png": "[encoded data removed]",
      "text/plain": [
       "<Figure size 432x288 with 2 Axes>"
      ]
     },
     "metadata": {
      "needs_background": "light"
     },
     "output_type": "display_data"
    },
    {
     "data": {
      "image/png": "[encoded data removed]",
      "text/plain": [
       "<Figure size 432x288 with 2 Axes>"
      ]
     },
     "metadata": {
      "needs_background": "light"
     },
     "output_type": "display_data"
    }
   ],
   "source": [
    "# ADABOOST v2\n",
    "\n",
    "\n",
    "classifierAB = AdaBoostClassifier()\n",
    "classifierAB.fit(x_train, y_train)\n",
    "\n",
    "y_pred_AB0 = classifierAB.predict(x_train)\n",
    "y_pred_AB = classifierAB.predict(x_test)\n",
    "\n",
    "CM_AB0 = confusion_matrix(y_train, y_pred_AB0)\n",
    "PercAB0 = (CM_AB0[0,0] + CM_AB0[1,1])/CM_AB0.sum()\n",
    "\n",
    "CM_AB = confusion_matrix(y_test, y_pred_AB)\n",
    "PercAB = (CM_AB[0,0] + CM_AB[1,1])/CM_AB.sum()\n",
    "\n",
    "cmd0 = ConfusionMatrixDisplay(CM_AB0)\n",
    "cmd = ConfusionMatrixDisplay(CM_AB)\n",
    "cmd0.plot(cmap = \"Blues\")\n",
    "cmd.plot(cmap = \"Oranges\")\n",
    "\n",
    "print(PercAB0)\n",
    "print(PercAB)"
   ]
  },
  {
   "cell_type": "code",
   "execution_count": 55,
   "metadata": {},
   "outputs": [
    {
     "name": "stdout",
     "output_type": "stream",
     "text": [
      "0.80520233184468\n",
      "0.8026997545677665\n"
     ]
    },
    {
     "data": {
      "image/png": "[encoded data removed]",
      "text/plain": [
       "<Figure size 432x288 with 2 Axes>"
      ]
     },
     "metadata": {
      "needs_background": "light"
     },
     "output_type": "display_data"
    },
    {
     "data": {
      "image/png": "[encoded data removed]",
      "text/plain": [
       "<Figure size 432x288 with 2 Axes>"
      ]
     },
     "metadata": {
      "needs_background": "light"
     },
     "output_type": "display_data"
    }
   ],
   "source": [
    "# SVM to fit algorithm\n",
    "\n",
    "classifierSVC = SVC(kernel = 'rbf', random_state = 0)\n",
    "classifierSVC.fit(x_train, y_train)\n",
    "\n",
    "y_pred_SVMK0 = classifierSVC.predict(x_train)\n",
    "y_pred_SVMK = classifierSVC.predict(x_test)\n",
    "\n",
    "CM_SVMK0 = confusion_matrix(y_train, y_pred_SVMK0)\n",
    "PercSVMK0 = (CM_SVMK0[0,0]+CM_SVMK0[1,1])/CM_SVMK0.sum()\n",
    "\n",
    "CM_SVMK = confusion_matrix(y_test, y_pred_SVMK)\n",
    "PercSVMK = (CM_SVMK[0,0]+CM_SVMK[1,1])/CM_SVMK.sum()\n",
    "\n",
    "cmd0 = ConfusionMatrixDisplay(CM_SVMK0)\n",
    "cmd = ConfusionMatrixDisplay(CM_SVMK)\n",
    "cmd0.plot(cmap = \"Blues\")\n",
    "cmd.plot(cmap = \"Oranges\")\n",
    "\n",
    "print(PercSVMK0)\n",
    "print(PercSVMK)"
   ]
  },
  {
   "cell_type": "code",
   "execution_count": 56,
   "metadata": {},
   "outputs": [
    {
     "name": "stdout",
     "output_type": "stream",
     "text": [
      "0.9247605086421437\n",
      "0.8910553586037633\n"
     ]
    },
    {
     "data": {
      "image/png": "[encoded data removed]",
      "text/plain": [
       "<Figure size 432x288 with 2 Axes>"
      ]
     },
     "metadata": {
      "needs_background": "light"
     },
     "output_type": "display_data"
    },
    {
     "data": {
      "image/png": "[encoded data removed]",
      "text/plain": [
       "<Figure size 432x288 with 2 Axes>"
      ]
     },
     "metadata": {
      "needs_background": "light"
     },
     "output_type": "display_data"
    }
   ],
   "source": [
    "# KNN to fit algorithm\n",
    "\n",
    "classifierKNN = KNeighborsClassifier(n_neighbors = 5, metric = 'minkowski', p = 2)\n",
    "classifierKNN.fit(x_train, y_train)\n",
    "\n",
    "y_pred_KNN0 = classifierKNN.predict(x_train)\n",
    "y_pred_KNN = classifierKNN.predict(x_test)\n",
    "\n",
    "CM_KNN0 = confusion_matrix(y_train, y_pred_KNN0)\n",
    "PercKNN0 = (CM_KNN0[0,0]+CM_KNN0[1,1])/CM_KNN0.sum()\n",
    "\n",
    "CM_KNN = confusion_matrix(y_test, y_pred_KNN)\n",
    "PercKNN = (CM_KNN[0,0]+CM_KNN[1,1])/CM_KNN.sum()\n",
    "\n",
    "cmd0 = ConfusionMatrixDisplay(CM_KNN0)\n",
    "cmd = ConfusionMatrixDisplay(CM_KNN)\n",
    "cmd0.plot(cmap = \"Blues\")\n",
    "cmd.plot(cmap = \"Oranges\")\n",
    "\n",
    "print(PercKNN0)\n",
    "print(PercKNN)"
   ]
  },
  {
   "cell_type": "code",
   "execution_count": 57,
   "metadata": {},
   "outputs": [
    {
     "name": "stdout",
     "output_type": "stream",
     "text": [
      "0.8627825316196776\n",
      "0.8560130897191165\n"
     ]
    },
    {
     "data": {
      "image/png": "[encoded data removed]",
      "text/plain": [
       "<Figure size 432x288 with 2 Axes>"
      ]
     },
     "metadata": {
      "needs_background": "light"
     },
     "output_type": "display_data"
    },
    {
     "data": {
      "image/png": "[encoded data removed]",
      "text/plain": [
       "<Figure size 432x288 with 2 Axes>"
      ]
     },
     "metadata": {
      "needs_background": "light"
     },
     "output_type": "display_data"
    }
   ],
   "source": [
    "# Ensemble voting\n",
    "\n",
    "Models = []\n",
    "Models.append(('KNN', classifierKNN))\n",
    "Models.append(('SVC', classifierSVC))\n",
    "Models.append(('Tree', classifierTREE))\n",
    "# Models.append(('Logistic', classifierLogReg))\n",
    "# Models.append(('Bayes', classifierBAYES))\n",
    "# by removing these last two classifiers, performances increase\n",
    "\n",
    "ensemble = VotingClassifier(Models)\n",
    "ensemble = ensemble.fit(x_train, y_train)\n",
    "\n",
    "y_pred_ENS0 = ensemble.predict(x_train)\n",
    "y_pred_ENS = ensemble.predict(x_test)\n",
    "\n",
    "CM_ENS0 = confusion_matrix(y_train, y_pred_ENS0)\n",
    "PercENS0 = (CM_ENS0[0,0]+CM_ENS0[1,1])/CM_ENS0.sum()\n",
    "\n",
    "CM_ENS = confusion_matrix(y_test, y_pred_ENS)\n",
    "PercENS = (CM_ENS[0,0]+CM_ENS[1,1])/CM_ENS.sum()\n",
    "\n",
    "cmd0 = ConfusionMatrixDisplay(CM_ENS0)\n",
    "cmd = ConfusionMatrixDisplay(CM_ENS)\n",
    "cmd0.plot(cmap = \"Blues\")\n",
    "cmd.plot(cmap = \"Oranges\")\n",
    "\n",
    "print(PercENS0)\n",
    "print(PercENS)"
   ]
  },
  {
   "cell_type": "code",
   "execution_count": 58,
   "metadata": {},
   "outputs": [],
   "source": [
    "##### Parte dedicata alla visualizzazione (plot, grafici ecc)\n",
    "\n",
    "# mago forest visualization\n",
    "# from matplotlib.colors import ListedColormap\n",
    "\n",
    "# classifierFOR_graph = RandomForestClassifier(n_estimators = 10, criterion = 'entropy', random_state = 0)\n",
    "# classifierFOR_graph.fit(x_graph, y_graph)\n",
    "\n",
    "# X_set, y_set = x_graph, y_graph\n",
    "# X1, X2 = np.meshgrid(np.arange(start = X_set[:, 0].min() - 1, stop = X_set[:, 0].max() + 1, step = 0.01),\n",
    "#                      np.arange(start = X_set[:, 1].min() - 1, stop = X_set[:, 1].max() + 1, step = 0.01))\n",
    "# plt.figure(4)\n",
    "# plt.contourf(X1, X2, classifierFOR_graph.predict(np.array([X1.ravel(), X2.ravel()]).T).reshape(X1.shape),\n",
    "#              alpha = 0.75, cmap = ListedColormap(('red', 'green')))\n",
    "# plt.xlim(X1.min(), X1.max())\n",
    "# plt.ylim(X2.min(), X2.max())\n",
    "# for i, j in enumerate(np.unique(y_set)):\n",
    "#     plt.scatter(X_set[y_set == j, 0], X_set[y_set == j, 1],\n",
    "#                 c = ListedColormap(('red', 'green'))(i), label = j)\n",
    "# plt.title('Random Forest')\n",
    "# plt.xlabel('Latency')\n",
    "# plt.ylabel('Hold')\n",
    "# plt.legend()\n",
    "# plt.show()"
   ]
  },
  {
   "cell_type": "markdown",
   "metadata": {},
   "source": [
    "manca:\n",
    "parte di plot\n",
    "conclusioni\n",
    "descrizioni metodi\n",
    "descrizione parte preprocessing e outlier\n",
    "possibile feature selection\n",
    "\n",
    "fare notebook con parti in md"
   ]
  }
 ],
 "metadata": {
  "kernelspec": {
   "display_name": "Python 3.9.12 ('base')",
   "language": "python",
   "name": "python3"
  },
  "language_info": {
   "codemirror_mode": {
    "name": "ipython",
    "version": 3
   },
   "file_extension": ".py",
   "mimetype": "text/x-python",
   "name": "python",
   "nbconvert_exporter": "python",
   "pygments_lexer": "ipython3",
   "version": "3.9.12"
  },
  "orig_nbformat": 4,
  "vscode": {
   "interpreter": {
    "hash": "91bb753b057673435fb8d6f6a083e6c818364728098c7ae050ca3a25357dd754"
   }
  }
 },
 "nbformat": 4,
 "nbformat_minor": 2
}
