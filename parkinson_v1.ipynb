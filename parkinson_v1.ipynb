{
 "cells": [
  {
   "cell_type": "markdown",
   "metadata": {},
   "source": [
    "# Tappy Keystroke Data with Parkinson’s Patients\n",
    "\n",
    "Il task dell'analisi del dataset Tappy Keystroke è una classificazione binaria sui dati acquisiti da Tappy, un'applicazione per la registrazione delle sequenze di battitura.\n",
    "\n",
    "Nel progetto verrà analizzato un dataset contenente i registri delle sequenze di tasti raccolti da oltre 200 soggetti, con e senza il morbo di Parkinson, che hanno digitato normalmente sul proprio computer per un periodo di settimane o mesi, senza supervisione.\n",
    "\n",
    "L'analisi si compone di una parte di acquisizione e pulizia dei dati, e di un'altra parte per l'utilizzo di modelli di machine learning, che hanno lo scopo di indicare che l'interazione con la tastiera può essere usata per rilevare particolarità nel movimento delle dita nelle prime fasi del morbo di Parkinson.\n",
    "\n",
    "Il dataset è stato scaricato dal link https://www.kaggle.com/datasets/valkling/tappy-keystroke-data-with-parkinsons-patients. È suddiviso a sua volta in due dataset: il primo è fornito direttamente dal software Tappy, quindi include dati come tempo di pressione e rilascio dei tasti e movimenti ottenuti dividendo virtualmente la tastiera in una zona di destra e una di sinistra; il secondo contiene informazioni sui pazienti (quali anno di nascita, sesso, e attributi riguardanti il morbo di Parkinson qualora il paziente ne fosse affetto). Tra questi, l'attributo più importante è \"Parkinsons\", che verrà usata come predizione per la classificazione binaria."
   ]
  },
  {
   "cell_type": "markdown",
   "metadata": {},
   "source": [
    "## Versione 1\n",
    "In questa versione l'elemento che viene preso in considerazione per la classificazione è il **singolo tap** dell'utente, caratterizzato da un tempo di hold (tempo di pressione) e latency (intervallo tra il tap attuale e quello successivo)."
   ]
  },
  {
   "cell_type": "markdown",
   "metadata": {},
   "source": [
    "## Indice\n",
    "\n",
    "### • Set iniziale di feature\n",
    "\n",
    "### • Caricamento dataset\n",
    "- Pulizia dataset\n",
    "- Feature selection\n",
    "- Individuazione e rimozione degli outliers\n",
    "\n",
    "### • Preprocessing\n",
    "- Train e Test\n",
    "- Scaling\n",
    "- Bilanciamento\n",
    "\n",
    "### • Classificazione\n",
    "- Naive Bayes\n",
    "- Logistic Regression\n",
    "- Decision Tree (prima e dopo il taglio)\n",
    "- Random Forest (prima e dopo il taglio)\n",
    "- Multiple Layer Perceptron\n",
    "- Adaboost\n",
    "- SVM\n",
    "- K-Nearest Neighbors\n",
    "- Ensemble Voting\n",
    "\n",
    "### • Considerazioni v1"
   ]
  },
  {
   "cell_type": "markdown",
   "metadata": {},
   "source": [
    "### Set iniziale di features\n",
    "Come accennato sopra, per ogni utente si hanno a disposizione due insiemi di informazioni: il primo, contenuto in un file chiamato *user_idutente* associato a ogni utente tramite il suo identificativo, con delle caratteristiche legate alla malattia; il secondo, contenuto in più file chiamati *idutente_data*, con le caratteristiche legate alla pressione dei singoli tasti.\n",
    "\n",
    "I file *user_idutente* sono del tipo:\n",
    "* BirthYear:      xxxx\n",
    "* Gender:         M/F\n",
    "* Parkinsons:     se all'utente è stato diagnosticato il morbo di Parkinson\n",
    "* Tremors:        se l'utente ha tremori alle mani\n",
    "* DiagnosisYear:  eventuale anno di diagnosi della malattia\n",
    "* Sided:          lateralità della malattia\n",
    "* UPDRS:          Unified Parkinson's Disease Rating Scale\n",
    "* Impact:         stato di avanzamento della malattia\n",
    "* Levadopa:       se l'utente assume o meno il farmaco Levadopa\n",
    "* DA:             se l'utente assume o meno il farmaco Dopamine Agonist\n",
    "* MAOB:           se l'utente assume o meno il farmaco MAO-B inhibitor\n",
    "* Other:          se l'utente assume o meno il farmaco altri farmaci\n",
    "\n",
    "I file *idutente_data* sono organizzati in colonne il cui significato, da sinistra a destra è:\n",
    "* identificativo del paziente\n",
    "* data di acquisizione\n",
    "* ora di acquisizione\n",
    "* zona della tastiera in cui si trova il tasto premuto\n",
    "* tempo di pressione (hold)\n",
    "* sequenza del tasto attuale e il precedente (movement)\n",
    "* distanza temporale tra la digitazione attuale e la precedente (latency)\n",
    "* latency - hold (flight time)\n",
    "\n",
    "Questa quantità di dati iniziali verrà poi sottoposta a processi di feature selection e feature extraction."
   ]
  },
  {
   "cell_type": "code",
   "execution_count": 1,
   "metadata": {},
   "outputs": [],
   "source": [
    "import numpy as np\n",
    "import pandas as pd\n",
    "import matplotlib.pyplot as plt\n",
    "import glob\n",
    "from scipy.stats import skew, kurtosis\n",
    "from sklearn.metrics import confusion_matrix\n",
    "from sklearn.metrics import ConfusionMatrixDisplay\n",
    "from sklearn.preprocessing import OneHotEncoder\n",
    "from sklearn.model_selection import train_test_split\n",
    "from sklearn.preprocessing import StandardScaler\n",
    "from sklearn.naive_bayes import GaussianNB\n",
    "from scipy import stats\n",
    "from sklearn.linear_model import LogisticRegression\n",
    "from sklearn.ensemble import RandomForestClassifier\n",
    "from sklearn.tree import DecisionTreeClassifier\n",
    "from sklearn.neural_network import MLPClassifier\n",
    "from sklearn.model_selection import GridSearchCV\n",
    "from sklearn.ensemble import AdaBoostClassifier\n",
    "from sklearn.model_selection import RepeatedStratifiedKFold\n",
    "from sklearn.svm import SVC\n",
    "from imblearn.over_sampling import SMOTE, RandomOverSampler\n",
    "from sklearn.ensemble import VotingClassifier\n",
    "from sklearn.neighbors import KNeighborsClassifier\n",
    "from sklearn.metrics import plot_confusion_matrix"
   ]
  },
  {
   "cell_type": "markdown",
   "metadata": {},
   "source": [
    "### Caricamento dataset\n",
    "Dopo aver creato due DataFrame a partire dai dati di Kaggle, questi vengono uniti tramite *merge* per creare un DataFrame intero, che sarà il punto di partenza del processamento dei dati.\n",
    "\n",
    "In particolare, si sono associate ad ogni riga dei file *idutente_data* (ovvero ad ogni tap) le informazioni contenute nei file *user_idutente*, eseguendo un merge proprio sull'id utente."
   ]
  },
  {
   "cell_type": "code",
   "execution_count": 2,
   "metadata": {},
   "outputs": [],
   "source": [
    "# Creation of user_df, a DataFrame with informations about Archived Users\n",
    "\n",
    "users = []\n",
    "\n",
    "for filepath in glob.iglob('Users/Archived users/*.txt'):\n",
    "    users.append(filepath[-14:-4])\n",
    "\n",
    "user_number = len(users)    # number of users\n",
    "\n",
    "user_df = pd.DataFrame(users, columns = [\"Users\"])\n",
    "\n",
    "# Create columns\n",
    "\n",
    "col_index = []\n",
    "\n",
    "file = open('Users/Archived users/User_' + str(users[0]) + \".txt\")\n",
    "lines = file.read().split(\"\\n\")\n",
    "ll = len(lines)\n",
    "\n",
    "for l in range(ll-1):\n",
    "    sl = lines[l].split(\": \", 1)\n",
    "    col_index.append(sl[0])\n",
    "\n",
    "# Create values\n",
    "\n",
    "values_list = []\n",
    "values = []\n",
    "\n",
    "for i in range(user_number):\n",
    "    file = open('Users/Archived users/User_' + str(users[i]) + \".txt\")\n",
    "    lines = file.read().split(\"\\n\")\n",
    "    for l in range(ll-1):\n",
    "        sl = lines[l].split(\": \", 1)\n",
    "        v = sl[1]\n",
    "        values.append(v)\n",
    "    values_list.append(values)\n",
    "    values = []\n",
    "\n",
    "# Insert values in user_df\n",
    "\n",
    "value_df = pd.DataFrame(values_list, columns = col_index)\n",
    "\n",
    "user_df = pd.concat([user_df, value_df], axis = 1)\n",
    "\n",
    "# Creation of tappydata_df, a DataFrame with informations about Archived Data\n",
    "\n",
    "tappydata = []\n",
    "\n",
    "for filepath in glob.iglob('Data/Tappy Data/*.txt'):\n",
    "    file = open(filepath)\n",
    "    lines = file.read().split(\"\\n\")\n",
    "    for l in range(len(lines)-1):\n",
    "        x = lines[l]\n",
    "        x = x.split(\"\\t\")\n",
    "        tappydata.append(x)\n",
    "\n",
    "tappydata_df = pd.DataFrame(tappydata, columns = [\"Users\", \"Date\", \"Datetime\", \"TapPosition\", \"Hold\", \"Movement\", \"Latency\", \"Flight\", \"*\"])\n",
    "\n",
    "# Merge user_df with tappydata_df, joining on the attribute \"Users\"\n",
    "\n",
    "all_userdata_df = pd.merge(tappydata_df, user_df, how='inner', left_on='Users', right_on='Users')"
   ]
  },
  {
   "cell_type": "markdown",
   "metadata": {},
   "source": [
    "#### Pulizia dataset\n",
    "\n",
    "In una prima fase di scrematura delle informazioni a nostra disposizione, sono state effettuate delle scelte riguardo quali utenti considerare nel nostro processo di addestramento e quali no. Prima di analizzare in dettaglio tali scelte, è opportuno specificare che queste sono state dettate dalla volontà di dare maggiore credibilità alla predizione.\n",
    "\n",
    "In primo luogo, tra i pazienti a cui è stato diagnosticato il morbo di Parkinson sono stati tenuti in considerazione solo quelli la cui malattia si trova in uno stato primordiale. A tal proposito sono stati mantenuti solo i pazienti con campo impact di valore _mild_, oltre a quelli non malati. Proseguendo in questa direzione sono stati eliminati dall'analisi anche i pazienti che assumevano Levadopa, poiché, tendenzialmente, se un paziente è affetto dalla malattia in uno stato non grave, non gli viene somministrato tale farmaco.\n",
    "\n",
    "Una decisione di carattere più tecnico è stata quella di rimuovere i pazienti di cui sono stati collezionati troppi o troppi pochi dati di digitazione, con lo scopo di avere un insieme di dati più consistente e bilanciato."
   ]
  },
  {
   "cell_type": "markdown",
   "metadata": {},
   "source": [
    "#### Feature selection\n",
    "In una seconda fase di organizzazione delle informazioni si è ritenuto opportuno eliminare alcune feature che risultavano meno utili per l'addestramento. Queste sono:\n",
    "- Users: visto che in questa prima versione stiamo classificando sul singolo tap, l'id utente è superfluo\n",
    "- Date\n",
    "- Datetime\n",
    "- Flight: per definizione può essere calcolato a partire da latency e hold, perciò risulta ridondante\n",
    "- '*': è una colonna vuota che viene generata al momento dell'importazione del file csv\n",
    "- tremors\n",
    "- diagnosisYear\n",
    "- Sided\n",
    "- UPDRS\n",
    "- Impact\n",
    "- Levadopa\n",
    "- DA\n",
    "- MAOB\n",
    "- Other\n",
    "\n",
    "Gli ultimi 9 attributi sono stati considerati non utili, in quanto si vuole fare la predizione solo in base ai tap, senza utilizzare altre informazioni.\n",
    "\n",
    "Infine si prendono in esame solo gli utenti di cui si conosce l'anno di nascita, poiché l'età è un attributo determinante e correlato alla positività al morbo di Parkinson."
   ]
  },
  {
   "cell_type": "code",
   "execution_count": 3,
   "metadata": {},
   "outputs": [],
   "source": [
    "# consider users with mild severity (if positives)\n",
    "all_userdata_df = all_userdata_df[all_userdata_df.Impact != \"Severe\"]\n",
    "all_userdata_df = all_userdata_df[all_userdata_df.Impact != \"Medium\"]\n",
    "\n",
    "# consider users who do not take Levadopa\n",
    "all_userdata_df = all_userdata_df[all_userdata_df.Levadopa == \"False\"]\n",
    "\n",
    "counts = all_userdata_df['Users'].value_counts()\n",
    "#avg = all_userdata_df.shape[0] / len(counts)\n",
    "#print(avg)  # average number of taps per user\n",
    "\n",
    "# only consider users which have >1000 and <100000 taps\n",
    "all_userdata_df = all_userdata_df[all_userdata_df['Users'].isin(counts[counts > 1000].index)]\n",
    "all_userdata_df = all_userdata_df[all_userdata_df['Users'].isin(counts[counts < 100000].index)]\n",
    "\n",
    "all_userdata_df = all_userdata_df.drop([\"Users\", \"Date\", \"Datetime\", \"Flight\", \"*\", \"Tremors\", \"DiagnosisYear\", \"Sided\", \"UPDRS\", \"Impact\", \"Levadopa\", \"DA\", \"MAOB\", \"Other\"], axis=1)\n",
    "\n",
    "# remove users which BirthYear is unknown\n",
    "all_userdata_df.drop(all_userdata_df.loc[all_userdata_df['BirthYear']==''].index, inplace=True)"
   ]
  },
  {
   "cell_type": "code",
   "execution_count": 4,
   "metadata": {},
   "outputs": [
    {
     "data": {
      "text/html": [
       "<div>\n",
       "<style scoped>\n",
       "    .dataframe tbody tr th:only-of-type {\n",
       "        vertical-align: middle;\n",
       "    }\n",
       "\n",
       "    .dataframe tbody tr th {\n",
       "        vertical-align: top;\n",
       "    }\n",
       "\n",
       "    .dataframe thead th {\n",
       "        text-align: right;\n",
       "    }\n",
       "</style>\n",
       "<table border=\"1\" class=\"dataframe\">\n",
       "  <thead>\n",
       "    <tr style=\"text-align: right;\">\n",
       "      <th></th>\n",
       "      <th>TapPosition</th>\n",
       "      <th>Hold</th>\n",
       "      <th>Movement</th>\n",
       "      <th>Latency</th>\n",
       "      <th>BirthYear</th>\n",
       "      <th>Gender</th>\n",
       "      <th>Parkinsons</th>\n",
       "    </tr>\n",
       "  </thead>\n",
       "  <tbody>\n",
       "    <tr>\n",
       "      <th>158453</th>\n",
       "      <td>L</td>\n",
       "      <td>0078.1</td>\n",
       "      <td>LL</td>\n",
       "      <td>0312.5</td>\n",
       "      <td>1959</td>\n",
       "      <td>Female</td>\n",
       "      <td>False</td>\n",
       "    </tr>\n",
       "    <tr>\n",
       "      <th>158454</th>\n",
       "      <td>L</td>\n",
       "      <td>0078.1</td>\n",
       "      <td>LL</td>\n",
       "      <td>0453.1</td>\n",
       "      <td>1959</td>\n",
       "      <td>Female</td>\n",
       "      <td>False</td>\n",
       "    </tr>\n",
       "    <tr>\n",
       "      <th>158455</th>\n",
       "      <td>L</td>\n",
       "      <td>0062.5</td>\n",
       "      <td>LL</td>\n",
       "      <td>0414.1</td>\n",
       "      <td>1959</td>\n",
       "      <td>Female</td>\n",
       "      <td>False</td>\n",
       "    </tr>\n",
       "    <tr>\n",
       "      <th>158456</th>\n",
       "      <td>L</td>\n",
       "      <td>0093.8</td>\n",
       "      <td>LL</td>\n",
       "      <td>0742.2</td>\n",
       "      <td>1959</td>\n",
       "      <td>Female</td>\n",
       "      <td>False</td>\n",
       "    </tr>\n",
       "    <tr>\n",
       "      <th>158457</th>\n",
       "      <td>R</td>\n",
       "      <td>0101.6</td>\n",
       "      <td>LR</td>\n",
       "      <td>0523.4</td>\n",
       "      <td>1959</td>\n",
       "      <td>Female</td>\n",
       "      <td>False</td>\n",
       "    </tr>\n",
       "  </tbody>\n",
       "</table>\n",
       "</div>"
      ],
      "text/plain": [
       "       TapPosition    Hold Movement Latency BirthYear  Gender Parkinsons\n",
       "158453           L  0078.1       LL  0312.5      1959  Female      False\n",
       "158454           L  0078.1       LL  0453.1      1959  Female      False\n",
       "158455           L  0062.5       LL  0414.1      1959  Female      False\n",
       "158456           L  0093.8       LL  0742.2      1959  Female      False\n",
       "158457           R  0101.6       LR  0523.4      1959  Female      False"
      ]
     },
     "execution_count": 4,
     "metadata": {},
     "output_type": "execute_result"
    }
   ],
   "source": [
    "all_userdata_df.head()"
   ]
  },
  {
   "cell_type": "markdown",
   "metadata": {},
   "source": [
    "##### Istogramma per i tap degli utenti\n",
    "Al variare del range considerato (l'ultimo è quello che viene preso in esame per l'analisi)."
   ]
  },
  {
   "cell_type": "code",
   "execution_count": 5,
   "metadata": {},
   "outputs": [
    {
     "data": {
      "text/plain": [
       "(array([28.,  8.,  2.,  2.,  6.,  2.,  3.,  2.,  0.,  1.]),\n",
       " array([  1000.,  10900.,  20800.,  30700.,  40600.,  50500.,  60400.,\n",
       "         70300.,  80200.,  90100., 100000.]),\n",
       " <BarContainer object of 10 artists>)"
      ]
     },
     "execution_count": 5,
     "metadata": {},
     "output_type": "execute_result"
    },
    {
     "data": {
      "image/png": "[encoded data removed]",
      "text/plain": [
       "<Figure size 2160x360 with 4 Axes>"
      ]
     },
     "metadata": {
      "needs_background": "light"
     },
     "output_type": "display_data"
    }
   ],
   "source": [
    "fig, axs = plt.subplots(1, 4, figsize = (30,5))\n",
    "axs[0].hist(counts)\n",
    "axs[1].hist(counts, range = [0, 10000], color = \"red\")\n",
    "axs[2].hist(counts, range = [0, 2000], color = \"green\")\n",
    "axs[3].hist(counts, range = [1000, 100000], color = \"orange\") # area of interest"
   ]
  },
  {
   "cell_type": "markdown",
   "metadata": {},
   "source": [
    "Vengono convertiti tutti i dati, da Object a Float (Hold e Latency), Int (BirthYear), Boolean (Gender e Parkinsons) per poter effettuare calcoli sui valori delle feature."
   ]
  },
  {
   "cell_type": "code",
   "execution_count": 5,
   "metadata": {},
   "outputs": [],
   "source": [
    "# convert and normalize\n",
    "\n",
    "all_userdata_df.Hold = all_userdata_df.Hold.astype(float)\n",
    "\n",
    "all_userdata_df.Latency = all_userdata_df.Latency.astype(float)\n",
    "\n",
    "all_userdata_df.BirthYear = all_userdata_df.BirthYear.astype(int)\n",
    "all_userdata_df.BirthYear = 2017 - all_userdata_df.BirthYear\n",
    "all_userdata_df = all_userdata_df.rename(columns = {\"BirthYear\" : \"Age\"}) # in terms of ages\n",
    "\n",
    "all_userdata_df.Gender.replace(['Male', 'Female'], [1, 0], inplace=True)\n",
    "\n",
    "all_userdata_df.Parkinsons.replace(['True', 'False'], [1, 0], inplace=True)"
   ]
  },
  {
   "cell_type": "code",
   "execution_count": 6,
   "metadata": {},
   "outputs": [
    {
     "data": {
      "text/html": [
       "<div>\n",
       "<style scoped>\n",
       "    .dataframe tbody tr th:only-of-type {\n",
       "        vertical-align: middle;\n",
       "    }\n",
       "\n",
       "    .dataframe tbody tr th {\n",
       "        vertical-align: top;\n",
       "    }\n",
       "\n",
       "    .dataframe thead th {\n",
       "        text-align: right;\n",
       "    }\n",
       "</style>\n",
       "<table border=\"1\" class=\"dataframe\">\n",
       "  <thead>\n",
       "    <tr style=\"text-align: right;\">\n",
       "      <th></th>\n",
       "      <th>TapPosition</th>\n",
       "      <th>Hold</th>\n",
       "      <th>Movement</th>\n",
       "      <th>Latency</th>\n",
       "      <th>Age</th>\n",
       "      <th>Gender</th>\n",
       "      <th>Parkinsons</th>\n",
       "    </tr>\n",
       "  </thead>\n",
       "  <tbody>\n",
       "    <tr>\n",
       "      <th>158453</th>\n",
       "      <td>L</td>\n",
       "      <td>78.1</td>\n",
       "      <td>LL</td>\n",
       "      <td>312.5</td>\n",
       "      <td>58</td>\n",
       "      <td>0</td>\n",
       "      <td>0</td>\n",
       "    </tr>\n",
       "    <tr>\n",
       "      <th>158454</th>\n",
       "      <td>L</td>\n",
       "      <td>78.1</td>\n",
       "      <td>LL</td>\n",
       "      <td>453.1</td>\n",
       "      <td>58</td>\n",
       "      <td>0</td>\n",
       "      <td>0</td>\n",
       "    </tr>\n",
       "    <tr>\n",
       "      <th>158455</th>\n",
       "      <td>L</td>\n",
       "      <td>62.5</td>\n",
       "      <td>LL</td>\n",
       "      <td>414.1</td>\n",
       "      <td>58</td>\n",
       "      <td>0</td>\n",
       "      <td>0</td>\n",
       "    </tr>\n",
       "    <tr>\n",
       "      <th>158456</th>\n",
       "      <td>L</td>\n",
       "      <td>93.8</td>\n",
       "      <td>LL</td>\n",
       "      <td>742.2</td>\n",
       "      <td>58</td>\n",
       "      <td>0</td>\n",
       "      <td>0</td>\n",
       "    </tr>\n",
       "    <tr>\n",
       "      <th>158457</th>\n",
       "      <td>R</td>\n",
       "      <td>101.6</td>\n",
       "      <td>LR</td>\n",
       "      <td>523.4</td>\n",
       "      <td>58</td>\n",
       "      <td>0</td>\n",
       "      <td>0</td>\n",
       "    </tr>\n",
       "  </tbody>\n",
       "</table>\n",
       "</div>"
      ],
      "text/plain": [
       "       TapPosition   Hold Movement  Latency  Age  Gender  Parkinsons\n",
       "158453           L   78.1       LL    312.5   58       0           0\n",
       "158454           L   78.1       LL    453.1   58       0           0\n",
       "158455           L   62.5       LL    414.1   58       0           0\n",
       "158456           L   93.8       LL    742.2   58       0           0\n",
       "158457           R  101.6       LR    523.4   58       0           0"
      ]
     },
     "execution_count": 6,
     "metadata": {},
     "output_type": "execute_result"
    }
   ],
   "source": [
    "all_userdata_df.head()"
   ]
  },
  {
   "cell_type": "markdown",
   "metadata": {},
   "source": [
    "Normalizzazione e conversione delle restanti feature."
   ]
  },
  {
   "cell_type": "code",
   "execution_count": 7,
   "metadata": {},
   "outputs": [
    {
     "data": {
      "text/html": [
       "<div>\n",
       "<style scoped>\n",
       "    .dataframe tbody tr th:only-of-type {\n",
       "        vertical-align: middle;\n",
       "    }\n",
       "\n",
       "    .dataframe tbody tr th {\n",
       "        vertical-align: top;\n",
       "    }\n",
       "\n",
       "    .dataframe thead th {\n",
       "        text-align: right;\n",
       "    }\n",
       "</style>\n",
       "<table border=\"1\" class=\"dataframe\">\n",
       "  <thead>\n",
       "    <tr style=\"text-align: right;\">\n",
       "      <th></th>\n",
       "      <th>TapPosition</th>\n",
       "      <th>Hold</th>\n",
       "      <th>Movement</th>\n",
       "      <th>Latency</th>\n",
       "      <th>Age</th>\n",
       "      <th>Gender</th>\n",
       "      <th>Parkinsons</th>\n",
       "    </tr>\n",
       "  </thead>\n",
       "  <tbody>\n",
       "    <tr>\n",
       "      <th>158453</th>\n",
       "      <td>1</td>\n",
       "      <td>78.1</td>\n",
       "      <td>0</td>\n",
       "      <td>312.5</td>\n",
       "      <td>58</td>\n",
       "      <td>0</td>\n",
       "      <td>0</td>\n",
       "    </tr>\n",
       "    <tr>\n",
       "      <th>158454</th>\n",
       "      <td>1</td>\n",
       "      <td>78.1</td>\n",
       "      <td>0</td>\n",
       "      <td>453.1</td>\n",
       "      <td>58</td>\n",
       "      <td>0</td>\n",
       "      <td>0</td>\n",
       "    </tr>\n",
       "    <tr>\n",
       "      <th>158455</th>\n",
       "      <td>1</td>\n",
       "      <td>62.5</td>\n",
       "      <td>0</td>\n",
       "      <td>414.1</td>\n",
       "      <td>58</td>\n",
       "      <td>0</td>\n",
       "      <td>0</td>\n",
       "    </tr>\n",
       "    <tr>\n",
       "      <th>158456</th>\n",
       "      <td>1</td>\n",
       "      <td>93.8</td>\n",
       "      <td>0</td>\n",
       "      <td>742.2</td>\n",
       "      <td>58</td>\n",
       "      <td>0</td>\n",
       "      <td>0</td>\n",
       "    </tr>\n",
       "    <tr>\n",
       "      <th>158457</th>\n",
       "      <td>0</td>\n",
       "      <td>101.6</td>\n",
       "      <td>1</td>\n",
       "      <td>523.4</td>\n",
       "      <td>58</td>\n",
       "      <td>0</td>\n",
       "      <td>0</td>\n",
       "    </tr>\n",
       "  </tbody>\n",
       "</table>\n",
       "</div>"
      ],
      "text/plain": [
       "        TapPosition   Hold  Movement  Latency  Age  Gender  Parkinsons\n",
       "158453            1   78.1         0    312.5   58       0           0\n",
       "158454            1   78.1         0    453.1   58       0           0\n",
       "158455            1   62.5         0    414.1   58       0           0\n",
       "158456            1   93.8         0    742.2   58       0           0\n",
       "158457            0  101.6         1    523.4   58       0           0"
      ]
     },
     "execution_count": 7,
     "metadata": {},
     "output_type": "execute_result"
    }
   ],
   "source": [
    "# L/R - Gender - Parkinson will become binary fields\n",
    "# movement : codified with onehot encoder\n",
    "# latency - hold : float\n",
    "# age (2017 - birthyear) : int\n",
    "\n",
    "all_userdata_df.TapPosition.replace(['R', 'L', 'S'], [0, 1, 2], inplace = True)\n",
    "\n",
    "all_userdata_df.Movement.replace(['LL', 'LR', 'RR', 'RL', 'LS', 'SL', 'RS', 'SR', 'SS'], [0, 1, 2, 3, 4, 5, 6, 7, 8], inplace = True)\n",
    "\n",
    "all_userdata_df.head()"
   ]
  },
  {
   "cell_type": "markdown",
   "metadata": {},
   "source": [
    "OneHot encoding delle feature TapPosition e Movement."
   ]
  },
  {
   "cell_type": "code",
   "execution_count": 8,
   "metadata": {},
   "outputs": [
    {
     "data": {
      "text/html": [
       "<div>\n",
       "<style scoped>\n",
       "    .dataframe tbody tr th:only-of-type {\n",
       "        vertical-align: middle;\n",
       "    }\n",
       "\n",
       "    .dataframe tbody tr th {\n",
       "        vertical-align: top;\n",
       "    }\n",
       "\n",
       "    .dataframe thead th {\n",
       "        text-align: right;\n",
       "    }\n",
       "</style>\n",
       "<table border=\"1\" class=\"dataframe\">\n",
       "  <thead>\n",
       "    <tr style=\"text-align: right;\">\n",
       "      <th></th>\n",
       "      <th>Age</th>\n",
       "      <th>Hold</th>\n",
       "      <th>Latency</th>\n",
       "      <th>Gender</th>\n",
       "      <th>TapR</th>\n",
       "      <th>TapL</th>\n",
       "      <th>LL</th>\n",
       "      <th>LR</th>\n",
       "      <th>RR</th>\n",
       "      <th>RL</th>\n",
       "      <th>LS</th>\n",
       "      <th>SL</th>\n",
       "      <th>RS</th>\n",
       "      <th>SR</th>\n",
       "      <th>SS</th>\n",
       "      <th>Parkinsons</th>\n",
       "    </tr>\n",
       "  </thead>\n",
       "  <tbody>\n",
       "    <tr>\n",
       "      <th>158453</th>\n",
       "      <td>58</td>\n",
       "      <td>78.1</td>\n",
       "      <td>312.5</td>\n",
       "      <td>0</td>\n",
       "      <td>0</td>\n",
       "      <td>1</td>\n",
       "      <td>1</td>\n",
       "      <td>0</td>\n",
       "      <td>0</td>\n",
       "      <td>0</td>\n",
       "      <td>0</td>\n",
       "      <td>0</td>\n",
       "      <td>0</td>\n",
       "      <td>0</td>\n",
       "      <td>0</td>\n",
       "      <td>0</td>\n",
       "    </tr>\n",
       "    <tr>\n",
       "      <th>158454</th>\n",
       "      <td>58</td>\n",
       "      <td>78.1</td>\n",
       "      <td>453.1</td>\n",
       "      <td>0</td>\n",
       "      <td>0</td>\n",
       "      <td>1</td>\n",
       "      <td>1</td>\n",
       "      <td>0</td>\n",
       "      <td>0</td>\n",
       "      <td>0</td>\n",
       "      <td>0</td>\n",
       "      <td>0</td>\n",
       "      <td>0</td>\n",
       "      <td>0</td>\n",
       "      <td>0</td>\n",
       "      <td>0</td>\n",
       "    </tr>\n",
       "    <tr>\n",
       "      <th>158455</th>\n",
       "      <td>58</td>\n",
       "      <td>62.5</td>\n",
       "      <td>414.1</td>\n",
       "      <td>0</td>\n",
       "      <td>0</td>\n",
       "      <td>1</td>\n",
       "      <td>1</td>\n",
       "      <td>0</td>\n",
       "      <td>0</td>\n",
       "      <td>0</td>\n",
       "      <td>0</td>\n",
       "      <td>0</td>\n",
       "      <td>0</td>\n",
       "      <td>0</td>\n",
       "      <td>0</td>\n",
       "      <td>0</td>\n",
       "    </tr>\n",
       "    <tr>\n",
       "      <th>158456</th>\n",
       "      <td>58</td>\n",
       "      <td>93.8</td>\n",
       "      <td>742.2</td>\n",
       "      <td>0</td>\n",
       "      <td>0</td>\n",
       "      <td>1</td>\n",
       "      <td>1</td>\n",
       "      <td>0</td>\n",
       "      <td>0</td>\n",
       "      <td>0</td>\n",
       "      <td>0</td>\n",
       "      <td>0</td>\n",
       "      <td>0</td>\n",
       "      <td>0</td>\n",
       "      <td>0</td>\n",
       "      <td>0</td>\n",
       "    </tr>\n",
       "    <tr>\n",
       "      <th>158457</th>\n",
       "      <td>58</td>\n",
       "      <td>101.6</td>\n",
       "      <td>523.4</td>\n",
       "      <td>0</td>\n",
       "      <td>1</td>\n",
       "      <td>0</td>\n",
       "      <td>0</td>\n",
       "      <td>1</td>\n",
       "      <td>0</td>\n",
       "      <td>0</td>\n",
       "      <td>0</td>\n",
       "      <td>0</td>\n",
       "      <td>0</td>\n",
       "      <td>0</td>\n",
       "      <td>0</td>\n",
       "      <td>0</td>\n",
       "    </tr>\n",
       "  </tbody>\n",
       "</table>\n",
       "</div>"
      ],
      "text/plain": [
       "        Age   Hold  Latency  Gender  TapR  TapL  LL  LR  RR  RL  LS  SL  RS  \\\n",
       "158453   58   78.1    312.5       0     0     1   1   0   0   0   0   0   0   \n",
       "158454   58   78.1    453.1       0     0     1   1   0   0   0   0   0   0   \n",
       "158455   58   62.5    414.1       0     0     1   1   0   0   0   0   0   0   \n",
       "158456   58   93.8    742.2       0     0     1   1   0   0   0   0   0   0   \n",
       "158457   58  101.6    523.4       0     1     0   0   1   0   0   0   0   0   \n",
       "\n",
       "        SR  SS  Parkinsons  \n",
       "158453   0   0           0  \n",
       "158454   0   0           0  \n",
       "158455   0   0           0  \n",
       "158456   0   0           0  \n",
       "158457   0   0           0  "
      ]
     },
     "execution_count": 8,
     "metadata": {},
     "output_type": "execute_result"
    }
   ],
   "source": [
    "# onehot of tap position e movement\n",
    "\n",
    "OneHotTapPosition = pd.get_dummies(all_userdata_df.TapPosition)\n",
    "OneHotMovement = pd.get_dummies(all_userdata_df.Movement)\n",
    "\n",
    "OneHotMovement = OneHotMovement.rename(columns = {0: \"LL\", 1: \"LR\", 2: \"RR\", 3: \"RL\", 4: \"LS\", 5: \"SL\", 6: \"RS\", 7: \"SR\", 8: \"SS\"})\n",
    "all_userdata_df = all_userdata_df.drop([\"Movement\"], axis=1)\n",
    "\n",
    "OneHotTapPosition = OneHotTapPosition.rename(columns = {0: \"TapR\", 1: \"TapL\", 2: \"TapS\"})\n",
    "all_userdata_df = all_userdata_df.drop([\"TapPosition\"], axis=1)\n",
    "\n",
    "all_userdata_df = pd.concat([all_userdata_df, OneHotTapPosition, OneHotMovement], axis=1)\n",
    "\n",
    "all_userdata_df = all_userdata_df.reindex(columns = [\"Age\", \"Hold\", \"Latency\", \"Gender\", \"TapR\", \"TapL\", \"LL\", \"LR\", \"RR\", \"RL\", \"LS\", \"SL\", \"RS\", \"SR\", \"SS\", \"Parkinsons\"])\n",
    "\n",
    "all_userdata_df.head()"
   ]
  },
  {
   "cell_type": "markdown",
   "metadata": {},
   "source": [
    "Pie plot per i pazienti con e senza morbo di Parkinson."
   ]
  },
  {
   "cell_type": "code",
   "execution_count": 9,
   "metadata": {},
   "outputs": [
    {
     "data": {
      "image/png": "[encoded data removed]",
      "text/plain": [
       "<Figure size 576x576 with 1 Axes>"
      ]
     },
     "metadata": {},
     "output_type": "display_data"
    }
   ],
   "source": [
    "total_rows = all_userdata_df.shape\n",
    "counts_parkinson = all_userdata_df[all_userdata_df[\"Parkinsons\"] == 1].shape\n",
    "\n",
    "x = np.array([counts_parkinson[0], total_rows[0]-counts_parkinson[0]])\n",
    "label = [\"Positive\", \"Negative\"]\n",
    "plt.figure(figsize=(8,8), facecolor = \"white\")\n",
    "\n",
    "plt.pie(x, labels = label, autopct='%1.1f%%')\n",
    "plt.title(\"Parkinsons Percentage\")\n",
    "plt.legend(x, title=\"Parkinsons Amount\", loc=\"center left\", bbox_to_anchor=(1, 0, 0.5, 1))\n",
    "plt.show()"
   ]
  },
  {
   "cell_type": "markdown",
   "metadata": {},
   "source": [
    "#### Individuazione e rimozione degli outliers\n",
    "Ci sono valori anomali delle feature. Questi vengono rimossi, mantenendo i punti che hanno un valore di deviazione standard inferiore a 3."
   ]
  },
  {
   "cell_type": "code",
   "execution_count": 10,
   "metadata": {},
   "outputs": [
    {
     "data": {
      "text/html": [
       "<div>\n",
       "<style scoped>\n",
       "    .dataframe tbody tr th:only-of-type {\n",
       "        vertical-align: middle;\n",
       "    }\n",
       "\n",
       "    .dataframe tbody tr th {\n",
       "        vertical-align: top;\n",
       "    }\n",
       "\n",
       "    .dataframe thead th {\n",
       "        text-align: right;\n",
       "    }\n",
       "</style>\n",
       "<table border=\"1\" class=\"dataframe\">\n",
       "  <thead>\n",
       "    <tr style=\"text-align: right;\">\n",
       "      <th></th>\n",
       "      <th>Age</th>\n",
       "      <th>Hold</th>\n",
       "      <th>Latency</th>\n",
       "      <th>Gender</th>\n",
       "      <th>TapR</th>\n",
       "      <th>TapL</th>\n",
       "      <th>LL</th>\n",
       "      <th>LR</th>\n",
       "      <th>RR</th>\n",
       "      <th>RL</th>\n",
       "      <th>LS</th>\n",
       "      <th>SL</th>\n",
       "      <th>RS</th>\n",
       "      <th>SR</th>\n",
       "      <th>SS</th>\n",
       "      <th>Parkinsons</th>\n",
       "    </tr>\n",
       "  </thead>\n",
       "  <tbody>\n",
       "    <tr>\n",
       "      <th>158453</th>\n",
       "      <td>58</td>\n",
       "      <td>78.1</td>\n",
       "      <td>312.5</td>\n",
       "      <td>0</td>\n",
       "      <td>0</td>\n",
       "      <td>1</td>\n",
       "      <td>1</td>\n",
       "      <td>0</td>\n",
       "      <td>0</td>\n",
       "      <td>0</td>\n",
       "      <td>0</td>\n",
       "      <td>0</td>\n",
       "      <td>0</td>\n",
       "      <td>0</td>\n",
       "      <td>0</td>\n",
       "      <td>0</td>\n",
       "    </tr>\n",
       "    <tr>\n",
       "      <th>158454</th>\n",
       "      <td>58</td>\n",
       "      <td>78.1</td>\n",
       "      <td>453.1</td>\n",
       "      <td>0</td>\n",
       "      <td>0</td>\n",
       "      <td>1</td>\n",
       "      <td>1</td>\n",
       "      <td>0</td>\n",
       "      <td>0</td>\n",
       "      <td>0</td>\n",
       "      <td>0</td>\n",
       "      <td>0</td>\n",
       "      <td>0</td>\n",
       "      <td>0</td>\n",
       "      <td>0</td>\n",
       "      <td>0</td>\n",
       "    </tr>\n",
       "    <tr>\n",
       "      <th>158455</th>\n",
       "      <td>58</td>\n",
       "      <td>62.5</td>\n",
       "      <td>414.1</td>\n",
       "      <td>0</td>\n",
       "      <td>0</td>\n",
       "      <td>1</td>\n",
       "      <td>1</td>\n",
       "      <td>0</td>\n",
       "      <td>0</td>\n",
       "      <td>0</td>\n",
       "      <td>0</td>\n",
       "      <td>0</td>\n",
       "      <td>0</td>\n",
       "      <td>0</td>\n",
       "      <td>0</td>\n",
       "      <td>0</td>\n",
       "    </tr>\n",
       "    <tr>\n",
       "      <th>158457</th>\n",
       "      <td>58</td>\n",
       "      <td>101.6</td>\n",
       "      <td>523.4</td>\n",
       "      <td>0</td>\n",
       "      <td>1</td>\n",
       "      <td>0</td>\n",
       "      <td>0</td>\n",
       "      <td>1</td>\n",
       "      <td>0</td>\n",
       "      <td>0</td>\n",
       "      <td>0</td>\n",
       "      <td>0</td>\n",
       "      <td>0</td>\n",
       "      <td>0</td>\n",
       "      <td>0</td>\n",
       "      <td>0</td>\n",
       "    </tr>\n",
       "    <tr>\n",
       "      <th>158458</th>\n",
       "      <td>58</td>\n",
       "      <td>93.8</td>\n",
       "      <td>203.1</td>\n",
       "      <td>0</td>\n",
       "      <td>1</td>\n",
       "      <td>0</td>\n",
       "      <td>0</td>\n",
       "      <td>0</td>\n",
       "      <td>1</td>\n",
       "      <td>0</td>\n",
       "      <td>0</td>\n",
       "      <td>0</td>\n",
       "      <td>0</td>\n",
       "      <td>0</td>\n",
       "      <td>0</td>\n",
       "      <td>0</td>\n",
       "    </tr>\n",
       "  </tbody>\n",
       "</table>\n",
       "</div>"
      ],
      "text/plain": [
       "        Age   Hold  Latency  Gender  TapR  TapL  LL  LR  RR  RL  LS  SL  RS  \\\n",
       "158453   58   78.1    312.5       0     0     1   1   0   0   0   0   0   0   \n",
       "158454   58   78.1    453.1       0     0     1   1   0   0   0   0   0   0   \n",
       "158455   58   62.5    414.1       0     0     1   1   0   0   0   0   0   0   \n",
       "158457   58  101.6    523.4       0     1     0   0   1   0   0   0   0   0   \n",
       "158458   58   93.8    203.1       0     1     0   0   0   1   0   0   0   0   \n",
       "\n",
       "        SR  SS  Parkinsons  \n",
       "158453   0   0           0  \n",
       "158454   0   0           0  \n",
       "158455   0   0           0  \n",
       "158457   0   0           0  \n",
       "158458   0   0           0  "
      ]
     },
     "execution_count": 10,
     "metadata": {},
     "output_type": "execute_result"
    }
   ],
   "source": [
    "z_scores = stats.zscore(all_userdata_df)\n",
    "abs_z_scores = np.abs(z_scores)\n",
    "\n",
    "filtered_entries = (abs_z_scores < 3).all(axis=1)\n",
    "\n",
    "all_userdata_df = all_userdata_df[filtered_entries]\n",
    "\n",
    "all_userdata_df.head()"
   ]
  },
  {
   "cell_type": "markdown",
   "metadata": {},
   "source": [
    "##### Istogramma delle feature numeriche"
   ]
  },
  {
   "cell_type": "code",
   "execution_count": 15,
   "metadata": {},
   "outputs": [
    {
     "data": {
      "text/plain": [
       "Text(0.5, 1.0, 'Parkinsons')"
      ]
     },
     "execution_count": 15,
     "metadata": {},
     "output_type": "execute_result"
    },
    {
     "data": {
      "image/png": "[encoded data removed]",
      "text/plain": [
       "<Figure size 2160x360 with 5 Axes>"
      ]
     },
     "metadata": {
      "needs_background": "light"
     },
     "output_type": "display_data"
    }
   ],
   "source": [
    "fig, axs = plt.subplots(1, 5, figsize = (30,5))\n",
    "\n",
    "axs[2].hist(all_userdata_df.Hold)\n",
    "axs[2].set_title('Hold')\n",
    "axs[3].hist(all_userdata_df.Latency)\n",
    "axs[3].set_title('Latency')\n",
    "axs[1].hist(all_userdata_df.Gender, color = \"red\")\n",
    "axs[1].set_title('Gender')\n",
    "axs[0].hist(all_userdata_df.Age)\n",
    "axs[0].set_title('Age')\n",
    "axs[4].hist(all_userdata_df.Parkinsons, color = \"red\")\n",
    "axs[4].set_title('Parkinsons')\n",
    "\n",
    "# there are no more outliers"
   ]
  },
  {
   "cell_type": "markdown",
   "metadata": {},
   "source": [
    "### Preprocessing\n",
    "\n",
    "#### Train e test\n",
    "Si suddividono tutte le feature dal target, rappresentato dall'attributo Parkinsons.\n",
    "Poi divido la matrice x e l'array y in sottoinsiemi casuali sfruttando la funzione *train_test_split*."
   ]
  },
  {
   "cell_type": "code",
   "execution_count": 11,
   "metadata": {},
   "outputs": [
    {
     "name": "stdout",
     "output_type": "stream",
     "text": [
      "[[ 58.   78.1 312.5 ...   0.    0.    0. ]\n",
      " [ 58.   78.1 453.1 ...   0.    0.    0. ]\n",
      " [ 58.   62.5 414.1 ...   0.    0.    0. ]\n",
      " ...\n",
      " [ 70.  171.9 343.8 ...   0.    0.    0. ]\n",
      " [ 70.  132.8 312.5 ...   0.    0.    0. ]\n",
      " [ 70.  109.4 437.5 ...   0.    0.    0. ]]\n",
      "[0 0 0 ... 1 1 1]\n"
     ]
    }
   ],
   "source": [
    "x = all_userdata_df.iloc[:, :-1].values\n",
    "y = all_userdata_df.iloc[:, -1].values  # Parkinsons column\n",
    "\n",
    "print(x)\n",
    "print(y)\n",
    "\n",
    "# split x matrix and y array in random train and test subsets, with ratio 3/4 - 1/4\n",
    "x_train, x_test, y_train, y_test = train_test_split(x, y, test_size = 0.25)"
   ]
  },
  {
   "cell_type": "markdown",
   "metadata": {},
   "source": [
    "#### Scaling\n",
    "\n",
    "Scalare i dati serve a migliorare il comportamento degli algoritmi di learning, dal momento che i dati potrebbero avere valori di tipi diversi tra loro. Valori troppo grandi possono comportarsi da outlier e stravolgere il funzionamento di un algoritmo.\n",
    "\n",
    "Per scalare i dati si utilizza la normalizzazione attraverso lo *StandardScaler* offerto da sklearn, che normalizza le feature rimuovendo la media e scalando a varianza unitaria.\n",
    "\n",
    "Il valore normalizzato di x è calcolato come: $$x = \\frac{z-u}{S}$$"
   ]
  },
  {
   "cell_type": "code",
   "execution_count": 12,
   "metadata": {},
   "outputs": [],
   "source": [
    "# scaling before classification models\n",
    "scaler = StandardScaler()\n",
    "x_train = scaler.fit_transform(x_train)\n",
    "x_test = scaler.transform(x_test)\n",
    "# x_graph = scaler.fit_transform(x_graph)"
   ]
  },
  {
   "cell_type": "markdown",
   "metadata": {},
   "source": [
    "#### Bilanciamento\n",
    "\n",
    "In questa versione, il dataset composto dai singoli tap è accettabile dal punto di vista del bilanciamento delle classi rispetto al target: il 47.4% delle osservazioni sono etichettate con 0 ('Negativo') mentre il 52.6% con 1 ('Positivo'). Quindi si evita la fase di oversampling tramite SMOTE, che ci sarà nelle altre due versioni."
   ]
  },
  {
   "cell_type": "markdown",
   "metadata": {},
   "source": [
    "##### Istogramma che confronta le entry in base al valore del target"
   ]
  },
  {
   "cell_type": "code",
   "execution_count": 13,
   "metadata": {},
   "outputs": [
    {
     "name": "stdout",
     "output_type": "stream",
     "text": [
      "[1 1 1 ... 0 1 1]\n"
     ]
    },
    {
     "data": {
      "text/plain": [
       "(array([268226.,      0.,      0.,      0.,      0.,      0.,      0.,\n",
       "             0.,      0., 281775.]),\n",
       " array([0. , 0.1, 0.2, 0.3, 0.4, 0.5, 0.6, 0.7, 0.8, 0.9, 1. ]),\n",
       " <BarContainer object of 10 artists>)"
      ]
     },
     "execution_count": 13,
     "metadata": {},
     "output_type": "execute_result"
    },
    {
     "data": {
      "image/png": "[encoded data removed]",
      "text/plain": [
       "<Figure size 432x288 with 1 Axes>"
      ]
     },
     "metadata": {
      "needs_background": "light"
     },
     "output_type": "display_data"
    }
   ],
   "source": [
    "# verify that the classes are balanced\n",
    "print(y_train)\n",
    "np.histogram(y_train)\n",
    "plt.hist(y_train)"
   ]
  },
  {
   "cell_type": "markdown",
   "metadata": {},
   "source": [
    "## Classificazione"
   ]
  },
  {
   "cell_type": "markdown",
   "metadata": {},
   "source": [
    "#### Naive Bayes"
   ]
  },
  {
   "cell_type": "code",
   "execution_count": 14,
   "metadata": {},
   "outputs": [
    {
     "name": "stdout",
     "output_type": "stream",
     "text": [
      "0.7074805318535784\n",
      "0.7078992440027491\n"
     ]
    },
    {
     "data": {
      "image/png": "[encoded data removed]",
      "text/plain": [
       "<Figure size 432x288 with 2 Axes>"
      ]
     },
     "metadata": {
      "needs_background": "light"
     },
     "output_type": "display_data"
    },
    {
     "data": {
      "image/png": "[encoded data removed]",
      "text/plain": [
       "<Figure size 432x288 with 2 Axes>"
      ]
     },
     "metadata": {
      "needs_background": "light"
     },
     "output_type": "display_data"
    }
   ],
   "source": [
    "classifierBAYES = GaussianNB()\n",
    "classifierBAYES.fit(x_train, y_train)\n",
    "\n",
    "#The algorithm has learnt on training set, now I will predict the outcomes on test set\n",
    "\n",
    "y_pred_BAYES0 = classifierBAYES.predict(x_train)\n",
    "y_pred_BAYES = classifierBAYES.predict(x_test)\n",
    "\n",
    "CM_BAYES0 = confusion_matrix(y_train, y_pred_BAYES0)\n",
    "PercBAYES0 = (CM_BAYES0[0,0]+CM_BAYES0[1,1])/CM_BAYES0.sum()\n",
    "\n",
    "CM_BAYES = confusion_matrix(y_test, y_pred_BAYES)\n",
    "PercBAYES = (CM_BAYES[0,0]+CM_BAYES[1,1])/CM_BAYES.sum()\n",
    "\n",
    "# each row of the confusion matrix is an instance of the true class\n",
    "# matrix indicates true/false positive/negatives\n",
    "\n",
    "cmd0 = ConfusionMatrixDisplay(CM_BAYES0)\n",
    "cmd = ConfusionMatrixDisplay(CM_BAYES)\n",
    "cmd0.plot(cmap = \"Blues\")\n",
    "cmd.plot(cmap = \"Oranges\")\n",
    "\n",
    "print(PercBAYES0)\n",
    "print(PercBAYES)"
   ]
  },
  {
   "cell_type": "markdown",
   "metadata": {},
   "source": [
    "#### Logistic Regression"
   ]
  },
  {
   "cell_type": "code",
   "execution_count": 15,
   "metadata": {},
   "outputs": [
    {
     "name": "stdout",
     "output_type": "stream",
     "text": [
      "0.6325388499293637\n",
      "0.6323867913207588\n"
     ]
    },
    {
     "data": {
      "image/png": "[encoded data removed]",
      "text/plain": [
       "<Figure size 432x288 with 2 Axes>"
      ]
     },
     "metadata": {
      "needs_background": "light"
     },
     "output_type": "display_data"
    },
    {
     "data": {
      "image/png": "[encoded data removed]",
      "text/plain": [
       "<Figure size 432x288 with 2 Axes>"
      ]
     },
     "metadata": {
      "needs_background": "light"
     },
     "output_type": "display_data"
    }
   ],
   "source": [
    "classifierLogReg = LogisticRegression(random_state = 0)\n",
    "classifierLogReg.fit(x_train, y_train)\n",
    "\n",
    "y_pred_LogReg0 = classifierLogReg.predict(x_train)\n",
    "y_pred_LogReg = classifierLogReg.predict(x_test)\n",
    "\n",
    "CM_LogReg0 = confusion_matrix(y_train, y_pred_LogReg0)\n",
    "PercLogReg0 = (CM_LogReg0[0,0]+CM_LogReg0[1,1])/CM_LogReg0.sum()\n",
    "\n",
    "CM_LogReg = confusion_matrix(y_test, y_pred_LogReg)\n",
    "PercLogReg = (CM_LogReg[0,0]+CM_LogReg[1,1])/CM_LogReg.sum()\n",
    "\n",
    "\n",
    "cmd0 = ConfusionMatrixDisplay(CM_LogReg0)\n",
    "cmd = ConfusionMatrixDisplay(CM_LogReg)\n",
    "\n",
    "cmd0.plot(cmap = \"Blues\")\n",
    "cmd.plot(cmap = \"Oranges\")\n",
    "\n",
    "print(PercLogReg0)\n",
    "print(PercLogReg)"
   ]
  },
  {
   "cell_type": "markdown",
   "metadata": {},
   "source": [
    "#### Decision Tree\n",
    "Il classificatore utilizzato è stato impostato con un criterio di misura della qualità dello split basato su _entropy_, una strategia _best_ di scelta dello split a ogni nodo (invece che random), e una profondità massima di 5, dal momento che questo valore è risultato il giusto compromesso tra complessità, velocità d'esecuzione e qualità di classificazione."
   ]
  },
  {
   "cell_type": "code",
   "execution_count": 16,
   "metadata": {},
   "outputs": [
    {
     "name": "stdout",
     "output_type": "stream",
     "text": [
      "0.8310730344126647\n",
      "0.8310624325002455\n"
     ]
    },
    {
     "data": {
      "image/png": "[encoded data removed]",
      "text/plain": [
       "<Figure size 432x288 with 2 Axes>"
      ]
     },
     "metadata": {
      "needs_background": "light"
     },
     "output_type": "display_data"
    },
    {
     "data": {
      "image/png": "[encoded data removed]",
      "text/plain": [
       "<Figure size 432x288 with 2 Axes>"
      ]
     },
     "metadata": {
      "needs_background": "light"
     },
     "output_type": "display_data"
    }
   ],
   "source": [
    "classifierTREE = DecisionTreeClassifier(criterion = 'entropy', splitter = \"best\", max_depth = 5, random_state = 0)\n",
    "classifierTREE.fit(x_train, y_train)\n",
    "\n",
    "y_pred_TREE = classifierTREE.predict(x_test)\n",
    "y_pred_TREE0 = classifierTREE.predict(x_train)\n",
    "\n",
    "CM_TREE0 = confusion_matrix(y_train, y_pred_TREE0)\n",
    "PercTREE0 = (CM_TREE0[0,0]+CM_TREE0[1,1])/CM_TREE0.sum()\n",
    "\n",
    "CM_TREE = confusion_matrix(y_test, y_pred_TREE)\n",
    "PercTREE = (CM_TREE[0,0]+CM_TREE[1,1])/CM_TREE.sum()\n",
    "\n",
    "cmd0 = ConfusionMatrixDisplay(CM_TREE0)\n",
    "cmd = ConfusionMatrixDisplay(CM_TREE)\n",
    "cmd0.plot(cmap = \"Blues\")\n",
    "cmd.plot(cmap = \"Oranges\")\n",
    "\n",
    "print(PercTREE0)\n",
    "print(PercTREE)"
   ]
  },
  {
   "cell_type": "markdown",
   "metadata": {},
   "source": [
    "#### Random Forest\n",
    "Così come nei decision tree, la scelta del criterio di valutazione della qualità dello split è ricaduta su _entropy_, mentre il numero di stimatori è stato impostato a 10, dal momento che si è notato che per valori più elevati i risultati rimanevano pressoché invariati."
   ]
  },
  {
   "cell_type": "code",
   "execution_count": 17,
   "metadata": {},
   "outputs": [
    {
     "name": "stdout",
     "output_type": "stream",
     "text": [
      "0.970454599173456\n",
      "0.9496710921051196\n"
     ]
    },
    {
     "data": {
      "image/png": "[encoded data removed]",
      "text/plain": [
       "<Figure size 432x288 with 2 Axes>"
      ]
     },
     "metadata": {
      "needs_background": "light"
     },
     "output_type": "display_data"
    },
    {
     "data": {
      "image/png": "[encoded data removed]",
      "text/plain": [
       "<Figure size 432x288 with 2 Axes>"
      ]
     },
     "metadata": {
      "needs_background": "light"
     },
     "output_type": "display_data"
    }
   ],
   "source": [
    "classifierFOR = RandomForestClassifier(n_estimators = 10, criterion = 'entropy', random_state = 0)\n",
    "classifierFOR.fit(x_train, y_train)\n",
    "\n",
    "y_pred_FOR0 = classifierFOR.predict(x_train)\n",
    "y_pred_FOR = classifierFOR.predict(x_test)\n",
    "\n",
    "CM_FOR0 = confusion_matrix(y_train, y_pred_FOR0)\n",
    "PercFOR0 = (CM_FOR0[0,0]+CM_FOR0[1,1])/CM_FOR0.sum()\n",
    "\n",
    "CM_FOR = confusion_matrix(y_test, y_pred_FOR)\n",
    "PercFOR = (CM_FOR[0,0]+CM_FOR[1,1])/CM_FOR.sum()\n",
    "\n",
    "cmd0 = ConfusionMatrixDisplay(CM_FOR0)\n",
    "cmd = ConfusionMatrixDisplay(CM_FOR)\n",
    "cmd0.plot(cmap = \"Blues\")\n",
    "cmd.plot(cmap = \"Oranges\")\n",
    "\n",
    "print(PercFOR0)\n",
    "print(PercFOR)"
   ]
  },
  {
   "cell_type": "markdown",
   "metadata": {},
   "source": [
    "#### Diminuzione della dimensione del dataset\n",
    "È stata effettuata un'operazione di random resampling del dataset orignario, in particolare si è preso solo il 4% dei valori a disposizione.\n",
    "\n",
    "Tale scelta è stata obbligata dalla dimensione del dataset, computazionalmente insostenibile per gli algoritmi successivi, se si vuole un tempo di esecuzione accettabile.\n",
    "\n",
    "Vengono rieseguiti anche due algoritmi già visti finora, al fine di avere un quadro più completo e una quantità di informazioni più ampia."
   ]
  },
  {
   "cell_type": "code",
   "execution_count": 18,
   "metadata": {},
   "outputs": [],
   "source": [
    "# reduce the dimensionality, in order to perform the most expensive methods \n",
    "x_train, x_test, y_train, y_test = train_test_split(x_test, y_test, test_size = 0.2)\n",
    "x_train, x_test, y_train, y_test = train_test_split(x_test, y_test, test_size = 0.2)"
   ]
  },
  {
   "cell_type": "markdown",
   "metadata": {},
   "source": [
    "#### Decision Tree dopo il taglio"
   ]
  },
  {
   "cell_type": "code",
   "execution_count": 19,
   "metadata": {},
   "outputs": [
    {
     "name": "stdout",
     "output_type": "stream",
     "text": [
      "0.8306685303242082\n",
      "0.8283337878374694\n"
     ]
    },
    {
     "data": {
      "image/png": "[encoded data removed]",
      "text/plain": [
       "<Figure size 432x288 with 2 Axes>"
      ]
     },
     "metadata": {
      "needs_background": "light"
     },
     "output_type": "display_data"
    },
    {
     "data": {
      "image/png": "[encoded data removed]",
      "text/plain": [
       "<Figure size 432x288 with 2 Axes>"
      ]
     },
     "metadata": {
      "needs_background": "light"
     },
     "output_type": "display_data"
    }
   ],
   "source": [
    "classifierTREE = DecisionTreeClassifier(criterion = 'entropy', splitter = \"best\", max_depth = 5, random_state = 0)\n",
    "classifierTREE.fit(x_train, y_train)\n",
    "\n",
    "y_pred_TREE = classifierTREE.predict(x_test)\n",
    "y_pred_TREE0 = classifierTREE.predict(x_train)\n",
    "\n",
    "CM_TREE0 = confusion_matrix(y_train, y_pred_TREE0)\n",
    "PercTREE0 = (CM_TREE0[0,0]+CM_TREE0[1,1])/CM_TREE0.sum()\n",
    "\n",
    "CM_TREE = confusion_matrix(y_test, y_pred_TREE)\n",
    "PercTREE = (CM_TREE[0,0]+CM_TREE[1,1])/CM_TREE.sum()\n",
    "\n",
    "cmd0 = ConfusionMatrixDisplay(CM_TREE0)\n",
    "cmd = ConfusionMatrixDisplay(CM_TREE)\n",
    "cmd0.plot(cmap = \"Blues\")\n",
    "cmd.plot(cmap = \"Oranges\")\n",
    "\n",
    "print(PercTREE0)\n",
    "print(PercTREE)"
   ]
  },
  {
   "cell_type": "markdown",
   "metadata": {},
   "source": [
    "#### Random Forest dopo il taglio"
   ]
  },
  {
   "cell_type": "code",
   "execution_count": 20,
   "metadata": {},
   "outputs": [
    {
     "name": "stdout",
     "output_type": "stream",
     "text": [
      "0.9861930249207377\n",
      "0.927461139896373\n"
     ]
    },
    {
     "data": {
      "image/png": "[encoded data removed]",
      "text/plain": [
       "<Figure size 432x288 with 2 Axes>"
      ]
     },
     "metadata": {
      "needs_background": "light"
     },
     "output_type": "display_data"
    },
    {
     "data": {
      "image/png": "[encoded data removed]",
      "text/plain": [
       "<Figure size 432x288 with 2 Axes>"
      ]
     },
     "metadata": {
      "needs_background": "light"
     },
     "output_type": "display_data"
    }
   ],
   "source": [
    "classifierFOR = RandomForestClassifier(n_estimators = 10, criterion = 'entropy', random_state = 0)\n",
    "classifierFOR.fit(x_train, y_train)\n",
    "\n",
    "y_pred_FOR0 = classifierFOR.predict(x_train)\n",
    "y_pred_FOR = classifierFOR.predict(x_test)\n",
    "\n",
    "CM_FOR0 = confusion_matrix(y_train, y_pred_FOR0)\n",
    "PercFOR0 = (CM_FOR0[0,0]+CM_FOR0[1,1])/CM_FOR0.sum()\n",
    "\n",
    "CM_FOR = confusion_matrix(y_test, y_pred_FOR)\n",
    "PercFOR = (CM_FOR[0,0]+CM_FOR[1,1])/CM_FOR.sum()\n",
    "\n",
    "cmd0 = ConfusionMatrixDisplay(CM_FOR0)\n",
    "cmd = ConfusionMatrixDisplay(CM_FOR)\n",
    "cmd0.plot(cmap = \"Blues\")\n",
    "cmd.plot(cmap = \"Oranges\")\n",
    "\n",
    "print(PercFOR0)\n",
    "print(PercFOR)"
   ]
  },
  {
   "cell_type": "markdown",
   "metadata": {},
   "source": [
    "#### Multiple Layer Perceptron\n",
    "Nella cella successiva è presente l'implementazione di una rete neurale elementare, con 3 layer di 10 percettroni ciascuno, e una funzione di attivazione di tipo relu.\n",
    "\n",
    "Questi valori dei paramentri sono sembrati i più adatti dopo diverse sperimentazioni."
   ]
  },
  {
   "cell_type": "code",
   "execution_count": 21,
   "metadata": {},
   "outputs": [
    {
     "name": "stderr",
     "output_type": "stream",
     "text": [
      "c:\\Users\\tagli\\anaconda3\\lib\\site-packages\\sklearn\\neural_network\\_multilayer_perceptron.py:692: ConvergenceWarning: Stochastic Optimizer: Maximum iterations (50) reached and the optimization hasn't converged yet.\n",
      "  warnings.warn(\n"
     ]
    },
    {
     "name": "stdout",
     "output_type": "stream",
     "text": [
      "0.8872600825009375\n",
      "0.8808290155440415\n"
     ]
    },
    {
     "data": {
      "image/png": "[encoded data removed]",
      "text/plain": [
       "<Figure size 432x288 with 2 Axes>"
      ]
     },
     "metadata": {
      "needs_background": "light"
     },
     "output_type": "display_data"
    },
    {
     "data": {
      "image/png": "[encoded data removed]",
      "text/plain": [
       "<Figure size 432x288 with 2 Axes>"
      ]
     },
     "metadata": {
      "needs_background": "light"
     },
     "output_type": "display_data"
    }
   ],
   "source": [
    "classifierMLPr = MLPClassifier(hidden_layer_sizes = (10, 10, 10), activation = \"relu\", max_iter=50)           # relu act\n",
    "# classifierMLPr = MLPClassifier(hidden_layer_sizes = (10, 10, 10), activation = \"tanh\", max_iter=50)         # tanh act\n",
    "# classifierMLPr = MLPClassifier(hidden_layer_sizes = (10, 10, 10), activation = \"identity\", max_iter=50)     # identity act\n",
    "# classifierMLPr = MLPClassifier(hidden_layer_sizes = (10, 10, 10), activation = \"logistic\", max_iter=50)     # logistic act\n",
    "\n",
    "classifierMLPr.fit(x_train, y_train)\n",
    "\n",
    "y_pred_MLPr0 = classifierMLPr.predict(x_train)\n",
    "y_pred_MLPr = classifierMLPr.predict(x_test)\n",
    "\n",
    "CM_MLPr0 = confusion_matrix(y_train, y_pred_MLPr0)\n",
    "PercMLPr0 = (CM_MLPr0[0,0] + CM_MLPr0[1,1])/CM_MLPr0.sum()\n",
    "\n",
    "CM_MLPr = confusion_matrix(y_test, y_pred_MLPr)\n",
    "PercMLPr = (CM_MLPr[0,0] + CM_MLPr[1,1])/CM_MLPr.sum()\n",
    "\n",
    "cmd0 = ConfusionMatrixDisplay(CM_MLPr0)\n",
    "cmd = ConfusionMatrixDisplay(CM_MLPr)\n",
    "cmd0.plot(cmap = \"Blues\")\n",
    "cmd.plot(cmap = \"Oranges\")\n",
    "\n",
    "print(PercMLPr0)\n",
    "print(PercMLPr)"
   ]
  },
  {
   "cell_type": "markdown",
   "metadata": {},
   "source": [
    "#### Adaboost\n",
    "\n",
    "In questa implementazione di Adaboost abbiamo usato la funzione _GridSearchCV_, che prende in input delle liste di parametri ed effettua una k-fold cross validation per l'addestramento con ogni singola combinazione dei parametri passati, per poi comunicare il risultato migliore e con quale configurazione è stato ottenuto.\n",
    "\n",
    "In particolare i parametri immessi in _GridSearchCV_ sono: una lista di numero di stimatori, una lista di learning rate da utilizzare, il numero di fold in cui splittare il training set e il numero di ripetizioni da effettuare.\n",
    "\n",
    "Infine, l'_AdaBoostClassifier_ utilizzato è quello di default, ovvero un decision tree con profondità 1 (ovvero uno stump)."
   ]
  },
  {
   "cell_type": "code",
   "execution_count": 22,
   "metadata": {},
   "outputs": [
    {
     "name": "stdout",
     "output_type": "stream",
     "text": [
      "Best: 0.910817 using {'learning_rate': 1, 'n_estimators': 200}\n",
      "0.717827 (0.007296) with: {'learning_rate': 0.001, 'n_estimators': 200}\n",
      "0.819964 (0.005805) with: {'learning_rate': 0.01, 'n_estimators': 200}\n",
      "0.883851 (0.006618) with: {'learning_rate': 0.1, 'n_estimators': 200}\n",
      "0.910817 (0.004616) with: {'learning_rate': 1, 'n_estimators': 200}\n"
     ]
    }
   ],
   "source": [
    "classifierADA = AdaBoostClassifier()\n",
    "\n",
    "grid = dict()\n",
    "grid['n_estimators'] = [200]\n",
    "grid['learning_rate'] = [.001, .01, .1, 1]\n",
    "\n",
    "# define the evaluation procedure\n",
    "cv = RepeatedStratifiedKFold(n_splits = 10, n_repeats = 3, random_state = 1)\n",
    "\n",
    "# define the grid search procedure\n",
    "grid_search = GridSearchCV(estimator = classifierADA, param_grid = grid, n_jobs = -1, cv = cv, scoring = 'accuracy')\n",
    "\n",
    "# execute the grid search\n",
    "grid_result = grid_search.fit(x_train, y_train)\n",
    "\n",
    "# summarize the best score and configuration\n",
    "print(\"Best: %f using %s\" % (grid_result.best_score_ , grid_result.best_params_))\n",
    "\n",
    "# summarize all scores that were evaluated\n",
    "means = grid_result.cv_results_['mean_test_score']\n",
    "stds = grid_result.cv_results_['std_test_score']\n",
    "params = grid_result.cv_results_['params']\n",
    "\n",
    "for mean, stdev, param in zip(means, stds, params):\n",
    "    print(\"%f (%f) with: %r\" % (mean, stdev, param))"
   ]
  },
  {
   "cell_type": "markdown",
   "metadata": {},
   "source": [
    "#### SVM \n",
    "La funzione kernel utilizzata è la radial basis function"
   ]
  },
  {
   "cell_type": "code",
   "execution_count": 25,
   "metadata": {},
   "outputs": [
    {
     "name": "stdout",
     "output_type": "stream",
     "text": [
      "0.7999522721849112\n",
      "0.7950640850831743\n"
     ]
    },
    {
     "data": {
      "image/png": "[encoded data removed]",
      "text/plain": [
       "<Figure size 432x288 with 2 Axes>"
      ]
     },
     "metadata": {
      "needs_background": "light"
     },
     "output_type": "display_data"
    },
    {
     "data": {
      "image/png": "[encoded data removed]",
      "text/plain": [
       "<Figure size 432x288 with 2 Axes>"
      ]
     },
     "metadata": {
      "needs_background": "light"
     },
     "output_type": "display_data"
    }
   ],
   "source": [
    "classifierSVC = SVC(kernel = 'rbf', random_state = 0)\n",
    "classifierSVC.fit(x_train, y_train)\n",
    "\n",
    "y_pred_SVMK0 = classifierSVC.predict(x_train)\n",
    "y_pred_SVMK = classifierSVC.predict(x_test)\n",
    "\n",
    "CM_SVMK0 = confusion_matrix(y_train, y_pred_SVMK0)\n",
    "PercSVMK0 = (CM_SVMK0[0,0]+CM_SVMK0[1,1])/CM_SVMK0.sum()\n",
    "\n",
    "CM_SVMK = confusion_matrix(y_test, y_pred_SVMK)\n",
    "PercSVMK = (CM_SVMK[0,0]+CM_SVMK[1,1])/CM_SVMK.sum()\n",
    "\n",
    "cmd0 = ConfusionMatrixDisplay(CM_SVMK0)\n",
    "cmd = ConfusionMatrixDisplay(CM_SVMK)\n",
    "cmd0.plot(cmap = \"Blues\")\n",
    "cmd.plot(cmap = \"Oranges\")\n",
    "\n",
    "print(PercSVMK0)\n",
    "print(PercSVMK)"
   ]
  },
  {
   "cell_type": "markdown",
   "metadata": {},
   "source": [
    "#### K-Nearest Neighbors\n",
    "Nella seguente implementazione dell'algoritmo KNN è stata utlizzata la metrica di Minkowski con paramentro p uguale a 2, che è sostanzialmente la distanza euclidea dei punti."
   ]
  },
  {
   "cell_type": "code",
   "execution_count": 23,
   "metadata": {},
   "outputs": [
    {
     "name": "stdout",
     "output_type": "stream",
     "text": [
      "0.9245900521596836\n",
      "0.8892827924734115\n"
     ]
    },
    {
     "data": {
      "image/png": "[encoded data removed]",
      "text/plain": [
       "<Figure size 432x288 with 2 Axes>"
      ]
     },
     "metadata": {
      "needs_background": "light"
     },
     "output_type": "display_data"
    },
    {
     "data": {
      "image/png": "[encoded data removed]",
      "text/plain": [
       "<Figure size 432x288 with 2 Axes>"
      ]
     },
     "metadata": {
      "needs_background": "light"
     },
     "output_type": "display_data"
    }
   ],
   "source": [
    "classifierKNN = KNeighborsClassifier(n_neighbors = 5, metric = 'minkowski', p = 2)\n",
    "classifierKNN.fit(x_train, y_train)\n",
    "\n",
    "y_pred_KNN0 = classifierKNN.predict(x_train)\n",
    "y_pred_KNN = classifierKNN.predict(x_test)\n",
    "\n",
    "CM_KNN0 = confusion_matrix(y_train, y_pred_KNN0)\n",
    "PercKNN0 = (CM_KNN0[0,0]+CM_KNN0[1,1])/CM_KNN0.sum()\n",
    "\n",
    "CM_KNN = confusion_matrix(y_test, y_pred_KNN)\n",
    "PercKNN = (CM_KNN[0,0]+CM_KNN[1,1])/CM_KNN.sum()\n",
    "\n",
    "cmd0 = ConfusionMatrixDisplay(CM_KNN0)\n",
    "cmd = ConfusionMatrixDisplay(CM_KNN)\n",
    "cmd0.plot(cmap = \"Blues\")\n",
    "cmd.plot(cmap = \"Oranges\")\n",
    "\n",
    "print(PercKNN0)\n",
    "print(PercKNN)"
   ]
  },
  {
   "cell_type": "markdown",
   "metadata": {},
   "source": [
    "#### Ensemble Voting\n",
    "Come ultimo algoritmo vengono messi insieme classificatori differenti seguendo il paradigma secondo cui la predizione è la _votazione_ di un comitato di decisori."
   ]
  },
  {
   "cell_type": "code",
   "execution_count": 26,
   "metadata": {},
   "outputs": [
    {
     "name": "stdout",
     "output_type": "stream",
     "text": [
      "0.8589302151160809\n",
      "0.8436051268066539\n"
     ]
    },
    {
     "data": {
      "image/png": "[encoded data removed]",
      "text/plain": [
       "<Figure size 432x288 with 2 Axes>"
      ]
     },
     "metadata": {
      "needs_background": "light"
     },
     "output_type": "display_data"
    },
    {
     "data": {
      "image/png": "[encoded data removed]",
      "text/plain": [
       "<Figure size 432x288 with 2 Axes>"
      ]
     },
     "metadata": {
      "needs_background": "light"
     },
     "output_type": "display_data"
    }
   ],
   "source": [
    "Models = []\n",
    "Models.append(('KNN', classifierKNN))\n",
    "Models.append(('SVC', classifierSVC))\n",
    "Models.append(('Tree', classifierTREE))\n",
    "# Models.append(('Logistic', classifierLogReg))\n",
    "# Models.append(('Bayes', classifierBAYES))\n",
    "\n",
    "# by removing these last two classifiers, performances increase\n",
    "\n",
    "ensemble = VotingClassifier(Models)\n",
    "ensemble = ensemble.fit(x_train, y_train)\n",
    "\n",
    "y_pred_ENS0 = ensemble.predict(x_train)\n",
    "y_pred_ENS = ensemble.predict(x_test)\n",
    "\n",
    "CM_ENS0 = confusion_matrix(y_train, y_pred_ENS0)\n",
    "PercENS0 = (CM_ENS0[0,0]+CM_ENS0[1,1])/CM_ENS0.sum()\n",
    "\n",
    "CM_ENS = confusion_matrix(y_test, y_pred_ENS)\n",
    "PercENS = (CM_ENS[0,0]+CM_ENS[1,1])/CM_ENS.sum()\n",
    "\n",
    "cmd0 = ConfusionMatrixDisplay(CM_ENS0)\n",
    "cmd = ConfusionMatrixDisplay(CM_ENS)\n",
    "cmd0.plot(cmap = \"Blues\")\n",
    "cmd.plot(cmap = \"Oranges\")\n",
    "\n",
    "print(PercENS0)\n",
    "print(PercENS)"
   ]
  },
  {
   "cell_type": "markdown",
   "metadata": {},
   "source": [
    "### Considerazioni v1\n",
    "Dopo aver completato questa prima versione, in cui l'obiettivo è stato quello di utilizzare l'informazione più elementare a nostra disposizione (senza aggregazione di dati), sono risultati evidenti i limiti dell'approccio utilizzato: \n",
    "- Dataset eccessivamente grande da gestire (circa 800k righe) che ha necessariamente costretto l'utilizzo del resampling\n",
    "- Inverosimiglianza di una predizione su un singolo tap in un'ipotetico scenario di applicazione reale degli algoritmi"
   ]
  }
 ],
 "metadata": {
  "kernelspec": {
   "display_name": "Python 3.9.12 ('base')",
   "language": "python",
   "name": "python3"
  },
  "language_info": {
   "codemirror_mode": {
    "name": "ipython",
    "version": 3
   },
   "file_extension": ".py",
   "mimetype": "text/x-python",
   "name": "python",
   "nbconvert_exporter": "python",
   "pygments_lexer": "ipython3",
   "version": "3.9.12"
  },
  "orig_nbformat": 4,
  "vscode": {
   "interpreter": {
    "hash": "b304063b9b5915891955c97f76410147208ba9c12388cc88c2e2efd4c5613ee8"
   }
  }
 },
 "nbformat": 4,
 "nbformat_minor": 2
}
