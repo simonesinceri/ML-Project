{
 "cells": [
  {
   "cell_type": "markdown",
   "metadata": {},
   "source": [
    "# Tappy Keystroke Data with Parkinson’s Patients\n",
    "\n",
    "Il task dell'analisi del dataset Tappy Keystroke è una classificazione binaria sui dati acquisiti da Tappy, un'applicazione per la registrazione delle sequenze di battitura.\n",
    "\n",
    "Nel progetto verrà analizzato un dataset contenente i registri delle sequenze di tasti raccolti da oltre 200 soggetti, con e senza il morbo di Parkinson, che hanno digitato normalmente sul proprio computer per un periodo di settimane o mesi, senza supervisione.\n",
    "\n",
    "L'analisi si compone di una parte di acquisizione e pulizia dei dati, e di un'altra parte per l'utilizzo di modelli di machine learning, che hanno lo scopo di indicare che l'interazione con la tastiera può essere usata per rilevare particolarità nel movimento delle dita nelle prime fasi del morbo di Parkinson.\n",
    "\n",
    "Il dataset è stato scaricato dal link https://www.kaggle.com/datasets/valkling/tappy-keystroke-data-with-parkinsons-patients. È suddiviso a sua volta in due dataset: il primo è fornito direttamente dal software Tappy, quindi include dati come tempo di pressione e rilascio dei tasti e movimenti ottenuti dividendo virtualmente la tastiera in una zona di destra e una di sinistra; il secondo contiene informazioni sui pazienti (quali anno di nascita, sesso, e attributi riguardanti il morbo di Parkinson qualora il paziente ne fosse affetto). Tra questi, l'attributo più importante è \"Parkinsons\", che verrà usata come predizione per la classificazione binaria."
   ]
  },
  {
   "cell_type": "markdown",
   "metadata": {},
   "source": [
    "## Versione 2\n",
    "In questa versione l'elemento che viene preso in considerazione per la classificazione è il **singolo utente**.\n",
    "\n",
    "In particolare vengono calcolate media, deviazione standard, skewness e kurtosis, per ogni utente, per la feature TapPosition (escludendo i tap con valore S, in quanto non aggiungono informazione) usando i tempi di Hold.\n",
    "Poi viene fatta la stessa cosa per la feature Movement, rispetto ai tempi di Latency (anche qui non si considerano i valori contenenti S)."
   ]
  },
  {
   "cell_type": "markdown",
   "metadata": {},
   "source": [
    "## Indice\n",
    "\n",
    "### • Set iniziale di feature\n",
    "\n",
    "### • Caricamento dataset\n",
    "- Pulizia dataset\n",
    "- Feature selection\n",
    "- Individuazione e rimozione degli outliers\n",
    "\n",
    "### • Preprocessing\n",
    "- Train e Test\n",
    "- Scaling\n",
    "- Bilanciamento\n",
    "\n",
    "### • Classificazione\n",
    "- Naive Bayes\n",
    "- Logistic Regression\n",
    "- Decision Tree\n",
    "- Random Forest\n",
    "- Multiple Layer Perceptron\n",
    "- Adaboost\n",
    "- SVM\n",
    "- K-Nearest Neighbors\n",
    "- Ensemble Voting\n",
    "\n",
    "### • Considerazioni v2"
   ]
  },
  {
   "cell_type": "markdown",
   "metadata": {},
   "source": [
    "### Set iniziale di features\n",
    "Come accennato sopra, per ogni utente si hanno a disposizione due insiemi di informazioni: il primo, contenuto in un file chiamato *user_idutente* associato a ogni utente tramite il suo identificativo, con delle caratteristiche legate alla malattia; il secondo, contenuto in più file chiamati *idutente_data*, con le caratteristiche legate alla pressione dei singoli tasti.\n",
    "\n",
    "I file *user_idutente* sono del tipo:\n",
    "* BirthYear:      xxxx\n",
    "* Gender:         M/F\n",
    "* Parkinsons:     se all'utente è stato diagnosticato il morbo di Parkinson\n",
    "* Tremors:        se l'utente ha tremori alle mani\n",
    "* DiagnosisYear:  eventuale anno di diagnosi della malattia\n",
    "* Sided:          lateralità della malattia\n",
    "* UPDRS:          Unified Parkinson's Disease Rating Scale\n",
    "* Impact:         stato di avanzamento della malattia\n",
    "* Levadopa:       se l'utente assume o meno il farmaco Levadopa\n",
    "* DA:             se l'utente assume o meno il farmaco Dopamine Agonist\n",
    "* MAOB:           se l'utente assume o meno il farmaco MAO-B inhibitor\n",
    "* Other:          se l'utente assume o meno il farmaco altri farmaci\n",
    "\n",
    "I file *idutente_data* sono organizzati in colonne il cui significato, da sinistra a destra è:\n",
    "* identificativo del paziente\n",
    "* data di acquisizione\n",
    "* ora di acquisizione\n",
    "* zona della tastiera in cui si trova il tasto premuto\n",
    "* tempo di pressione (hold)\n",
    "* sequenza del tasto attuale e il precedente (movement)\n",
    "* distanza temporale tra la digitazione attuale e la precedente (latency)\n",
    "* latency - hold (flight time)\n",
    "\n",
    "Questa quantità di dati iniziali verrà poi sottoposta a processi di feature selection e feature extraction."
   ]
  },
  {
   "cell_type": "code",
   "execution_count": 1,
   "metadata": {},
   "outputs": [],
   "source": [
    "import numpy as np\n",
    "import pandas as pd\n",
    "import matplotlib.pyplot as plt\n",
    "import glob\n",
    "from scipy.stats import skew, kurtosis\n",
    "from sklearn.metrics import confusion_matrix\n",
    "from sklearn.metrics import ConfusionMatrixDisplay\n",
    "from sklearn.preprocessing import OneHotEncoder\n",
    "from sklearn.model_selection import train_test_split\n",
    "from sklearn.preprocessing import StandardScaler\n",
    "from sklearn.naive_bayes import GaussianNB\n",
    "from scipy import stats\n",
    "from sklearn.linear_model import LogisticRegression\n",
    "from sklearn.ensemble import RandomForestClassifier\n",
    "from sklearn.tree import DecisionTreeClassifier\n",
    "from sklearn.neural_network import MLPClassifier\n",
    "from sklearn.model_selection import GridSearchCV\n",
    "from sklearn.ensemble import AdaBoostClassifier\n",
    "from sklearn.model_selection import RepeatedStratifiedKFold\n",
    "from sklearn.svm import SVC\n",
    "from imblearn.over_sampling import SMOTE, RandomOverSampler\n",
    "from sklearn.ensemble import VotingClassifier\n",
    "from sklearn.neighbors import KNeighborsClassifier\n",
    "from sklearn.metrics import plot_confusion_matrix"
   ]
  },
  {
   "cell_type": "markdown",
   "metadata": {},
   "source": [
    "### Caricamento dataset\n",
    "Dopo aver creato due DataFrame a partire dai dati di Kaggle, questi vengono uniti tramite *merge* per creare un DataFrame intero, che sarà il punto di partenza del processamento dei dati.\n",
    "\n",
    "In particolare, si sono associate ad ogni riga dei file *idutente_data* (ovvero ad ogni tap) le informazioni contenute nei file *user_idutente*, eseguendo un merge proprio sull'id utente."
   ]
  },
  {
   "cell_type": "code",
   "execution_count": 2,
   "metadata": {},
   "outputs": [],
   "source": [
    "# Creation of user_df, a DataFrame with informations about Archived Users\n",
    "\n",
    "users = []\n",
    "\n",
    "for filepath in glob.iglob('Users/Archived users/*.txt'):\n",
    "    users.append(filepath[-14:-4])\n",
    "\n",
    "user_number = len(users)    # number of users\n",
    "\n",
    "user_df = pd.DataFrame(users, columns = [\"Users\"])\n",
    "\n",
    "# Create columns\n",
    "\n",
    "col_index = []\n",
    "\n",
    "file = open('Users/Archived users/User_' + str(users[0]) + \".txt\")\n",
    "lines = file.read().split(\"\\n\")\n",
    "ll = len(lines)\n",
    "\n",
    "for l in range(ll-1):\n",
    "    sl = lines[l].split(\": \", 1)\n",
    "    col_index.append(sl[0])\n",
    "\n",
    "# Create values\n",
    "\n",
    "values_list = []\n",
    "values = []\n",
    "\n",
    "for i in range(user_number):\n",
    "    file = open('Users/Archived users/User_' + str(users[i]) + \".txt\")\n",
    "    lines = file.read().split(\"\\n\")\n",
    "    for l in range(ll-1):\n",
    "        sl = lines[l].split(\": \", 1)\n",
    "        v = sl[1]\n",
    "        values.append(v)\n",
    "    values_list.append(values)\n",
    "    values = []\n",
    "\n",
    "# Insert values in user_df\n",
    "\n",
    "value_df = pd.DataFrame(values_list, columns = col_index)\n",
    "\n",
    "user_df = pd.concat([user_df, value_df], axis = 1)\n",
    "\n",
    "# Creation of tappydata_df, a DataFrame with informations about Archived Data\n",
    "\n",
    "tappydata = []\n",
    "\n",
    "for filepath in glob.iglob('Data/Tappy Data/*.txt'):\n",
    "    file = open(filepath)\n",
    "    lines = file.read().split(\"\\n\")\n",
    "    for l in range(len(lines)-1):\n",
    "        x = lines[l]\n",
    "        x = x.split(\"\\t\")\n",
    "        tappydata.append(x)\n",
    "\n",
    "tappydata_df = pd.DataFrame(tappydata, columns = [\"Users\", \"Date\", \"Datetime\", \"TapPosition\", \"Hold\", \"Movement\", \"Latency\", \"Flight\", \"*\"])\n",
    "\n",
    "# Merge user_df with tappydata_df, joining on the attribute \"Users\"\n",
    "\n",
    "all_userdata_df = pd.merge(tappydata_df, user_df, how='inner', left_on='Users', right_on='Users')"
   ]
  },
  {
   "cell_type": "markdown",
   "metadata": {},
   "source": [
    "#### Pulizia dataset\n",
    "\n",
    "In una prima fase di scrematura delle informazioni a nostra disposizione, sono state effettuate delle scelte riguardo quali utenti considerare nel nostro processo di addestramento e quali no. Prima di analizzare in dettaglio tali scelte, è opportuno specificare che queste sono state dettate dalla volontà di dare maggiore credibilità alla predizione.\n",
    "\n",
    "In primo luogo, tra i pazienti a cui è stato diagnosticato il morbo di Parkinson sono stati tenuti in considerazione solo quelli la cui malattia si trova in uno stato primordiale. A tal proposito sono stati mantenuti solo i pazienti con campo impact di valore _mild_, oltre a quelli non malati. Proseguendo in questa direzione sono stati eliminati dall'analisi anche i pazienti che assumevano Levadopa, poiché, tendenzialmente, se un paziente è affetto dalla malattia in uno stato non grave, non gli viene somministrato tale farmaco.\n",
    "\n",
    "Una decisione di carattere più tecnico è stata quella di rimuovere i pazienti di cui sono stati collezionati troppi o troppi pochi dati di digitazione, con lo scopo di avere un insieme di dati più consistente e bilanciato."
   ]
  },
  {
   "cell_type": "markdown",
   "metadata": {},
   "source": [
    "#### Feature selection\n",
    "In una seconda fase di organizzazione delle informazioni si è ritenuto opportuno eliminare alcune feature che risultavano meno utili per l'addestramento. Queste sono:\n",
    "- Date\n",
    "- Datetime\n",
    "- Flight: per definizione può essere calcolato a partire da latency e hold, perciò risulta ridondante\n",
    "- '*': è una colonna vuota che viene generata al momento dell'importazione del file csv\n",
    "- tremors\n",
    "- diagnosisYear\n",
    "- Sided\n",
    "- UPDRS\n",
    "- Impact\n",
    "- Levadopa\n",
    "- DA\n",
    "- MAOB\n",
    "- Other\n",
    "\n",
    "Gli ultimi 9 attributi sono stati considerati non utili, in quanto troppo correlati al target.\n",
    "\n",
    "Infine si prendono in esame solo gli utenti di cui si conosce l'anno di nascita, poiché l'età è un attributo determinante e correlato alla positività al morbo di Parkinson."
   ]
  },
  {
   "cell_type": "code",
   "execution_count": 3,
   "metadata": {},
   "outputs": [],
   "source": [
    "# consider users with mild severity (if positives)\n",
    "all_userdata_df = all_userdata_df[all_userdata_df.Impact != \"Severe\"]\n",
    "all_userdata_df = all_userdata_df[all_userdata_df.Impact != \"Medium\"]\n",
    "\n",
    "# consider users who do not take Levadopa\n",
    "all_userdata_df = all_userdata_df[all_userdata_df.Levadopa == \"False\"]\n",
    "\n",
    "counts = all_userdata_df['Users'].value_counts()\n",
    "#avg = all_userdata_df.shape[0] / len(counts)\n",
    "#print(avg)  # average number of taps per user\n",
    "\n",
    "# only consider users which have >1000 and <100000 taps\n",
    "all_userdata_df = all_userdata_df[all_userdata_df['Users'].isin(counts[counts > 1000].index)]\n",
    "all_userdata_df = all_userdata_df[all_userdata_df['Users'].isin(counts[counts < 100000].index)]\n",
    "\n",
    "all_userdata_df = all_userdata_df.drop([\"Date\", \"Datetime\", \"Flight\", \"*\", \"Tremors\", \"DiagnosisYear\", \"Sided\", \"UPDRS\", \"Impact\", \"Levadopa\", \"DA\", \"MAOB\", \"Other\"], axis=1)\n",
    "\n",
    "# remove users which BirthYear is unknown\n",
    "all_userdata_df.drop(all_userdata_df.loc[all_userdata_df['BirthYear']==''].index, inplace=True)"
   ]
  },
  {
   "cell_type": "code",
   "execution_count": 6,
   "metadata": {},
   "outputs": [
    {
     "data": {
      "text/html": [
       "<div>\n",
       "<style scoped>\n",
       "    .dataframe tbody tr th:only-of-type {\n",
       "        vertical-align: middle;\n",
       "    }\n",
       "\n",
       "    .dataframe tbody tr th {\n",
       "        vertical-align: top;\n",
       "    }\n",
       "\n",
       "    .dataframe thead th {\n",
       "        text-align: right;\n",
       "    }\n",
       "</style>\n",
       "<table border=\"1\" class=\"dataframe\">\n",
       "  <thead>\n",
       "    <tr style=\"text-align: right;\">\n",
       "      <th></th>\n",
       "      <th>Users</th>\n",
       "      <th>TapPosition</th>\n",
       "      <th>Hold</th>\n",
       "      <th>Movement</th>\n",
       "      <th>Latency</th>\n",
       "      <th>Age</th>\n",
       "      <th>Gender</th>\n",
       "      <th>Parkinsons</th>\n",
       "    </tr>\n",
       "  </thead>\n",
       "  <tbody>\n",
       "    <tr>\n",
       "      <th>158453</th>\n",
       "      <td>0QAZFRHQHW</td>\n",
       "      <td>L</td>\n",
       "      <td>78.1</td>\n",
       "      <td>LL</td>\n",
       "      <td>312.5</td>\n",
       "      <td>58</td>\n",
       "      <td>0</td>\n",
       "      <td>0</td>\n",
       "    </tr>\n",
       "    <tr>\n",
       "      <th>158454</th>\n",
       "      <td>0QAZFRHQHW</td>\n",
       "      <td>L</td>\n",
       "      <td>78.1</td>\n",
       "      <td>LL</td>\n",
       "      <td>453.1</td>\n",
       "      <td>58</td>\n",
       "      <td>0</td>\n",
       "      <td>0</td>\n",
       "    </tr>\n",
       "    <tr>\n",
       "      <th>158455</th>\n",
       "      <td>0QAZFRHQHW</td>\n",
       "      <td>L</td>\n",
       "      <td>62.5</td>\n",
       "      <td>LL</td>\n",
       "      <td>414.1</td>\n",
       "      <td>58</td>\n",
       "      <td>0</td>\n",
       "      <td>0</td>\n",
       "    </tr>\n",
       "    <tr>\n",
       "      <th>158456</th>\n",
       "      <td>0QAZFRHQHW</td>\n",
       "      <td>L</td>\n",
       "      <td>93.8</td>\n",
       "      <td>LL</td>\n",
       "      <td>742.2</td>\n",
       "      <td>58</td>\n",
       "      <td>0</td>\n",
       "      <td>0</td>\n",
       "    </tr>\n",
       "    <tr>\n",
       "      <th>158457</th>\n",
       "      <td>0QAZFRHQHW</td>\n",
       "      <td>R</td>\n",
       "      <td>101.6</td>\n",
       "      <td>LR</td>\n",
       "      <td>523.4</td>\n",
       "      <td>58</td>\n",
       "      <td>0</td>\n",
       "      <td>0</td>\n",
       "    </tr>\n",
       "  </tbody>\n",
       "</table>\n",
       "</div>"
      ],
      "text/plain": [
       "             Users TapPosition   Hold Movement  Latency  Age  Gender  \\\n",
       "158453  0QAZFRHQHW           L   78.1       LL    312.5   58       0   \n",
       "158454  0QAZFRHQHW           L   78.1       LL    453.1   58       0   \n",
       "158455  0QAZFRHQHW           L   62.5       LL    414.1   58       0   \n",
       "158456  0QAZFRHQHW           L   93.8       LL    742.2   58       0   \n",
       "158457  0QAZFRHQHW           R  101.6       LR    523.4   58       0   \n",
       "\n",
       "        Parkinsons  \n",
       "158453           0  \n",
       "158454           0  \n",
       "158455           0  \n",
       "158456           0  \n",
       "158457           0  "
      ]
     },
     "execution_count": 6,
     "metadata": {},
     "output_type": "execute_result"
    }
   ],
   "source": [
    "all_userdata_df.head()"
   ]
  },
  {
   "cell_type": "markdown",
   "metadata": {},
   "source": [
    "##### Istogramma per i tap degli utenti\n",
    "Al variare del range considerato (l'ultimo è quello che viene preso in esame per l'analisi)."
   ]
  },
  {
   "cell_type": "code",
   "execution_count": 4,
   "metadata": {},
   "outputs": [
    {
     "data": {
      "text/plain": [
       "(array([28.,  8.,  2.,  2.,  6.,  2.,  3.,  2.,  0.,  1.]),\n",
       " array([  1000.,  10900.,  20800.,  30700.,  40600.,  50500.,  60400.,\n",
       "         70300.,  80200.,  90100., 100000.]),\n",
       " <BarContainer object of 10 artists>)"
      ]
     },
     "execution_count": 4,
     "metadata": {},
     "output_type": "execute_result"
    },
    {
     "data": {
      "image/png": "[encoded data removed]",
      "text/plain": [
       "<Figure size 2160x360 with 4 Axes>"
      ]
     },
     "metadata": {
      "needs_background": "light"
     },
     "output_type": "display_data"
    }
   ],
   "source": [
    "fig, axs = plt.subplots(1, 4, figsize = (30,5))\n",
    "axs[0].hist(counts)\n",
    "axs[1].hist(counts, range = [0, 10000], color = \"red\")\n",
    "axs[2].hist(counts, range = [0, 2000], color = \"green\")\n",
    "axs[3].hist(counts, range = [1000, 100000], color = \"orange\") # area of interest"
   ]
  },
  {
   "cell_type": "markdown",
   "metadata": {},
   "source": [
    "Vengono convertiti tutti i dati, da Object a Float (Hold e Latency), Int (BirthYear), Boolean (Gender e Parkinsons) per poter effettuare calcoli sui valori delle feature."
   ]
  },
  {
   "cell_type": "code",
   "execution_count": 4,
   "metadata": {},
   "outputs": [],
   "source": [
    "# convert and normalize\n",
    "\n",
    "all_userdata_df.Hold = all_userdata_df.Hold.astype(float)\n",
    "\n",
    "all_userdata_df.Latency = all_userdata_df.Latency.astype(float)\n",
    "\n",
    "all_userdata_df.BirthYear = all_userdata_df.BirthYear.astype(int)\n",
    "all_userdata_df.BirthYear = 2017 - all_userdata_df.BirthYear\n",
    "all_userdata_df = all_userdata_df.rename(columns = {\"BirthYear\" : \"Age\"}) # in terms of ages\n",
    "\n",
    "all_userdata_df.Gender.replace(['Male', 'Female'], [1, 0], inplace=True)\n",
    "\n",
    "all_userdata_df.Parkinsons.replace(['True', 'False'], [1, 0], inplace=True)"
   ]
  },
  {
   "cell_type": "code",
   "execution_count": 5,
   "metadata": {},
   "outputs": [
    {
     "data": {
      "text/html": [
       "<div>\n",
       "<style scoped>\n",
       "    .dataframe tbody tr th:only-of-type {\n",
       "        vertical-align: middle;\n",
       "    }\n",
       "\n",
       "    .dataframe tbody tr th {\n",
       "        vertical-align: top;\n",
       "    }\n",
       "\n",
       "    .dataframe thead th {\n",
       "        text-align: right;\n",
       "    }\n",
       "</style>\n",
       "<table border=\"1\" class=\"dataframe\">\n",
       "  <thead>\n",
       "    <tr style=\"text-align: right;\">\n",
       "      <th></th>\n",
       "      <th>Users</th>\n",
       "      <th>TapPosition</th>\n",
       "      <th>Hold</th>\n",
       "      <th>Movement</th>\n",
       "      <th>Latency</th>\n",
       "      <th>Age</th>\n",
       "      <th>Gender</th>\n",
       "      <th>Parkinsons</th>\n",
       "    </tr>\n",
       "  </thead>\n",
       "  <tbody>\n",
       "    <tr>\n",
       "      <th>158453</th>\n",
       "      <td>0QAZFRHQHW</td>\n",
       "      <td>L</td>\n",
       "      <td>78.1</td>\n",
       "      <td>LL</td>\n",
       "      <td>312.5</td>\n",
       "      <td>58</td>\n",
       "      <td>0</td>\n",
       "      <td>0</td>\n",
       "    </tr>\n",
       "    <tr>\n",
       "      <th>158454</th>\n",
       "      <td>0QAZFRHQHW</td>\n",
       "      <td>L</td>\n",
       "      <td>78.1</td>\n",
       "      <td>LL</td>\n",
       "      <td>453.1</td>\n",
       "      <td>58</td>\n",
       "      <td>0</td>\n",
       "      <td>0</td>\n",
       "    </tr>\n",
       "    <tr>\n",
       "      <th>158455</th>\n",
       "      <td>0QAZFRHQHW</td>\n",
       "      <td>L</td>\n",
       "      <td>62.5</td>\n",
       "      <td>LL</td>\n",
       "      <td>414.1</td>\n",
       "      <td>58</td>\n",
       "      <td>0</td>\n",
       "      <td>0</td>\n",
       "    </tr>\n",
       "    <tr>\n",
       "      <th>158456</th>\n",
       "      <td>0QAZFRHQHW</td>\n",
       "      <td>L</td>\n",
       "      <td>93.8</td>\n",
       "      <td>LL</td>\n",
       "      <td>742.2</td>\n",
       "      <td>58</td>\n",
       "      <td>0</td>\n",
       "      <td>0</td>\n",
       "    </tr>\n",
       "    <tr>\n",
       "      <th>158457</th>\n",
       "      <td>0QAZFRHQHW</td>\n",
       "      <td>R</td>\n",
       "      <td>101.6</td>\n",
       "      <td>LR</td>\n",
       "      <td>523.4</td>\n",
       "      <td>58</td>\n",
       "      <td>0</td>\n",
       "      <td>0</td>\n",
       "    </tr>\n",
       "  </tbody>\n",
       "</table>\n",
       "</div>"
      ],
      "text/plain": [
       "             Users TapPosition   Hold Movement  Latency  Age  Gender  \\\n",
       "158453  0QAZFRHQHW           L   78.1       LL    312.5   58       0   \n",
       "158454  0QAZFRHQHW           L   78.1       LL    453.1   58       0   \n",
       "158455  0QAZFRHQHW           L   62.5       LL    414.1   58       0   \n",
       "158456  0QAZFRHQHW           L   93.8       LL    742.2   58       0   \n",
       "158457  0QAZFRHQHW           R  101.6       LR    523.4   58       0   \n",
       "\n",
       "        Parkinsons  \n",
       "158453           0  \n",
       "158454           0  \n",
       "158455           0  \n",
       "158456           0  \n",
       "158457           0  "
      ]
     },
     "execution_count": 5,
     "metadata": {},
     "output_type": "execute_result"
    }
   ],
   "source": [
    "all_userdata_df.head()"
   ]
  },
  {
   "cell_type": "markdown",
   "metadata": {},
   "source": [
    "#### Individuazione e rimozione degli outliers\n",
    "Ci sono valori anomali delle feature Hold e Latency. Questi vengono rimossi, mantenendo i punti che hanno un valore di deviazione standard inferiore a 3."
   ]
  },
  {
   "cell_type": "code",
   "execution_count": 7,
   "metadata": {},
   "outputs": [
    {
     "data": {
      "text/html": [
       "<div>\n",
       "<style scoped>\n",
       "    .dataframe tbody tr th:only-of-type {\n",
       "        vertical-align: middle;\n",
       "    }\n",
       "\n",
       "    .dataframe tbody tr th {\n",
       "        vertical-align: top;\n",
       "    }\n",
       "\n",
       "    .dataframe thead th {\n",
       "        text-align: right;\n",
       "    }\n",
       "</style>\n",
       "<table border=\"1\" class=\"dataframe\">\n",
       "  <thead>\n",
       "    <tr style=\"text-align: right;\">\n",
       "      <th></th>\n",
       "      <th>Users</th>\n",
       "      <th>TapPosition</th>\n",
       "      <th>Hold</th>\n",
       "      <th>Movement</th>\n",
       "      <th>Latency</th>\n",
       "      <th>Age</th>\n",
       "      <th>Gender</th>\n",
       "      <th>Parkinsons</th>\n",
       "    </tr>\n",
       "  </thead>\n",
       "  <tbody>\n",
       "    <tr>\n",
       "      <th>158453</th>\n",
       "      <td>0QAZFRHQHW</td>\n",
       "      <td>L</td>\n",
       "      <td>78.1</td>\n",
       "      <td>LL</td>\n",
       "      <td>312.5</td>\n",
       "      <td>58</td>\n",
       "      <td>0</td>\n",
       "      <td>0</td>\n",
       "    </tr>\n",
       "    <tr>\n",
       "      <th>158454</th>\n",
       "      <td>0QAZFRHQHW</td>\n",
       "      <td>L</td>\n",
       "      <td>78.1</td>\n",
       "      <td>LL</td>\n",
       "      <td>453.1</td>\n",
       "      <td>58</td>\n",
       "      <td>0</td>\n",
       "      <td>0</td>\n",
       "    </tr>\n",
       "    <tr>\n",
       "      <th>158455</th>\n",
       "      <td>0QAZFRHQHW</td>\n",
       "      <td>L</td>\n",
       "      <td>62.5</td>\n",
       "      <td>LL</td>\n",
       "      <td>414.1</td>\n",
       "      <td>58</td>\n",
       "      <td>0</td>\n",
       "      <td>0</td>\n",
       "    </tr>\n",
       "    <tr>\n",
       "      <th>158457</th>\n",
       "      <td>0QAZFRHQHW</td>\n",
       "      <td>R</td>\n",
       "      <td>101.6</td>\n",
       "      <td>LR</td>\n",
       "      <td>523.4</td>\n",
       "      <td>58</td>\n",
       "      <td>0</td>\n",
       "      <td>0</td>\n",
       "    </tr>\n",
       "    <tr>\n",
       "      <th>158458</th>\n",
       "      <td>0QAZFRHQHW</td>\n",
       "      <td>R</td>\n",
       "      <td>93.8</td>\n",
       "      <td>RR</td>\n",
       "      <td>203.1</td>\n",
       "      <td>58</td>\n",
       "      <td>0</td>\n",
       "      <td>0</td>\n",
       "    </tr>\n",
       "  </tbody>\n",
       "</table>\n",
       "</div>"
      ],
      "text/plain": [
       "             Users TapPosition   Hold Movement  Latency  Age  Gender  \\\n",
       "158453  0QAZFRHQHW           L   78.1       LL    312.5   58       0   \n",
       "158454  0QAZFRHQHW           L   78.1       LL    453.1   58       0   \n",
       "158455  0QAZFRHQHW           L   62.5       LL    414.1   58       0   \n",
       "158457  0QAZFRHQHW           R  101.6       LR    523.4   58       0   \n",
       "158458  0QAZFRHQHW           R   93.8       RR    203.1   58       0   \n",
       "\n",
       "        Parkinsons  \n",
       "158453           0  \n",
       "158454           0  \n",
       "158455           0  \n",
       "158457           0  \n",
       "158458           0  "
      ]
     },
     "execution_count": 7,
     "metadata": {},
     "output_type": "execute_result"
    }
   ],
   "source": [
    "hold_z_scores = stats.zscore(all_userdata_df[\"Hold\"])\n",
    "abs_z_scores = np.abs(hold_z_scores)\n",
    "filtered_entries = (abs_z_scores < 3)\n",
    "all_userdata_df = all_userdata_df[filtered_entries]\n",
    "\n",
    "lat_z_scores = stats.zscore(all_userdata_df[\"Latency\"])\n",
    "abs_z_scores = np.abs(lat_z_scores)\n",
    "filtered_entries2 = (abs_z_scores < 3)\n",
    "all_userdata_df = all_userdata_df[filtered_entries2]\n",
    "\n",
    "all_userdata_df.head()"
   ]
  },
  {
   "cell_type": "markdown",
   "metadata": {},
   "source": [
    "Calcolo delle feature spiegate sopra.\n",
    "I due dataset ottenuti vengono concatenati per ottenere *combined_df*."
   ]
  },
  {
   "cell_type": "code",
   "execution_count": 8,
   "metadata": {},
   "outputs": [
    {
     "data": {
      "text/html": [
       "<div>\n",
       "<style scoped>\n",
       "    .dataframe tbody tr th:only-of-type {\n",
       "        vertical-align: middle;\n",
       "    }\n",
       "\n",
       "    .dataframe tbody tr th {\n",
       "        vertical-align: top;\n",
       "    }\n",
       "\n",
       "    .dataframe thead th {\n",
       "        text-align: right;\n",
       "    }\n",
       "</style>\n",
       "<table border=\"1\" class=\"dataframe\">\n",
       "  <thead>\n",
       "    <tr style=\"text-align: right;\">\n",
       "      <th></th>\n",
       "      <th></th>\n",
       "      <th>mean</th>\n",
       "      <th>std</th>\n",
       "      <th>skew</th>\n",
       "      <th>kurtosis</th>\n",
       "    </tr>\n",
       "    <tr>\n",
       "      <th>Users</th>\n",
       "      <th>TapPosition</th>\n",
       "      <th></th>\n",
       "      <th></th>\n",
       "      <th></th>\n",
       "      <th></th>\n",
       "    </tr>\n",
       "  </thead>\n",
       "  <tbody>\n",
       "    <tr>\n",
       "      <th rowspan=\"2\" valign=\"top\">0QAZFRHQHW</th>\n",
       "      <th>L</th>\n",
       "      <td>98.240728</td>\n",
       "      <td>23.645192</td>\n",
       "      <td>0.162026</td>\n",
       "      <td>0.809259</td>\n",
       "    </tr>\n",
       "    <tr>\n",
       "      <th>R</th>\n",
       "      <td>100.893509</td>\n",
       "      <td>36.764586</td>\n",
       "      <td>8.381640</td>\n",
       "      <td>126.796559</td>\n",
       "    </tr>\n",
       "    <tr>\n",
       "      <th rowspan=\"2\" valign=\"top\">1XNJCXS3EY</th>\n",
       "      <th>L</th>\n",
       "      <td>153.702407</td>\n",
       "      <td>53.213749</td>\n",
       "      <td>0.264109</td>\n",
       "      <td>0.605739</td>\n",
       "    </tr>\n",
       "    <tr>\n",
       "      <th>R</th>\n",
       "      <td>105.622423</td>\n",
       "      <td>27.036622</td>\n",
       "      <td>2.790381</td>\n",
       "      <td>23.913747</td>\n",
       "    </tr>\n",
       "    <tr>\n",
       "      <th>3DIXPRIOSW</th>\n",
       "      <th>L</th>\n",
       "      <td>147.733913</td>\n",
       "      <td>48.299987</td>\n",
       "      <td>0.705847</td>\n",
       "      <td>0.625965</td>\n",
       "    </tr>\n",
       "  </tbody>\n",
       "</table>\n",
       "</div>"
      ],
      "text/plain": [
       "                              mean        std      skew    kurtosis\n",
       "Users      TapPosition                                             \n",
       "0QAZFRHQHW L             98.240728  23.645192  0.162026    0.809259\n",
       "           R            100.893509  36.764586  8.381640  126.796559\n",
       "1XNJCXS3EY L            153.702407  53.213749  0.264109    0.605739\n",
       "           R            105.622423  27.036622  2.790381   23.913747\n",
       "3DIXPRIOSW L            147.733913  48.299987  0.705847    0.625965"
      ]
     },
     "execution_count": 8,
     "metadata": {},
     "output_type": "execute_result"
    }
   ],
   "source": [
    "hold_by_user =  all_userdata_df[all_userdata_df['TapPosition'] != 'S'].groupby(['Users', 'TapPosition'])['Hold'].agg([np.mean, np.std, skew, kurtosis])\n",
    "hold_by_user.head()"
   ]
  },
  {
   "cell_type": "code",
   "execution_count": 9,
   "metadata": {},
   "outputs": [
    {
     "data": {
      "text/html": [
       "<div>\n",
       "<style scoped>\n",
       "    .dataframe tbody tr th:only-of-type {\n",
       "        vertical-align: middle;\n",
       "    }\n",
       "\n",
       "    .dataframe tbody tr th {\n",
       "        vertical-align: top;\n",
       "    }\n",
       "\n",
       "    .dataframe thead th {\n",
       "        text-align: right;\n",
       "    }\n",
       "</style>\n",
       "<table border=\"1\" class=\"dataframe\">\n",
       "  <thead>\n",
       "    <tr style=\"text-align: right;\">\n",
       "      <th></th>\n",
       "      <th>mean_L</th>\n",
       "      <th>mean_R</th>\n",
       "      <th>std_L</th>\n",
       "      <th>std_R</th>\n",
       "      <th>skew_L</th>\n",
       "      <th>skew_R</th>\n",
       "      <th>kurtosis_L</th>\n",
       "      <th>kurtosis_R</th>\n",
       "      <th>mean_hold_diff</th>\n",
       "    </tr>\n",
       "    <tr>\n",
       "      <th>Users</th>\n",
       "      <th></th>\n",
       "      <th></th>\n",
       "      <th></th>\n",
       "      <th></th>\n",
       "      <th></th>\n",
       "      <th></th>\n",
       "      <th></th>\n",
       "      <th></th>\n",
       "      <th></th>\n",
       "    </tr>\n",
       "  </thead>\n",
       "  <tbody>\n",
       "    <tr>\n",
       "      <th>0QAZFRHQHW</th>\n",
       "      <td>98.240728</td>\n",
       "      <td>100.893509</td>\n",
       "      <td>23.645192</td>\n",
       "      <td>36.764586</td>\n",
       "      <td>0.162026</td>\n",
       "      <td>8.381640</td>\n",
       "      <td>0.809259</td>\n",
       "      <td>126.796559</td>\n",
       "      <td>-2.652781</td>\n",
       "    </tr>\n",
       "    <tr>\n",
       "      <th>1XNJCXS3EY</th>\n",
       "      <td>153.702407</td>\n",
       "      <td>105.622423</td>\n",
       "      <td>53.213749</td>\n",
       "      <td>27.036622</td>\n",
       "      <td>0.264109</td>\n",
       "      <td>2.790381</td>\n",
       "      <td>0.605739</td>\n",
       "      <td>23.913747</td>\n",
       "      <td>48.079984</td>\n",
       "    </tr>\n",
       "    <tr>\n",
       "      <th>3DIXPRIOSW</th>\n",
       "      <td>147.733913</td>\n",
       "      <td>167.174157</td>\n",
       "      <td>48.299987</td>\n",
       "      <td>56.074955</td>\n",
       "      <td>0.705847</td>\n",
       "      <td>0.015762</td>\n",
       "      <td>0.625965</td>\n",
       "      <td>0.243456</td>\n",
       "      <td>-19.440244</td>\n",
       "    </tr>\n",
       "    <tr>\n",
       "      <th>48DZPAJ5NS</th>\n",
       "      <td>125.093648</td>\n",
       "      <td>125.944823</td>\n",
       "      <td>21.344768</td>\n",
       "      <td>20.440962</td>\n",
       "      <td>0.433347</td>\n",
       "      <td>0.122130</td>\n",
       "      <td>5.116874</td>\n",
       "      <td>5.692705</td>\n",
       "      <td>-0.851175</td>\n",
       "    </tr>\n",
       "    <tr>\n",
       "      <th>5PQVTWULAC</th>\n",
       "      <td>131.600807</td>\n",
       "      <td>113.511765</td>\n",
       "      <td>37.119034</td>\n",
       "      <td>28.851806</td>\n",
       "      <td>0.968724</td>\n",
       "      <td>-0.031928</td>\n",
       "      <td>7.255120</td>\n",
       "      <td>0.777919</td>\n",
       "      <td>18.089043</td>\n",
       "    </tr>\n",
       "  </tbody>\n",
       "</table>\n",
       "</div>"
      ],
      "text/plain": [
       "                mean_L      mean_R      std_L      std_R    skew_L    skew_R  \\\n",
       "Users                                                                          \n",
       "0QAZFRHQHW   98.240728  100.893509  23.645192  36.764586  0.162026  8.381640   \n",
       "1XNJCXS3EY  153.702407  105.622423  53.213749  27.036622  0.264109  2.790381   \n",
       "3DIXPRIOSW  147.733913  167.174157  48.299987  56.074955  0.705847  0.015762   \n",
       "48DZPAJ5NS  125.093648  125.944823  21.344768  20.440962  0.433347  0.122130   \n",
       "5PQVTWULAC  131.600807  113.511765  37.119034  28.851806  0.968724 -0.031928   \n",
       "\n",
       "            kurtosis_L  kurtosis_R  mean_hold_diff  \n",
       "Users                                               \n",
       "0QAZFRHQHW    0.809259  126.796559       -2.652781  \n",
       "1XNJCXS3EY    0.605739   23.913747       48.079984  \n",
       "3DIXPRIOSW    0.625965    0.243456      -19.440244  \n",
       "48DZPAJ5NS    5.116874    5.692705       -0.851175  \n",
       "5PQVTWULAC    7.255120    0.777919       18.089043  "
      ]
     },
     "execution_count": 9,
     "metadata": {},
     "output_type": "execute_result"
    }
   ],
   "source": [
    "hold_by_user_flat = hold_by_user.unstack()\n",
    "hold_by_user_flat.columns = ['_'.join(col).strip() for col in hold_by_user_flat.columns.values]\n",
    "hold_by_user_flat['mean_hold_diff'] = hold_by_user_flat['mean_L'] - hold_by_user_flat['mean_R']\n",
    "hold_by_user_flat.head()"
   ]
  },
  {
   "cell_type": "code",
   "execution_count": 11,
   "metadata": {},
   "outputs": [
    {
     "data": {
      "text/html": [
       "<div>\n",
       "<style scoped>\n",
       "    .dataframe tbody tr th:only-of-type {\n",
       "        vertical-align: middle;\n",
       "    }\n",
       "\n",
       "    .dataframe tbody tr th {\n",
       "        vertical-align: top;\n",
       "    }\n",
       "\n",
       "    .dataframe thead th {\n",
       "        text-align: right;\n",
       "    }\n",
       "</style>\n",
       "<table border=\"1\" class=\"dataframe\">\n",
       "  <thead>\n",
       "    <tr style=\"text-align: right;\">\n",
       "      <th></th>\n",
       "      <th></th>\n",
       "      <th>mean</th>\n",
       "      <th>std</th>\n",
       "      <th>skew</th>\n",
       "      <th>kurtosis</th>\n",
       "    </tr>\n",
       "    <tr>\n",
       "      <th>Users</th>\n",
       "      <th>Movement</th>\n",
       "      <th></th>\n",
       "      <th></th>\n",
       "      <th></th>\n",
       "      <th></th>\n",
       "    </tr>\n",
       "  </thead>\n",
       "  <tbody>\n",
       "    <tr>\n",
       "      <th rowspan=\"4\" valign=\"top\">0QAZFRHQHW</th>\n",
       "      <th>LL</th>\n",
       "      <td>381.513699</td>\n",
       "      <td>138.685633</td>\n",
       "      <td>0.100358</td>\n",
       "      <td>-0.852940</td>\n",
       "    </tr>\n",
       "    <tr>\n",
       "      <th>LR</th>\n",
       "      <td>370.189302</td>\n",
       "      <td>166.356770</td>\n",
       "      <td>0.199686</td>\n",
       "      <td>-1.147631</td>\n",
       "    </tr>\n",
       "    <tr>\n",
       "      <th>RL</th>\n",
       "      <td>385.640196</td>\n",
       "      <td>143.653008</td>\n",
       "      <td>0.127575</td>\n",
       "      <td>-1.000993</td>\n",
       "    </tr>\n",
       "    <tr>\n",
       "      <th>RR</th>\n",
       "      <td>344.055417</td>\n",
       "      <td>132.589072</td>\n",
       "      <td>0.328537</td>\n",
       "      <td>-0.522270</td>\n",
       "    </tr>\n",
       "    <tr>\n",
       "      <th>1XNJCXS3EY</th>\n",
       "      <th>LL</th>\n",
       "      <td>347.882547</td>\n",
       "      <td>101.977747</td>\n",
       "      <td>-1.332784</td>\n",
       "      <td>1.946994</td>\n",
       "    </tr>\n",
       "  </tbody>\n",
       "</table>\n",
       "</div>"
      ],
      "text/plain": [
       "                           mean         std      skew  kurtosis\n",
       "Users      Movement                                            \n",
       "0QAZFRHQHW LL        381.513699  138.685633  0.100358 -0.852940\n",
       "           LR        370.189302  166.356770  0.199686 -1.147631\n",
       "           RL        385.640196  143.653008  0.127575 -1.000993\n",
       "           RR        344.055417  132.589072  0.328537 -0.522270\n",
       "1XNJCXS3EY LL        347.882547  101.977747 -1.332784  1.946994"
      ]
     },
     "execution_count": 11,
     "metadata": {},
     "output_type": "execute_result"
    }
   ],
   "source": [
    "latency_by_user = all_userdata_df[np.isin(all_userdata_df['Movement'], ['LL', 'LR', 'RL', 'RR'])].groupby(['Users', 'Movement'])['Latency'].agg([np.mean, np.std, skew, kurtosis])\n",
    "latency_by_user.head()"
   ]
  },
  {
   "cell_type": "code",
   "execution_count": 12,
   "metadata": {},
   "outputs": [
    {
     "data": {
      "text/html": [
       "<div>\n",
       "<style scoped>\n",
       "    .dataframe tbody tr th:only-of-type {\n",
       "        vertical-align: middle;\n",
       "    }\n",
       "\n",
       "    .dataframe tbody tr th {\n",
       "        vertical-align: top;\n",
       "    }\n",
       "\n",
       "    .dataframe thead th {\n",
       "        text-align: right;\n",
       "    }\n",
       "</style>\n",
       "<table border=\"1\" class=\"dataframe\">\n",
       "  <thead>\n",
       "    <tr style=\"text-align: right;\">\n",
       "      <th></th>\n",
       "      <th>mean_LL</th>\n",
       "      <th>mean_LR</th>\n",
       "      <th>mean_RL</th>\n",
       "      <th>mean_RR</th>\n",
       "      <th>std_LL</th>\n",
       "      <th>std_LR</th>\n",
       "      <th>std_RL</th>\n",
       "      <th>std_RR</th>\n",
       "      <th>skew_LL</th>\n",
       "      <th>skew_LR</th>\n",
       "      <th>skew_RL</th>\n",
       "      <th>skew_RR</th>\n",
       "      <th>kurtosis_LL</th>\n",
       "      <th>kurtosis_LR</th>\n",
       "      <th>kurtosis_RL</th>\n",
       "      <th>kurtosis_RR</th>\n",
       "      <th>mean_LR_RL_diff</th>\n",
       "      <th>mean_LL_RR_diff</th>\n",
       "    </tr>\n",
       "    <tr>\n",
       "      <th>Users</th>\n",
       "      <th></th>\n",
       "      <th></th>\n",
       "      <th></th>\n",
       "      <th></th>\n",
       "      <th></th>\n",
       "      <th></th>\n",
       "      <th></th>\n",
       "      <th></th>\n",
       "      <th></th>\n",
       "      <th></th>\n",
       "      <th></th>\n",
       "      <th></th>\n",
       "      <th></th>\n",
       "      <th></th>\n",
       "      <th></th>\n",
       "      <th></th>\n",
       "      <th></th>\n",
       "      <th></th>\n",
       "    </tr>\n",
       "  </thead>\n",
       "  <tbody>\n",
       "    <tr>\n",
       "      <th>0QAZFRHQHW</th>\n",
       "      <td>381.513699</td>\n",
       "      <td>370.189302</td>\n",
       "      <td>385.640196</td>\n",
       "      <td>344.055417</td>\n",
       "      <td>138.685633</td>\n",
       "      <td>166.356770</td>\n",
       "      <td>143.653008</td>\n",
       "      <td>132.589072</td>\n",
       "      <td>0.100358</td>\n",
       "      <td>0.199686</td>\n",
       "      <td>0.127575</td>\n",
       "      <td>0.328537</td>\n",
       "      <td>-0.852940</td>\n",
       "      <td>-1.147631</td>\n",
       "      <td>-1.000993</td>\n",
       "      <td>-0.522270</td>\n",
       "      <td>-15.450894</td>\n",
       "      <td>37.458282</td>\n",
       "    </tr>\n",
       "    <tr>\n",
       "      <th>1XNJCXS3EY</th>\n",
       "      <td>347.882547</td>\n",
       "      <td>313.541489</td>\n",
       "      <td>310.799454</td>\n",
       "      <td>322.170833</td>\n",
       "      <td>101.977747</td>\n",
       "      <td>97.680669</td>\n",
       "      <td>98.038127</td>\n",
       "      <td>82.901327</td>\n",
       "      <td>-1.332784</td>\n",
       "      <td>0.008248</td>\n",
       "      <td>0.037478</td>\n",
       "      <td>-0.284840</td>\n",
       "      <td>1.946994</td>\n",
       "      <td>-0.715397</td>\n",
       "      <td>-0.723288</td>\n",
       "      <td>0.725222</td>\n",
       "      <td>2.742036</td>\n",
       "      <td>25.711714</td>\n",
       "    </tr>\n",
       "    <tr>\n",
       "      <th>3DIXPRIOSW</th>\n",
       "      <td>486.421516</td>\n",
       "      <td>496.948684</td>\n",
       "      <td>458.456098</td>\n",
       "      <td>454.361497</td>\n",
       "      <td>110.525337</td>\n",
       "      <td>114.504608</td>\n",
       "      <td>108.730466</td>\n",
       "      <td>138.325691</td>\n",
       "      <td>-0.654455</td>\n",
       "      <td>-0.070632</td>\n",
       "      <td>0.172017</td>\n",
       "      <td>-0.842368</td>\n",
       "      <td>0.702029</td>\n",
       "      <td>-1.162515</td>\n",
       "      <td>-0.750796</td>\n",
       "      <td>0.818784</td>\n",
       "      <td>38.492587</td>\n",
       "      <td>32.060019</td>\n",
       "    </tr>\n",
       "    <tr>\n",
       "      <th>48DZPAJ5NS</th>\n",
       "      <td>300.190663</td>\n",
       "      <td>335.274126</td>\n",
       "      <td>321.053098</td>\n",
       "      <td>332.504906</td>\n",
       "      <td>81.809939</td>\n",
       "      <td>81.450453</td>\n",
       "      <td>88.512695</td>\n",
       "      <td>90.989458</td>\n",
       "      <td>0.361579</td>\n",
       "      <td>0.020670</td>\n",
       "      <td>0.143658</td>\n",
       "      <td>-0.052046</td>\n",
       "      <td>-0.565283</td>\n",
       "      <td>-0.705773</td>\n",
       "      <td>-0.929929</td>\n",
       "      <td>-1.042327</td>\n",
       "      <td>14.221029</td>\n",
       "      <td>-32.314242</td>\n",
       "    </tr>\n",
       "    <tr>\n",
       "      <th>5PQVTWULAC</th>\n",
       "      <td>347.886933</td>\n",
       "      <td>461.184922</td>\n",
       "      <td>429.867896</td>\n",
       "      <td>369.359147</td>\n",
       "      <td>105.043167</td>\n",
       "      <td>114.216291</td>\n",
       "      <td>110.960993</td>\n",
       "      <td>121.075534</td>\n",
       "      <td>0.471543</td>\n",
       "      <td>-0.290666</td>\n",
       "      <td>-0.029059</td>\n",
       "      <td>0.348485</td>\n",
       "      <td>1.542700</td>\n",
       "      <td>-0.364315</td>\n",
       "      <td>0.016987</td>\n",
       "      <td>0.084734</td>\n",
       "      <td>31.317026</td>\n",
       "      <td>-21.472215</td>\n",
       "    </tr>\n",
       "  </tbody>\n",
       "</table>\n",
       "</div>"
      ],
      "text/plain": [
       "               mean_LL     mean_LR     mean_RL     mean_RR      std_LL  \\\n",
       "Users                                                                    \n",
       "0QAZFRHQHW  381.513699  370.189302  385.640196  344.055417  138.685633   \n",
       "1XNJCXS3EY  347.882547  313.541489  310.799454  322.170833  101.977747   \n",
       "3DIXPRIOSW  486.421516  496.948684  458.456098  454.361497  110.525337   \n",
       "48DZPAJ5NS  300.190663  335.274126  321.053098  332.504906   81.809939   \n",
       "5PQVTWULAC  347.886933  461.184922  429.867896  369.359147  105.043167   \n",
       "\n",
       "                std_LR      std_RL      std_RR   skew_LL   skew_LR   skew_RL  \\\n",
       "Users                                                                          \n",
       "0QAZFRHQHW  166.356770  143.653008  132.589072  0.100358  0.199686  0.127575   \n",
       "1XNJCXS3EY   97.680669   98.038127   82.901327 -1.332784  0.008248  0.037478   \n",
       "3DIXPRIOSW  114.504608  108.730466  138.325691 -0.654455 -0.070632  0.172017   \n",
       "48DZPAJ5NS   81.450453   88.512695   90.989458  0.361579  0.020670  0.143658   \n",
       "5PQVTWULAC  114.216291  110.960993  121.075534  0.471543 -0.290666 -0.029059   \n",
       "\n",
       "             skew_RR  kurtosis_LL  kurtosis_LR  kurtosis_RL  kurtosis_RR  \\\n",
       "Users                                                                      \n",
       "0QAZFRHQHW  0.328537    -0.852940    -1.147631    -1.000993    -0.522270   \n",
       "1XNJCXS3EY -0.284840     1.946994    -0.715397    -0.723288     0.725222   \n",
       "3DIXPRIOSW -0.842368     0.702029    -1.162515    -0.750796     0.818784   \n",
       "48DZPAJ5NS -0.052046    -0.565283    -0.705773    -0.929929    -1.042327   \n",
       "5PQVTWULAC  0.348485     1.542700    -0.364315     0.016987     0.084734   \n",
       "\n",
       "            mean_LR_RL_diff  mean_LL_RR_diff  \n",
       "Users                                         \n",
       "0QAZFRHQHW       -15.450894        37.458282  \n",
       "1XNJCXS3EY         2.742036        25.711714  \n",
       "3DIXPRIOSW        38.492587        32.060019  \n",
       "48DZPAJ5NS        14.221029       -32.314242  \n",
       "5PQVTWULAC        31.317026       -21.472215  "
      ]
     },
     "execution_count": 12,
     "metadata": {},
     "output_type": "execute_result"
    }
   ],
   "source": [
    "latency_by_user_flat = latency_by_user.unstack()\n",
    "latency_by_user_flat.columns = ['_'.join(col).strip() for col in latency_by_user_flat.columns.values]\n",
    "latency_by_user_flat['mean_LR_RL_diff'] = latency_by_user_flat['mean_LR'] - latency_by_user_flat['mean_RL']\n",
    "latency_by_user_flat['mean_LL_RR_diff'] = latency_by_user_flat['mean_LL'] - latency_by_user_flat['mean_RR']\n",
    "latency_by_user_flat.head()"
   ]
  },
  {
   "cell_type": "code",
   "execution_count": 13,
   "metadata": {},
   "outputs": [
    {
     "data": {
      "text/plain": [
       "(48, 27)"
      ]
     },
     "execution_count": 13,
     "metadata": {},
     "output_type": "execute_result"
    }
   ],
   "source": [
    "combined_df = pd.concat([hold_by_user_flat, latency_by_user_flat], axis = 1)\n",
    "combined_df.shape"
   ]
  },
  {
   "cell_type": "markdown",
   "metadata": {},
   "source": [
    "*all_userdata_df* e *combined_df* vengono uniti per creare *complete_df*, costituito da tutti i valori statistici calcolati per le vecchie feature TapPosition e Movement, oltre alle feature Age, Gender e Parkinsons."
   ]
  },
  {
   "cell_type": "code",
   "execution_count": 14,
   "metadata": {},
   "outputs": [
    {
     "data": {
      "text/html": [
       "<div>\n",
       "<style scoped>\n",
       "    .dataframe tbody tr th:only-of-type {\n",
       "        vertical-align: middle;\n",
       "    }\n",
       "\n",
       "    .dataframe tbody tr th {\n",
       "        vertical-align: top;\n",
       "    }\n",
       "\n",
       "    .dataframe thead th {\n",
       "        text-align: right;\n",
       "    }\n",
       "</style>\n",
       "<table border=\"1\" class=\"dataframe\">\n",
       "  <thead>\n",
       "    <tr style=\"text-align: right;\">\n",
       "      <th></th>\n",
       "      <th>Users</th>\n",
       "      <th>mean_L</th>\n",
       "      <th>mean_R</th>\n",
       "      <th>std_L</th>\n",
       "      <th>std_R</th>\n",
       "      <th>skew_L</th>\n",
       "      <th>skew_R</th>\n",
       "      <th>kurtosis_L</th>\n",
       "      <th>kurtosis_R</th>\n",
       "      <th>mean_hold_diff</th>\n",
       "      <th>...</th>\n",
       "      <th>skew_RR</th>\n",
       "      <th>kurtosis_LL</th>\n",
       "      <th>kurtosis_LR</th>\n",
       "      <th>kurtosis_RL</th>\n",
       "      <th>kurtosis_RR</th>\n",
       "      <th>mean_LR_RL_diff</th>\n",
       "      <th>mean_LL_RR_diff</th>\n",
       "      <th>Age</th>\n",
       "      <th>Gender</th>\n",
       "      <th>Parkinsons</th>\n",
       "    </tr>\n",
       "  </thead>\n",
       "  <tbody>\n",
       "    <tr>\n",
       "      <th>0</th>\n",
       "      <td>0QAZFRHQHW</td>\n",
       "      <td>98.240728</td>\n",
       "      <td>100.893509</td>\n",
       "      <td>23.645192</td>\n",
       "      <td>36.764586</td>\n",
       "      <td>0.162026</td>\n",
       "      <td>8.381640</td>\n",
       "      <td>0.809259</td>\n",
       "      <td>126.796559</td>\n",
       "      <td>-2.652781</td>\n",
       "      <td>...</td>\n",
       "      <td>0.328537</td>\n",
       "      <td>-0.852940</td>\n",
       "      <td>-1.147631</td>\n",
       "      <td>-1.000993</td>\n",
       "      <td>-0.522270</td>\n",
       "      <td>-15.450894</td>\n",
       "      <td>37.458282</td>\n",
       "      <td>58</td>\n",
       "      <td>0</td>\n",
       "      <td>0</td>\n",
       "    </tr>\n",
       "    <tr>\n",
       "      <th>1</th>\n",
       "      <td>1XNJCXS3EY</td>\n",
       "      <td>153.702407</td>\n",
       "      <td>105.622423</td>\n",
       "      <td>53.213749</td>\n",
       "      <td>27.036622</td>\n",
       "      <td>0.264109</td>\n",
       "      <td>2.790381</td>\n",
       "      <td>0.605739</td>\n",
       "      <td>23.913747</td>\n",
       "      <td>48.079984</td>\n",
       "      <td>...</td>\n",
       "      <td>-0.284840</td>\n",
       "      <td>1.946994</td>\n",
       "      <td>-0.715397</td>\n",
       "      <td>-0.723288</td>\n",
       "      <td>0.725222</td>\n",
       "      <td>2.742036</td>\n",
       "      <td>25.711714</td>\n",
       "      <td>81</td>\n",
       "      <td>1</td>\n",
       "      <td>0</td>\n",
       "    </tr>\n",
       "    <tr>\n",
       "      <th>2</th>\n",
       "      <td>3DIXPRIOSW</td>\n",
       "      <td>147.733913</td>\n",
       "      <td>167.174157</td>\n",
       "      <td>48.299987</td>\n",
       "      <td>56.074955</td>\n",
       "      <td>0.705847</td>\n",
       "      <td>0.015762</td>\n",
       "      <td>0.625965</td>\n",
       "      <td>0.243456</td>\n",
       "      <td>-19.440244</td>\n",
       "      <td>...</td>\n",
       "      <td>-0.842368</td>\n",
       "      <td>0.702029</td>\n",
       "      <td>-1.162515</td>\n",
       "      <td>-0.750796</td>\n",
       "      <td>0.818784</td>\n",
       "      <td>38.492587</td>\n",
       "      <td>32.060019</td>\n",
       "      <td>81</td>\n",
       "      <td>1</td>\n",
       "      <td>0</td>\n",
       "    </tr>\n",
       "    <tr>\n",
       "      <th>3</th>\n",
       "      <td>48DZPAJ5NS</td>\n",
       "      <td>125.093648</td>\n",
       "      <td>125.944823</td>\n",
       "      <td>21.344768</td>\n",
       "      <td>20.440962</td>\n",
       "      <td>0.433347</td>\n",
       "      <td>0.122130</td>\n",
       "      <td>5.116874</td>\n",
       "      <td>5.692705</td>\n",
       "      <td>-0.851175</td>\n",
       "      <td>...</td>\n",
       "      <td>-0.052046</td>\n",
       "      <td>-0.565283</td>\n",
       "      <td>-0.705773</td>\n",
       "      <td>-0.929929</td>\n",
       "      <td>-1.042327</td>\n",
       "      <td>14.221029</td>\n",
       "      <td>-32.314242</td>\n",
       "      <td>67</td>\n",
       "      <td>1</td>\n",
       "      <td>1</td>\n",
       "    </tr>\n",
       "    <tr>\n",
       "      <th>4</th>\n",
       "      <td>5PQVTWULAC</td>\n",
       "      <td>131.600807</td>\n",
       "      <td>113.511765</td>\n",
       "      <td>37.119034</td>\n",
       "      <td>28.851806</td>\n",
       "      <td>0.968724</td>\n",
       "      <td>-0.031928</td>\n",
       "      <td>7.255120</td>\n",
       "      <td>0.777919</td>\n",
       "      <td>18.089043</td>\n",
       "      <td>...</td>\n",
       "      <td>0.348485</td>\n",
       "      <td>1.542700</td>\n",
       "      <td>-0.364315</td>\n",
       "      <td>0.016987</td>\n",
       "      <td>0.084734</td>\n",
       "      <td>31.317026</td>\n",
       "      <td>-21.472215</td>\n",
       "      <td>74</td>\n",
       "      <td>0</td>\n",
       "      <td>1</td>\n",
       "    </tr>\n",
       "  </tbody>\n",
       "</table>\n",
       "<p>5 rows × 31 columns</p>\n",
       "</div>"
      ],
      "text/plain": [
       "        Users      mean_L      mean_R      std_L      std_R    skew_L  \\\n",
       "0  0QAZFRHQHW   98.240728  100.893509  23.645192  36.764586  0.162026   \n",
       "1  1XNJCXS3EY  153.702407  105.622423  53.213749  27.036622  0.264109   \n",
       "2  3DIXPRIOSW  147.733913  167.174157  48.299987  56.074955  0.705847   \n",
       "3  48DZPAJ5NS  125.093648  125.944823  21.344768  20.440962  0.433347   \n",
       "4  5PQVTWULAC  131.600807  113.511765  37.119034  28.851806  0.968724   \n",
       "\n",
       "     skew_R  kurtosis_L  kurtosis_R  mean_hold_diff  ...   skew_RR  \\\n",
       "0  8.381640    0.809259  126.796559       -2.652781  ...  0.328537   \n",
       "1  2.790381    0.605739   23.913747       48.079984  ... -0.284840   \n",
       "2  0.015762    0.625965    0.243456      -19.440244  ... -0.842368   \n",
       "3  0.122130    5.116874    5.692705       -0.851175  ... -0.052046   \n",
       "4 -0.031928    7.255120    0.777919       18.089043  ...  0.348485   \n",
       "\n",
       "   kurtosis_LL  kurtosis_LR  kurtosis_RL  kurtosis_RR  mean_LR_RL_diff  \\\n",
       "0    -0.852940    -1.147631    -1.000993    -0.522270       -15.450894   \n",
       "1     1.946994    -0.715397    -0.723288     0.725222         2.742036   \n",
       "2     0.702029    -1.162515    -0.750796     0.818784        38.492587   \n",
       "3    -0.565283    -0.705773    -0.929929    -1.042327        14.221029   \n",
       "4     1.542700    -0.364315     0.016987     0.084734        31.317026   \n",
       "\n",
       "   mean_LL_RR_diff  Age  Gender  Parkinsons  \n",
       "0        37.458282   58       0           0  \n",
       "1        25.711714   81       1           0  \n",
       "2        32.060019   81       1           0  \n",
       "3       -32.314242   67       1           1  \n",
       "4       -21.472215   74       0           1  \n",
       "\n",
       "[5 rows x 31 columns]"
      ]
     },
     "execution_count": 14,
     "metadata": {},
     "output_type": "execute_result"
    }
   ],
   "source": [
    "all_userdata_df = all_userdata_df.drop([\"TapPosition\", \"Hold\", \"Latency\", \"Movement\"], axis=1)\n",
    "all_userdata_df = all_userdata_df.drop_duplicates()\n",
    "\n",
    "complete_df = combined_df.merge(all_userdata_df, how='left', left_on = 'Users', right_on = 'Users')\n",
    "complete_df.head()"
   ]
  },
  {
   "cell_type": "markdown",
   "metadata": {},
   "source": [
    "##### Istogrammi per *complete_df*\n",
    "Tutte le feature vengono graficate con i seguenti istogrammi."
   ]
  },
  {
   "cell_type": "code",
   "execution_count": 15,
   "metadata": {},
   "outputs": [
    {
     "data": {
      "image/png": "[encoded data removed]",
      "text/plain": [
       "<Figure size 1800x1440 with 30 Axes>"
      ]
     },
     "metadata": {
      "needs_background": "light"
     },
     "output_type": "display_data"
    }
   ],
   "source": [
    "complete_df.hist(bins=20, figsize=(25, 20))\n",
    "plt.show()"
   ]
  },
  {
   "cell_type": "markdown",
   "metadata": {},
   "source": [
    "Pie plot per i pazienti con e senza morbo di Parkinson."
   ]
  },
  {
   "cell_type": "code",
   "execution_count": 16,
   "metadata": {},
   "outputs": [
    {
     "data": {
      "image/png": "[encoded data removed]",
      "text/plain": [
       "<Figure size 576x576 with 1 Axes>"
      ]
     },
     "metadata": {},
     "output_type": "display_data"
    }
   ],
   "source": [
    "total_rows = complete_df.shape\n",
    "counts_parkinson = complete_df[complete_df[\"Parkinsons\"] == 1].shape\n",
    "\n",
    "x = np.array([counts_parkinson[0], total_rows[0]-counts_parkinson[0]])\n",
    "label = [\"Positive\", \"Negative\"]\n",
    "plt.figure(figsize=(8,8), facecolor = \"white\")\n",
    "\n",
    "plt.pie(x, labels = label, autopct='%1.1f%%')\n",
    "plt.title(\"Parkinsons Percentage\")\n",
    "plt.legend(x, title=\"Parkinsons Amount\", loc=\"center left\", bbox_to_anchor=(1, 0, 0.5, 1))\n",
    "plt.show()"
   ]
  },
  {
   "cell_type": "markdown",
   "metadata": {},
   "source": [
    "Il dataset è leggermente sbilanciato, con una quantità maggiore di pazienti negativi. Per questo verrà effettuato un oversampling attraverso l'utilizzo della tecnica SMOTE."
   ]
  },
  {
   "cell_type": "code",
   "execution_count": 17,
   "metadata": {},
   "outputs": [
    {
     "data": {
      "text/html": [
       "<div>\n",
       "<style scoped>\n",
       "    .dataframe tbody tr th:only-of-type {\n",
       "        vertical-align: middle;\n",
       "    }\n",
       "\n",
       "    .dataframe tbody tr th {\n",
       "        vertical-align: top;\n",
       "    }\n",
       "\n",
       "    .dataframe thead th {\n",
       "        text-align: right;\n",
       "    }\n",
       "</style>\n",
       "<table border=\"1\" class=\"dataframe\">\n",
       "  <thead>\n",
       "    <tr style=\"text-align: right;\">\n",
       "      <th></th>\n",
       "      <th>mean_L</th>\n",
       "      <th>mean_R</th>\n",
       "      <th>std_L</th>\n",
       "      <th>std_R</th>\n",
       "      <th>skew_L</th>\n",
       "      <th>skew_R</th>\n",
       "      <th>kurtosis_L</th>\n",
       "      <th>kurtosis_R</th>\n",
       "      <th>mean_hold_diff</th>\n",
       "      <th>mean_LL</th>\n",
       "      <th>...</th>\n",
       "      <th>skew_RR</th>\n",
       "      <th>kurtosis_LL</th>\n",
       "      <th>kurtosis_LR</th>\n",
       "      <th>kurtosis_RL</th>\n",
       "      <th>kurtosis_RR</th>\n",
       "      <th>mean_LR_RL_diff</th>\n",
       "      <th>mean_LL_RR_diff</th>\n",
       "      <th>Age</th>\n",
       "      <th>Gender</th>\n",
       "      <th>Parkinsons</th>\n",
       "    </tr>\n",
       "    <tr>\n",
       "      <th>Users</th>\n",
       "      <th></th>\n",
       "      <th></th>\n",
       "      <th></th>\n",
       "      <th></th>\n",
       "      <th></th>\n",
       "      <th></th>\n",
       "      <th></th>\n",
       "      <th></th>\n",
       "      <th></th>\n",
       "      <th></th>\n",
       "      <th></th>\n",
       "      <th></th>\n",
       "      <th></th>\n",
       "      <th></th>\n",
       "      <th></th>\n",
       "      <th></th>\n",
       "      <th></th>\n",
       "      <th></th>\n",
       "      <th></th>\n",
       "      <th></th>\n",
       "      <th></th>\n",
       "    </tr>\n",
       "  </thead>\n",
       "  <tbody>\n",
       "    <tr>\n",
       "      <th>0QAZFRHQHW</th>\n",
       "      <td>98.240728</td>\n",
       "      <td>100.893509</td>\n",
       "      <td>23.645192</td>\n",
       "      <td>36.764586</td>\n",
       "      <td>0.162026</td>\n",
       "      <td>8.381640</td>\n",
       "      <td>0.809259</td>\n",
       "      <td>126.796559</td>\n",
       "      <td>-2.652781</td>\n",
       "      <td>381.513699</td>\n",
       "      <td>...</td>\n",
       "      <td>0.328537</td>\n",
       "      <td>-0.852940</td>\n",
       "      <td>-1.147631</td>\n",
       "      <td>-1.000993</td>\n",
       "      <td>-0.522270</td>\n",
       "      <td>-15.450894</td>\n",
       "      <td>37.458282</td>\n",
       "      <td>58</td>\n",
       "      <td>0</td>\n",
       "      <td>0</td>\n",
       "    </tr>\n",
       "    <tr>\n",
       "      <th>1XNJCXS3EY</th>\n",
       "      <td>153.702407</td>\n",
       "      <td>105.622423</td>\n",
       "      <td>53.213749</td>\n",
       "      <td>27.036622</td>\n",
       "      <td>0.264109</td>\n",
       "      <td>2.790381</td>\n",
       "      <td>0.605739</td>\n",
       "      <td>23.913747</td>\n",
       "      <td>48.079984</td>\n",
       "      <td>347.882547</td>\n",
       "      <td>...</td>\n",
       "      <td>-0.284840</td>\n",
       "      <td>1.946994</td>\n",
       "      <td>-0.715397</td>\n",
       "      <td>-0.723288</td>\n",
       "      <td>0.725222</td>\n",
       "      <td>2.742036</td>\n",
       "      <td>25.711714</td>\n",
       "      <td>81</td>\n",
       "      <td>1</td>\n",
       "      <td>0</td>\n",
       "    </tr>\n",
       "    <tr>\n",
       "      <th>3DIXPRIOSW</th>\n",
       "      <td>147.733913</td>\n",
       "      <td>167.174157</td>\n",
       "      <td>48.299987</td>\n",
       "      <td>56.074955</td>\n",
       "      <td>0.705847</td>\n",
       "      <td>0.015762</td>\n",
       "      <td>0.625965</td>\n",
       "      <td>0.243456</td>\n",
       "      <td>-19.440244</td>\n",
       "      <td>486.421516</td>\n",
       "      <td>...</td>\n",
       "      <td>-0.842368</td>\n",
       "      <td>0.702029</td>\n",
       "      <td>-1.162515</td>\n",
       "      <td>-0.750796</td>\n",
       "      <td>0.818784</td>\n",
       "      <td>38.492587</td>\n",
       "      <td>32.060019</td>\n",
       "      <td>81</td>\n",
       "      <td>1</td>\n",
       "      <td>0</td>\n",
       "    </tr>\n",
       "    <tr>\n",
       "      <th>48DZPAJ5NS</th>\n",
       "      <td>125.093648</td>\n",
       "      <td>125.944823</td>\n",
       "      <td>21.344768</td>\n",
       "      <td>20.440962</td>\n",
       "      <td>0.433347</td>\n",
       "      <td>0.122130</td>\n",
       "      <td>5.116874</td>\n",
       "      <td>5.692705</td>\n",
       "      <td>-0.851175</td>\n",
       "      <td>300.190663</td>\n",
       "      <td>...</td>\n",
       "      <td>-0.052046</td>\n",
       "      <td>-0.565283</td>\n",
       "      <td>-0.705773</td>\n",
       "      <td>-0.929929</td>\n",
       "      <td>-1.042327</td>\n",
       "      <td>14.221029</td>\n",
       "      <td>-32.314242</td>\n",
       "      <td>67</td>\n",
       "      <td>1</td>\n",
       "      <td>1</td>\n",
       "    </tr>\n",
       "    <tr>\n",
       "      <th>5PQVTWULAC</th>\n",
       "      <td>131.600807</td>\n",
       "      <td>113.511765</td>\n",
       "      <td>37.119034</td>\n",
       "      <td>28.851806</td>\n",
       "      <td>0.968724</td>\n",
       "      <td>-0.031928</td>\n",
       "      <td>7.255120</td>\n",
       "      <td>0.777919</td>\n",
       "      <td>18.089043</td>\n",
       "      <td>347.886933</td>\n",
       "      <td>...</td>\n",
       "      <td>0.348485</td>\n",
       "      <td>1.542700</td>\n",
       "      <td>-0.364315</td>\n",
       "      <td>0.016987</td>\n",
       "      <td>0.084734</td>\n",
       "      <td>31.317026</td>\n",
       "      <td>-21.472215</td>\n",
       "      <td>74</td>\n",
       "      <td>0</td>\n",
       "      <td>1</td>\n",
       "    </tr>\n",
       "  </tbody>\n",
       "</table>\n",
       "<p>5 rows × 30 columns</p>\n",
       "</div>"
      ],
      "text/plain": [
       "                mean_L      mean_R      std_L      std_R    skew_L    skew_R  \\\n",
       "Users                                                                          \n",
       "0QAZFRHQHW   98.240728  100.893509  23.645192  36.764586  0.162026  8.381640   \n",
       "1XNJCXS3EY  153.702407  105.622423  53.213749  27.036622  0.264109  2.790381   \n",
       "3DIXPRIOSW  147.733913  167.174157  48.299987  56.074955  0.705847  0.015762   \n",
       "48DZPAJ5NS  125.093648  125.944823  21.344768  20.440962  0.433347  0.122130   \n",
       "5PQVTWULAC  131.600807  113.511765  37.119034  28.851806  0.968724 -0.031928   \n",
       "\n",
       "            kurtosis_L  kurtosis_R  mean_hold_diff     mean_LL  ...   skew_RR  \\\n",
       "Users                                                           ...             \n",
       "0QAZFRHQHW    0.809259  126.796559       -2.652781  381.513699  ...  0.328537   \n",
       "1XNJCXS3EY    0.605739   23.913747       48.079984  347.882547  ... -0.284840   \n",
       "3DIXPRIOSW    0.625965    0.243456      -19.440244  486.421516  ... -0.842368   \n",
       "48DZPAJ5NS    5.116874    5.692705       -0.851175  300.190663  ... -0.052046   \n",
       "5PQVTWULAC    7.255120    0.777919       18.089043  347.886933  ...  0.348485   \n",
       "\n",
       "            kurtosis_LL  kurtosis_LR  kurtosis_RL  kurtosis_RR  \\\n",
       "Users                                                            \n",
       "0QAZFRHQHW    -0.852940    -1.147631    -1.000993    -0.522270   \n",
       "1XNJCXS3EY     1.946994    -0.715397    -0.723288     0.725222   \n",
       "3DIXPRIOSW     0.702029    -1.162515    -0.750796     0.818784   \n",
       "48DZPAJ5NS    -0.565283    -0.705773    -0.929929    -1.042327   \n",
       "5PQVTWULAC     1.542700    -0.364315     0.016987     0.084734   \n",
       "\n",
       "            mean_LR_RL_diff  mean_LL_RR_diff  Age  Gender  Parkinsons  \n",
       "Users                                                                  \n",
       "0QAZFRHQHW       -15.450894        37.458282   58       0           0  \n",
       "1XNJCXS3EY         2.742036        25.711714   81       1           0  \n",
       "3DIXPRIOSW        38.492587        32.060019   81       1           0  \n",
       "48DZPAJ5NS        14.221029       -32.314242   67       1           1  \n",
       "5PQVTWULAC        31.317026       -21.472215   74       0           1  \n",
       "\n",
       "[5 rows x 30 columns]"
      ]
     },
     "execution_count": 17,
     "metadata": {},
     "output_type": "execute_result"
    }
   ],
   "source": [
    "complete_df.set_index('Users', inplace = True)\n",
    "\n",
    "complete_df.head()"
   ]
  },
  {
   "cell_type": "markdown",
   "metadata": {},
   "source": [
    "### Preprocessing\n",
    "\n",
    "#### Train e test\n",
    "Si suddividono tutte le feature dal target, rappresentato dall'attributo Parkinsons.\n",
    "Poi divido la matrice x e l'array y in sottoinsiemi casuali sfruttando la funzione *train_test_split*."
   ]
  },
  {
   "cell_type": "code",
   "execution_count": 18,
   "metadata": {},
   "outputs": [
    {
     "name": "stdout",
     "output_type": "stream",
     "text": [
      "[[ 98.2407279  100.89350913  23.64519173 ...  37.45828196  58.\n",
      "    0.        ]\n",
      " [153.702407   105.62242315  53.21374903 ...  25.71171384  81.\n",
      "    1.        ]\n",
      " [147.73391304 167.1741573   48.29998681 ...  32.06001857  81.\n",
      "    1.        ]\n",
      " ...\n",
      " [101.62638772 113.74829833  44.00769261 ...  12.41033032  69.\n",
      "    1.        ]\n",
      " [146.04592179 143.39524618  35.36990282 ... -25.67312141  89.\n",
      "    1.        ]\n",
      " [131.02282292 122.02921979  64.96298389 ... -27.01565622  70.\n",
      "    0.        ]]\n",
      "[0 0 0 1 1 1 0 0 0 0 0 1 0 0 0 0 0 0 1 1 0 1 1 0 1 0 0 0 1 0 1 0 0 0 0 1 1\n",
      " 1 0 1 0 1 0 1 0 0 0 1]\n"
     ]
    }
   ],
   "source": [
    "x = complete_df.iloc[:, :-1].values\n",
    "y = complete_df.iloc[:, -1].values  # Parkinsons column\n",
    "\n",
    "print(x)\n",
    "print(y)\n",
    "\n",
    "# split x matrix and y array in random train and test subsets, with ratio 3/4 - 1/4\n",
    "x_train, x_test, y_train, y_test = train_test_split(x, y, test_size = 0.25)"
   ]
  },
  {
   "cell_type": "markdown",
   "metadata": {},
   "source": [
    "#### Scaling\n",
    "\n",
    "Scalare i dati serve a migliorare il comportamento degli algoritmi di learning, dal momento che i dati potrebbero avere valori di tipi diversi tra loro. Valori troppo grandi possono comportarsi da outlier e stravolgere il funzionamento di un algoritmo.\n",
    "\n",
    "Per scalare i dati si utilizza la normalizzazione attraverso lo *StandardScaler* offerto da sklearn, che normalizza le feature rimuovendo la media e scalando a varianza unitaria.\n",
    "\n",
    "Il valore normalizzato di x è calcolato come: $$x = \\frac{z-u}{S}$$"
   ]
  },
  {
   "cell_type": "code",
   "execution_count": 19,
   "metadata": {},
   "outputs": [],
   "source": [
    "# scaling before classification models\n",
    "scaler = StandardScaler()\n",
    "x_train = scaler.fit_transform(x_train)\n",
    "x_test = scaler.transform(x_test)\n",
    "# x_graph = scaler.fit_transform(x_graph)"
   ]
  },
  {
   "cell_type": "markdown",
   "metadata": {},
   "source": [
    "#### Bilanciamento\n",
    "Come già detto, il dataset risulta sbilanciato rispetto al target: il 62.5% delle osservazioni sono etichettate con 0 ('Negativo') mentre il 37.5% con 1 ('Positivo').\n",
    "\n",
    "SMOTE (Synthetic Minority Oversampling Technique): serve ad aumentare la dimensione della classe minoritaria creando dati sintetici, creati in base a formule e algoritmi di clustering sui dati presenti."
   ]
  },
  {
   "cell_type": "code",
   "execution_count": 20,
   "metadata": {},
   "outputs": [
    {
     "name": "stdout",
     "output_type": "stream",
     "text": [
      "(42, 29) (42,)\n",
      "[[-1.50812386 -1.38540073 -1.15851515 ... -0.43267143  0.44993677\n",
      "   0.89442719]\n",
      " [ 0.61643693 -0.35814141  3.75920391 ... -0.12550064  0.52036165\n",
      "   0.89442719]\n",
      " [ 1.80735646  1.97835169  0.32720373 ... -0.10518222 -0.60643651\n",
      "   0.89442719]\n",
      " ...\n",
      " [ 1.37554694  1.40550686  0.95594769 ...  1.45680472  0.29311098\n",
      "   0.78029453]\n",
      " [ 1.06869355  1.05327912  0.86490828 ...  1.12721465  0.23227984\n",
      "   0.34571698]\n",
      " [ 0.58495638  0.45160209  0.3094162  ...  0.25942947  0.06417283\n",
      "  -0.15675148]]\n"
     ]
    }
   ],
   "source": [
    "smote = SMOTE(random_state=0, sampling_strategy='not majority', k_neighbors=5, n_jobs=-1)\n",
    "\n",
    "x_train, y_train = smote.fit_resample(x_train, y_train)\n",
    "print(x_train.shape, y_train.shape)\n",
    "print(x_train)"
   ]
  },
  {
   "cell_type": "markdown",
   "metadata": {},
   "source": [
    "##### Istogramma che confronta utenti con e senza il morbo di Parkinson"
   ]
  },
  {
   "cell_type": "code",
   "execution_count": 21,
   "metadata": {},
   "outputs": [
    {
     "name": "stdout",
     "output_type": "stream",
     "text": [
      "[0 0 0 1 1 0 1 1 1 1 0 1 0 0 0 0 0 0 1 0 1 1 0 0 1 0 1 0 0 1 1 0 0 0 1 0 1\n",
      " 1 1 1 1 1]\n"
     ]
    },
    {
     "data": {
      "text/plain": [
       "(array([21.,  0.,  0.,  0.,  0.,  0.,  0.,  0.,  0., 21.]),\n",
       " array([0. , 0.1, 0.2, 0.3, 0.4, 0.5, 0.6, 0.7, 0.8, 0.9, 1. ]),\n",
       " <BarContainer object of 10 artists>)"
      ]
     },
     "execution_count": 21,
     "metadata": {},
     "output_type": "execute_result"
    },
    {
     "data": {
      "image/png": "[encoded data removed]",
      "text/plain": [
       "<Figure size 432x288 with 1 Axes>"
      ]
     },
     "metadata": {
      "needs_background": "light"
     },
     "output_type": "display_data"
    }
   ],
   "source": [
    "# verify that the classes are balanced\n",
    "print(y_train)\n",
    "np.histogram(y_train)\n",
    "plt.hist(y_train)"
   ]
  },
  {
   "cell_type": "markdown",
   "metadata": {},
   "source": [
    "### Classificazione"
   ]
  },
  {
   "cell_type": "markdown",
   "metadata": {},
   "source": [
    "#### Naive Bayes"
   ]
  },
  {
   "cell_type": "code",
   "execution_count": 32,
   "metadata": {},
   "outputs": [
    {
     "name": "stdout",
     "output_type": "stream",
     "text": [
      "0.7380952380952381\n",
      "0.5833333333333334\n"
     ]
    },
    {
     "data": {
      "image/png": "[encoded data removed]",
      "text/plain": [
       "<Figure size 432x288 with 2 Axes>"
      ]
     },
     "metadata": {
      "needs_background": "light"
     },
     "output_type": "display_data"
    },
    {
     "data": {
      "image/png": "[encoded data removed]",
      "text/plain": [
       "<Figure size 432x288 with 2 Axes>"
      ]
     },
     "metadata": {
      "needs_background": "light"
     },
     "output_type": "display_data"
    }
   ],
   "source": [
    "classifierBAYES = GaussianNB()\n",
    "classifierBAYES.fit(x_train, y_train)\n",
    "\n",
    "#The algorithm has learnt on training set, now I will predict the outcomes on test set\n",
    "\n",
    "y_pred_BAYES0 = classifierBAYES.predict(x_train)\n",
    "y_pred_BAYES = classifierBAYES.predict(x_test)\n",
    "\n",
    "CM_BAYES0 = confusion_matrix(y_train, y_pred_BAYES0)\n",
    "PercBAYES0 = (CM_BAYES0[0,0]+CM_BAYES0[1,1])/CM_BAYES0.sum()\n",
    "\n",
    "CM_BAYES = confusion_matrix(y_test, y_pred_BAYES)\n",
    "PercBAYES = (CM_BAYES[0,0]+CM_BAYES[1,1])/CM_BAYES.sum()\n",
    "\n",
    "# each row of the confusion matrix is an instance of the true class\n",
    "# matrix indicates true/false positive/negatives\n",
    "\n",
    "cmd0 = ConfusionMatrixDisplay(CM_BAYES0)\n",
    "cmd = ConfusionMatrixDisplay(CM_BAYES)\n",
    "cmd0.plot(cmap = \"Blues\")\n",
    "cmd.plot(cmap = \"Oranges\")\n",
    "\n",
    "print(PercBAYES0)\n",
    "print(PercBAYES)"
   ]
  },
  {
   "cell_type": "markdown",
   "metadata": {},
   "source": [
    "#### Logistic Regression"
   ]
  },
  {
   "cell_type": "code",
   "execution_count": 23,
   "metadata": {},
   "outputs": [
    {
     "name": "stdout",
     "output_type": "stream",
     "text": [
      "0.8809523809523809\n",
      "0.75\n"
     ]
    },
    {
     "data": {
      "image/png": "[encoded data removed]",
      "text/plain": [
       "<Figure size 432x288 with 2 Axes>"
      ]
     },
     "metadata": {
      "needs_background": "light"
     },
     "output_type": "display_data"
    },
    {
     "data": {
      "image/png": "[encoded data removed]",
      "text/plain": [
       "<Figure size 432x288 with 2 Axes>"
      ]
     },
     "metadata": {
      "needs_background": "light"
     },
     "output_type": "display_data"
    }
   ],
   "source": [
    "classifierLogReg = LogisticRegression(random_state = 0)\n",
    "classifierLogReg.fit(x_train, y_train)\n",
    "\n",
    "y_pred_LogReg0 = classifierLogReg.predict(x_train)\n",
    "y_pred_LogReg = classifierLogReg.predict(x_test)\n",
    "\n",
    "CM_LogReg0 = confusion_matrix(y_train, y_pred_LogReg0)\n",
    "PercLogReg0 = (CM_LogReg0[0,0]+CM_LogReg0[1,1])/CM_LogReg0.sum()\n",
    "\n",
    "CM_LogReg = confusion_matrix(y_test, y_pred_LogReg)\n",
    "PercLogReg = (CM_LogReg[0,0]+CM_LogReg[1,1])/CM_LogReg.sum()\n",
    "\n",
    "cmd0 = ConfusionMatrixDisplay(CM_LogReg0)\n",
    "cmd = ConfusionMatrixDisplay(CM_LogReg)\n",
    "\n",
    "cmd0.plot(cmap = \"Blues\")\n",
    "cmd.plot(cmap = \"Oranges\")\n",
    "\n",
    "print(PercLogReg0)\n",
    "print(PercLogReg)"
   ]
  },
  {
   "cell_type": "markdown",
   "metadata": {},
   "source": [
    "#### Decision Tree\n",
    "Il classificatore utilizzato è stato impostato con un criterio di misura della qualità dello split basato su _entropy_, una strategia _best_ di scelta dello split a ogni nodo (invece che random), e una profondità massima di 5, dal momento che questo valore è risultato il giusto compromesso tra complessità, velocità d'esecuzione e qualità di classificazione."
   ]
  },
  {
   "cell_type": "code",
   "execution_count": 24,
   "metadata": {},
   "outputs": [
    {
     "name": "stdout",
     "output_type": "stream",
     "text": [
      "1.0\n",
      "0.5\n"
     ]
    },
    {
     "data": {
      "image/png": "[encoded data removed]",
      "text/plain": [
       "<Figure size 432x288 with 2 Axes>"
      ]
     },
     "metadata": {
      "needs_background": "light"
     },
     "output_type": "display_data"
    },
    {
     "data": {
      "image/png": "[encoded data removed]",
      "text/plain": [
       "<Figure size 432x288 with 2 Axes>"
      ]
     },
     "metadata": {
      "needs_background": "light"
     },
     "output_type": "display_data"
    }
   ],
   "source": [
    "classifierTREE = DecisionTreeClassifier(criterion = 'entropy', splitter = \"best\", max_depth = 5, random_state = 0)\n",
    "classifierTREE.fit(x_train, y_train)\n",
    "\n",
    "y_pred_TREE = classifierTREE.predict(x_test)\n",
    "y_pred_TREE0 = classifierTREE.predict(x_train)\n",
    "\n",
    "CM_TREE0 = confusion_matrix(y_train, y_pred_TREE0)\n",
    "PercTREE0 = (CM_TREE0[0,0]+CM_TREE0[1,1])/CM_TREE0.sum()\n",
    "\n",
    "CM_TREE = confusion_matrix(y_test, y_pred_TREE)\n",
    "PercTREE = (CM_TREE[0,0]+CM_TREE[1,1])/CM_TREE.sum()\n",
    "\n",
    "cmd0 = ConfusionMatrixDisplay(CM_TREE0)\n",
    "cmd = ConfusionMatrixDisplay(CM_TREE)\n",
    "cmd0.plot(cmap = \"Blues\")\n",
    "cmd.plot(cmap = \"Oranges\")\n",
    "\n",
    "print(PercTREE0)\n",
    "print(PercTREE)"
   ]
  },
  {
   "cell_type": "markdown",
   "metadata": {},
   "source": [
    "#### Random Forest\n",
    "Così come nei decision tree, la scelta del criterio di valutazione della qualità dello split è ricaduta su _entropy_, mentre il numero di stimatori è stato impostato a 10, dal momento che si è notato che per valori più elevati i risultati rimanevano pressoché invariati."
   ]
  },
  {
   "cell_type": "code",
   "execution_count": 25,
   "metadata": {},
   "outputs": [
    {
     "name": "stdout",
     "output_type": "stream",
     "text": [
      "1.0\n",
      "0.9166666666666666\n"
     ]
    },
    {
     "data": {
      "image/png": "[encoded data removed]",
      "text/plain": [
       "<Figure size 432x288 with 2 Axes>"
      ]
     },
     "metadata": {
      "needs_background": "light"
     },
     "output_type": "display_data"
    },
    {
     "data": {
      "image/png": "[encoded data removed]",
      "text/plain": [
       "<Figure size 432x288 with 2 Axes>"
      ]
     },
     "metadata": {
      "needs_background": "light"
     },
     "output_type": "display_data"
    }
   ],
   "source": [
    "classifierFOR = RandomForestClassifier(n_estimators = 10, criterion = 'entropy', random_state = 0)\n",
    "classifierFOR.fit(x_train, y_train)\n",
    "\n",
    "y_pred_FOR0 = classifierFOR.predict(x_train)\n",
    "y_pred_FOR = classifierFOR.predict(x_test)\n",
    "\n",
    "CM_FOR0 = confusion_matrix(y_train, y_pred_FOR0)\n",
    "PercFOR0 = (CM_FOR0[0,0]+CM_FOR0[1,1])/CM_FOR0.sum()\n",
    "\n",
    "CM_FOR = confusion_matrix(y_test, y_pred_FOR)\n",
    "PercFOR = (CM_FOR[0,0]+CM_FOR[1,1])/CM_FOR.sum()\n",
    "\n",
    "cmd0 = ConfusionMatrixDisplay(CM_FOR0)\n",
    "cmd = ConfusionMatrixDisplay(CM_FOR)\n",
    "cmd0.plot(cmap = \"Blues\")\n",
    "cmd.plot(cmap = \"Oranges\")\n",
    "\n",
    "print(PercFOR0)\n",
    "print(PercFOR)"
   ]
  },
  {
   "cell_type": "markdown",
   "metadata": {},
   "source": [
    "#### Multiple Layer Perceptron\n",
    "Nella cella successiva è presente l'implementazione di una rete neurale elementare, con 3 layer di 10 percettroni ciascuno, e una funzione di attivazione di tipo relu.\n",
    "\n",
    "Questi valori dei paramentri sono sembrati i più adatti dopo diverse sperimentazioni."
   ]
  },
  {
   "cell_type": "code",
   "execution_count": 26,
   "metadata": {},
   "outputs": [
    {
     "name": "stdout",
     "output_type": "stream",
     "text": [
      "0.8809523809523809\n",
      "0.5833333333333334\n"
     ]
    },
    {
     "name": "stderr",
     "output_type": "stream",
     "text": [
      "c:\\Users\\tagli\\anaconda3\\lib\\site-packages\\sklearn\\neural_network\\_multilayer_perceptron.py:692: ConvergenceWarning: Stochastic Optimizer: Maximum iterations (50) reached and the optimization hasn't converged yet.\n",
      "  warnings.warn(\n"
     ]
    },
    {
     "data": {
      "image/png": "[encoded data removed]",
      "text/plain": [
       "<Figure size 432x288 with 2 Axes>"
      ]
     },
     "metadata": {
      "needs_background": "light"
     },
     "output_type": "display_data"
    },
    {
     "data": {
      "image/png": "[encoded data removed]",
      "text/plain": [
       "<Figure size 432x288 with 2 Axes>"
      ]
     },
     "metadata": {
      "needs_background": "light"
     },
     "output_type": "display_data"
    }
   ],
   "source": [
    "classifierMLPr = MLPClassifier(hidden_layer_sizes = (10, 10, 10), activation = \"relu\", max_iter=50)         # relu act\n",
    "# classifierMLPr = MLPClassifier(hidden_layer_sizes = (10, 10, 10), activation = \"tanh\", max_iter=50)         # tanh act\n",
    "# classifierMLPr = MLPClassifier(hidden_layer_sizes = (10, 10, 10), activation = \"identity\", max_iter=50)     # identity act\n",
    "# classifierMLPr = MLPClassifier(hidden_layer_sizes = (10, 10, 10), activation = \"logistic\", max_iter=50)     # logistic act\n",
    "\n",
    "classifierMLPr.fit(x_train, y_train)\n",
    "\n",
    "y_pred_MLPr0 = classifierMLPr.predict(x_train)\n",
    "y_pred_MLPr = classifierMLPr.predict(x_test)\n",
    "\n",
    "CM_MLPr0 = confusion_matrix(y_train, y_pred_MLPr0)\n",
    "PercMLPr0 = (CM_MLPr0[0,0] + CM_MLPr0[1,1])/CM_MLPr0.sum()\n",
    "\n",
    "CM_MLPr = confusion_matrix(y_test, y_pred_MLPr)\n",
    "PercMLPr = (CM_MLPr[0,0] + CM_MLPr[1,1])/CM_MLPr.sum()\n",
    "\n",
    "cmd0 = ConfusionMatrixDisplay(CM_MLPr0)\n",
    "cmd = ConfusionMatrixDisplay(CM_MLPr)\n",
    "cmd0.plot(cmap = \"Blues\")\n",
    "cmd.plot(cmap = \"Oranges\")\n",
    "\n",
    "print(PercMLPr0)\n",
    "print(PercMLPr)"
   ]
  },
  {
   "cell_type": "markdown",
   "metadata": {},
   "source": [
    "#### Adaboost\n",
    "\n",
    "In questa implementazione di Adaboost abbiamo usato la funzione _GridSearchCV_, che prende in input delle liste di parametri ed effettua una k-fold cross validation per l'addestramento con ogni singola combinazione dei parametri passati, per poi comunicare il risultato migliore e con quale configurazione è stato ottenuto.\n",
    "\n",
    "In particolare i parametri immessi in _GridSearchCV_ sono: una lista di numero di stimatori, una lista di learning rate da utilizzare, il numero di fold in cui splittare il training set e il numero di ripetizioni da effettuare.\n",
    "\n",
    "Infine, l'_AdaBoostClassifier_ utilizzato è quello di default, ovvero un decision tree con profondità 1 (ovvero uno stump)."
   ]
  },
  {
   "cell_type": "code",
   "execution_count": 27,
   "metadata": {},
   "outputs": [
    {
     "name": "stdout",
     "output_type": "stream",
     "text": [
      "Best: 0.651667 using {'learning_rate': 1, 'n_estimators': 200}\n",
      "0.470000 (0.169607) with: {'learning_rate': 0.001, 'n_estimators': 200}\n",
      "0.628333 (0.217057) with: {'learning_rate': 0.01, 'n_estimators': 200}\n",
      "0.625000 (0.209265) with: {'learning_rate': 0.1, 'n_estimators': 200}\n",
      "0.651667 (0.190824) with: {'learning_rate': 1, 'n_estimators': 200}\n"
     ]
    }
   ],
   "source": [
    "classifierADA = AdaBoostClassifier()\n",
    "\n",
    "grid = dict()\n",
    "grid['n_estimators'] = [200]\n",
    "grid['learning_rate'] = [.001, .01, .1, 1]\n",
    "\n",
    "# define the evaluation procedure\n",
    "cv = RepeatedStratifiedKFold(n_splits = 10, n_repeats = 3, random_state = 1)\n",
    "\n",
    "# define the grid search procedure\n",
    "grid_search = GridSearchCV(estimator = classifierADA, param_grid = grid, n_jobs = -1, cv = cv, scoring = 'accuracy')\n",
    "\n",
    "# execute the grid search\n",
    "grid_result = grid_search.fit(x_train, y_train)\n",
    "\n",
    "# summarize the best score and configuration\n",
    "print(\"Best: %f using %s\" % (grid_result.best_score_ , grid_result.best_params_))\n",
    "\n",
    "# summarize all scores that were evaluated\n",
    "means = grid_result.cv_results_['mean_test_score']\n",
    "stds = grid_result.cv_results_['std_test_score']\n",
    "params = grid_result.cv_results_['params']\n",
    "\n",
    "for mean, stdev, param in zip(means, stds, params):\n",
    "    print(\"%f (%f) with: %r\" % (mean, stdev, param))"
   ]
  },
  {
   "cell_type": "markdown",
   "metadata": {},
   "source": [
    "#### SVM \n",
    "La funzione kernel utilizzata è la radial basis function"
   ]
  },
  {
   "cell_type": "code",
   "execution_count": 28,
   "metadata": {},
   "outputs": [
    {
     "name": "stdout",
     "output_type": "stream",
     "text": [
      "0.8571428571428571\n",
      "0.6666666666666666\n"
     ]
    },
    {
     "data": {
      "image/png": "[encoded data removed]",
      "text/plain": [
       "<Figure size 432x288 with 2 Axes>"
      ]
     },
     "metadata": {
      "needs_background": "light"
     },
     "output_type": "display_data"
    },
    {
     "data": {
      "image/png": "[encoded data removed]",
      "text/plain": [
       "<Figure size 432x288 with 2 Axes>"
      ]
     },
     "metadata": {
      "needs_background": "light"
     },
     "output_type": "display_data"
    }
   ],
   "source": [
    "classifierSVC = SVC(kernel = 'rbf', random_state = 0)\n",
    "classifierSVC.fit(x_train, y_train)\n",
    "\n",
    "y_pred_SVMK0 = classifierSVC.predict(x_train)\n",
    "y_pred_SVMK = classifierSVC.predict(x_test)\n",
    "\n",
    "CM_SVMK0 = confusion_matrix(y_train, y_pred_SVMK0)\n",
    "PercSVMK0 = (CM_SVMK0[0,0]+CM_SVMK0[1,1])/CM_SVMK0.sum()\n",
    "\n",
    "CM_SVMK = confusion_matrix(y_test, y_pred_SVMK)\n",
    "PercSVMK = (CM_SVMK[0,0]+CM_SVMK[1,1])/CM_SVMK.sum()\n",
    "\n",
    "cmd0 = ConfusionMatrixDisplay(CM_SVMK0)\n",
    "cmd = ConfusionMatrixDisplay(CM_SVMK)\n",
    "cmd0.plot(cmap = \"Blues\")\n",
    "cmd.plot(cmap = \"Oranges\")\n",
    "\n",
    "print(PercSVMK0)\n",
    "print(PercSVMK)"
   ]
  },
  {
   "cell_type": "markdown",
   "metadata": {},
   "source": [
    "#### K-Nearest Neighbors\n",
    "Nella seguente implementazione dell'algoritmo KNN è stata utlizzata la metrica di Minkowski con paramentro p uguale a 2, che è sostanzialmente la distanza euclidea dei punti."
   ]
  },
  {
   "cell_type": "code",
   "execution_count": 30,
   "metadata": {},
   "outputs": [
    {
     "name": "stdout",
     "output_type": "stream",
     "text": [
      "0.6904761904761905\n",
      "0.6666666666666666\n"
     ]
    },
    {
     "data": {
      "image/png": "[encoded data removed]",
      "text/plain": [
       "<Figure size 432x288 with 2 Axes>"
      ]
     },
     "metadata": {
      "needs_background": "light"
     },
     "output_type": "display_data"
    },
    {
     "data": {
      "image/png": "[encoded data removed]",
      "text/plain": [
       "<Figure size 432x288 with 2 Axes>"
      ]
     },
     "metadata": {
      "needs_background": "light"
     },
     "output_type": "display_data"
    }
   ],
   "source": [
    "classifierKNN = KNeighborsClassifier(n_neighbors = 5, metric = 'minkowski', p = 2)\n",
    "classifierKNN.fit(x_train, y_train)\n",
    "\n",
    "y_pred_KNN0 = classifierKNN.predict(x_train)\n",
    "y_pred_KNN = classifierKNN.predict(x_test)\n",
    "\n",
    "CM_KNN0 = confusion_matrix(y_train, y_pred_KNN0)\n",
    "PercKNN0 = (CM_KNN0[0,0]+CM_KNN0[1,1])/CM_KNN0.sum()\n",
    "\n",
    "CM_KNN = confusion_matrix(y_test, y_pred_KNN)\n",
    "PercKNN = (CM_KNN[0,0]+CM_KNN[1,1])/CM_KNN.sum()\n",
    "\n",
    "cmd0 = ConfusionMatrixDisplay(CM_KNN0)\n",
    "cmd = ConfusionMatrixDisplay(CM_KNN)\n",
    "cmd0.plot(cmap = \"Blues\")\n",
    "cmd.plot(cmap = \"Oranges\")\n",
    "\n",
    "print(PercKNN0)\n",
    "print(PercKNN)"
   ]
  },
  {
   "cell_type": "markdown",
   "metadata": {},
   "source": [
    "#### Ensemble Voting\n",
    "Come ultimo algoritmo vengono messi insieme classificatori differenti seguendo il paradigma secondo cui la predizione è la _votazione_ di un comitato di decisori."
   ]
  },
  {
   "cell_type": "code",
   "execution_count": 31,
   "metadata": {},
   "outputs": [
    {
     "name": "stdout",
     "output_type": "stream",
     "text": [
      "0.8571428571428571\n",
      "0.6666666666666666\n"
     ]
    },
    {
     "data": {
      "image/png": "[encoded data removed]",
      "text/plain": [
       "<Figure size 432x288 with 2 Axes>"
      ]
     },
     "metadata": {
      "needs_background": "light"
     },
     "output_type": "display_data"
    },
    {
     "data": {
      "image/png": "[encoded data removed]",
      "text/plain": [
       "<Figure size 432x288 with 2 Axes>"
      ]
     },
     "metadata": {
      "needs_background": "light"
     },
     "output_type": "display_data"
    }
   ],
   "source": [
    "Models = []\n",
    "Models.append(('KNN', classifierKNN))\n",
    "Models.append(('SVC', classifierSVC))\n",
    "Models.append(('Tree', classifierTREE))\n",
    "# Models.append(('Logistic', classifierLogReg))\n",
    "# Models.append(('Bayes', classifierBAYES))\n",
    "\n",
    "# by removing these last two classifiers, performances increase\n",
    "\n",
    "ensemble = VotingClassifier(Models)\n",
    "ensemble = ensemble.fit(x_train, y_train)\n",
    "\n",
    "y_pred_ENS0 = ensemble.predict(x_train)\n",
    "y_pred_ENS = ensemble.predict(x_test)\n",
    "\n",
    "CM_ENS0 = confusion_matrix(y_train, y_pred_ENS0)\n",
    "PercENS0 = (CM_ENS0[0,0]+CM_ENS0[1,1])/CM_ENS0.sum()\n",
    "\n",
    "CM_ENS = confusion_matrix(y_test, y_pred_ENS)\n",
    "PercENS = (CM_ENS[0,0]+CM_ENS[1,1])/CM_ENS.sum()\n",
    "\n",
    "cmd0 = ConfusionMatrixDisplay(CM_ENS0)\n",
    "cmd = ConfusionMatrixDisplay(CM_ENS)\n",
    "cmd0.plot(cmap = \"Blues\")\n",
    "cmd.plot(cmap = \"Oranges\")\n",
    "\n",
    "print(PercENS0)\n",
    "print(PercENS)"
   ]
  },
  {
   "cell_type": "markdown",
   "metadata": {},
   "source": [
    "### Considerazioni v2\n",
    "Alla fine di questa seconda versione ci si è accorti immediatamente che i risultati di classificazione erano molto più scadenti della precedente: l'aggregazione di dati effettuata è stata probabilmente troppo elevata, e si è persa una gran parte di informazione. Quest'ultima asserzione è provata dal fatto che stavolta il dataset a disposizione era enormemente più piccolo del precedente."
   ]
  }
 ],
 "metadata": {
  "kernelspec": {
   "display_name": "Python 3.9.12 ('base')",
   "language": "python",
   "name": "python3"
  },
  "language_info": {
   "codemirror_mode": {
    "name": "ipython",
    "version": 3
   },
   "file_extension": ".py",
   "mimetype": "text/x-python",
   "name": "python",
   "nbconvert_exporter": "python",
   "pygments_lexer": "ipython3",
   "version": "3.9.12"
  },
  "orig_nbformat": 4,
  "vscode": {
   "interpreter": {
    "hash": "b304063b9b5915891955c97f76410147208ba9c12388cc88c2e2efd4c5613ee8"
   }
  }
 },
 "nbformat": 4,
 "nbformat_minor": 2
}
